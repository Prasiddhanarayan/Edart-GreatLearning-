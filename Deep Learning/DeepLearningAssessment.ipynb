{
 "cells": [
  {
   "cell_type": "code",
   "execution_count": 1,
   "id": "e1e60d2f",
   "metadata": {},
   "outputs": [],
   "source": [
    "import pandas as pd, numpy as np\n",
    "import tensorflow as tf\n",
    "\n",
    "from sklearn.model_selection import train_test_split\n",
    "from sklearn.metrics import classification_report"
   ]
  },
  {
   "cell_type": "code",
   "execution_count": 2,
   "id": "baa9b585",
   "metadata": {},
   "outputs": [],
   "source": [
    "import seaborn as sns"
   ]
  },
  {
   "cell_type": "markdown",
   "id": "1a2f784a",
   "metadata": {},
   "source": [
    "# Q1. Basic Data Understanding\n"
   ]
  },
  {
   "cell_type": "markdown",
   "id": "b0feff18",
   "metadata": {},
   "source": [
    "1.1 Read data from ‘reviews.csv’ and ‘products.csv’\n"
   ]
  },
  {
   "cell_type": "code",
   "execution_count": 3,
   "id": "1d3a0a46",
   "metadata": {},
   "outputs": [],
   "source": [
    "corp1 = pd.read_csv(r\"C:\\Users\\hp\\Desktop\\deep learning\\graded 2\\reviews.csv\")\n",
    "corp2 = pd.read_csv(r\"C:\\Users\\hp\\Desktop\\deep learning\\graded 2\\product_data.csv\")\n"
   ]
  },
  {
   "cell_type": "code",
   "execution_count": 4,
   "id": "299c9bba",
   "metadata": {},
   "outputs": [
    {
     "data": {
      "text/html": [
       "<div>\n",
       "<style scoped>\n",
       "    .dataframe tbody tr th:only-of-type {\n",
       "        vertical-align: middle;\n",
       "    }\n",
       "\n",
       "    .dataframe tbody tr th {\n",
       "        vertical-align: top;\n",
       "    }\n",
       "\n",
       "    .dataframe thead th {\n",
       "        text-align: right;\n",
       "    }\n",
       "</style>\n",
       "<table border=\"1\" class=\"dataframe\">\n",
       "  <thead>\n",
       "    <tr style=\"text-align: right;\">\n",
       "      <th></th>\n",
       "      <th>asin</th>\n",
       "      <th>name</th>\n",
       "      <th>rating</th>\n",
       "      <th>date</th>\n",
       "      <th>verified</th>\n",
       "      <th>title</th>\n",
       "      <th>body</th>\n",
       "      <th>helpfulVotes</th>\n",
       "    </tr>\n",
       "  </thead>\n",
       "  <tbody>\n",
       "    <tr>\n",
       "      <th>0</th>\n",
       "      <td>B0000SX2UC</td>\n",
       "      <td>Janet</td>\n",
       "      <td>3</td>\n",
       "      <td>October 11, 2005</td>\n",
       "      <td>False</td>\n",
       "      <td>Def not best, but not worst</td>\n",
       "      <td>I had the Samsung A600 for awhile which is abs...</td>\n",
       "      <td>1.0</td>\n",
       "    </tr>\n",
       "    <tr>\n",
       "      <th>1</th>\n",
       "      <td>B0000SX2UC</td>\n",
       "      <td>Luke Wyatt</td>\n",
       "      <td>1</td>\n",
       "      <td>January 7, 2004</td>\n",
       "      <td>False</td>\n",
       "      <td>Text Messaging Doesn't Work</td>\n",
       "      <td>Due to a software issue between Nokia and Spri...</td>\n",
       "      <td>17.0</td>\n",
       "    </tr>\n",
       "    <tr>\n",
       "      <th>2</th>\n",
       "      <td>B0000SX2UC</td>\n",
       "      <td>Brooke</td>\n",
       "      <td>5</td>\n",
       "      <td>December 30, 2003</td>\n",
       "      <td>False</td>\n",
       "      <td>Love This Phone</td>\n",
       "      <td>This is a great, reliable phone. I also purcha...</td>\n",
       "      <td>5.0</td>\n",
       "    </tr>\n",
       "  </tbody>\n",
       "</table>\n",
       "</div>"
      ],
      "text/plain": [
       "         asin        name  rating               date  verified  \\\n",
       "0  B0000SX2UC       Janet       3   October 11, 2005     False   \n",
       "1  B0000SX2UC  Luke Wyatt       1    January 7, 2004     False   \n",
       "2  B0000SX2UC      Brooke       5  December 30, 2003     False   \n",
       "\n",
       "                         title  \\\n",
       "0  Def not best, but not worst   \n",
       "1  Text Messaging Doesn't Work   \n",
       "2              Love This Phone   \n",
       "\n",
       "                                                body  helpfulVotes  \n",
       "0  I had the Samsung A600 for awhile which is abs...           1.0  \n",
       "1  Due to a software issue between Nokia and Spri...          17.0  \n",
       "2  This is a great, reliable phone. I also purcha...           5.0  "
      ]
     },
     "execution_count": 4,
     "metadata": {},
     "output_type": "execute_result"
    }
   ],
   "source": [
    "corp1.head(3)"
   ]
  },
  {
   "cell_type": "code",
   "execution_count": 5,
   "id": "1e0bbda7",
   "metadata": {},
   "outputs": [
    {
     "data": {
      "text/html": [
       "<div>\n",
       "<style scoped>\n",
       "    .dataframe tbody tr th:only-of-type {\n",
       "        vertical-align: middle;\n",
       "    }\n",
       "\n",
       "    .dataframe tbody tr th {\n",
       "        vertical-align: top;\n",
       "    }\n",
       "\n",
       "    .dataframe thead th {\n",
       "        text-align: right;\n",
       "    }\n",
       "</style>\n",
       "<table border=\"1\" class=\"dataframe\">\n",
       "  <thead>\n",
       "    <tr style=\"text-align: right;\">\n",
       "      <th></th>\n",
       "      <th>asin</th>\n",
       "      <th>brand</th>\n",
       "      <th>title</th>\n",
       "      <th>url</th>\n",
       "      <th>image</th>\n",
       "      <th>rating</th>\n",
       "      <th>reviewUrl</th>\n",
       "      <th>totalReviews</th>\n",
       "      <th>price</th>\n",
       "      <th>originalPrice</th>\n",
       "    </tr>\n",
       "  </thead>\n",
       "  <tbody>\n",
       "    <tr>\n",
       "      <th>0</th>\n",
       "      <td>B0000SX2UC</td>\n",
       "      <td>NaN</td>\n",
       "      <td>Dual-Band / Tri-Mode Sprint PCS Phone w/ Voice...</td>\n",
       "      <td>https://www.amazon.com/Dual-Band-Tri-Mode-Acti...</td>\n",
       "      <td>https://m.media-amazon.com/images/I/2143EBQ210...</td>\n",
       "      <td>3.0</td>\n",
       "      <td>https://www.amazon.com/product-reviews/B0000SX2UC</td>\n",
       "      <td>14</td>\n",
       "      <td>0.00</td>\n",
       "      <td>0.0</td>\n",
       "    </tr>\n",
       "    <tr>\n",
       "      <th>1</th>\n",
       "      <td>B0009N5L7K</td>\n",
       "      <td>Motorola</td>\n",
       "      <td>Motorola I265 phone</td>\n",
       "      <td>https://www.amazon.com/Motorola-i265-I265-phon...</td>\n",
       "      <td>https://m.media-amazon.com/images/I/419WBAVDAR...</td>\n",
       "      <td>3.0</td>\n",
       "      <td>https://www.amazon.com/product-reviews/B0009N5L7K</td>\n",
       "      <td>7</td>\n",
       "      <td>49.95</td>\n",
       "      <td>0.0</td>\n",
       "    </tr>\n",
       "    <tr>\n",
       "      <th>2</th>\n",
       "      <td>B000SKTZ0S</td>\n",
       "      <td>Motorola</td>\n",
       "      <td>MOTOROLA C168i AT&amp;T CINGULAR PREPAID GOPHONE C...</td>\n",
       "      <td>https://www.amazon.com/MOTOROLA-C168i-CINGULAR...</td>\n",
       "      <td>https://m.media-amazon.com/images/I/71b+q3ydkI...</td>\n",
       "      <td>2.7</td>\n",
       "      <td>https://www.amazon.com/product-reviews/B000SKTZ0S</td>\n",
       "      <td>22</td>\n",
       "      <td>99.99</td>\n",
       "      <td>0.0</td>\n",
       "    </tr>\n",
       "  </tbody>\n",
       "</table>\n",
       "</div>"
      ],
      "text/plain": [
       "         asin     brand                                              title  \\\n",
       "0  B0000SX2UC       NaN  Dual-Band / Tri-Mode Sprint PCS Phone w/ Voice...   \n",
       "1  B0009N5L7K  Motorola                                Motorola I265 phone   \n",
       "2  B000SKTZ0S  Motorola  MOTOROLA C168i AT&T CINGULAR PREPAID GOPHONE C...   \n",
       "\n",
       "                                                 url  \\\n",
       "0  https://www.amazon.com/Dual-Band-Tri-Mode-Acti...   \n",
       "1  https://www.amazon.com/Motorola-i265-I265-phon...   \n",
       "2  https://www.amazon.com/MOTOROLA-C168i-CINGULAR...   \n",
       "\n",
       "                                               image  rating  \\\n",
       "0  https://m.media-amazon.com/images/I/2143EBQ210...     3.0   \n",
       "1  https://m.media-amazon.com/images/I/419WBAVDAR...     3.0   \n",
       "2  https://m.media-amazon.com/images/I/71b+q3ydkI...     2.7   \n",
       "\n",
       "                                           reviewUrl  totalReviews  price  \\\n",
       "0  https://www.amazon.com/product-reviews/B0000SX2UC            14   0.00   \n",
       "1  https://www.amazon.com/product-reviews/B0009N5L7K             7  49.95   \n",
       "2  https://www.amazon.com/product-reviews/B000SKTZ0S            22  99.99   \n",
       "\n",
       "   originalPrice  \n",
       "0            0.0  \n",
       "1            0.0  \n",
       "2            0.0  "
      ]
     },
     "execution_count": 5,
     "metadata": {},
     "output_type": "execute_result"
    }
   ],
   "source": [
    "corp2.head(3)"
   ]
  },
  {
   "cell_type": "markdown",
   "id": "1b1491b6",
   "metadata": {},
   "source": [
    "1.2 Print shape of both the dataframes"
   ]
  },
  {
   "cell_type": "code",
   "execution_count": 6,
   "id": "6e15cd2d",
   "metadata": {},
   "outputs": [
    {
     "data": {
      "text/plain": [
       "(67986, 8)"
      ]
     },
     "execution_count": 6,
     "metadata": {},
     "output_type": "execute_result"
    }
   ],
   "source": [
    "corp1.shape"
   ]
  },
  {
   "cell_type": "code",
   "execution_count": 7,
   "id": "84336433",
   "metadata": {},
   "outputs": [
    {
     "data": {
      "text/plain": [
       "(720, 10)"
      ]
     },
     "execution_count": 7,
     "metadata": {},
     "output_type": "execute_result"
    }
   ],
   "source": [
    "corp2.shape"
   ]
  },
  {
   "cell_type": "markdown",
   "id": "51b9c304",
   "metadata": {},
   "source": [
    "1.3 Print types of columns for both the dataframes"
   ]
  },
  {
   "cell_type": "code",
   "execution_count": 8,
   "id": "ab037250",
   "metadata": {},
   "outputs": [
    {
     "data": {
      "text/plain": [
       "asin             object\n",
       "name             object\n",
       "rating            int64\n",
       "date             object\n",
       "verified           bool\n",
       "title            object\n",
       "body             object\n",
       "helpfulVotes    float64\n",
       "dtype: object"
      ]
     },
     "execution_count": 8,
     "metadata": {},
     "output_type": "execute_result"
    }
   ],
   "source": [
    "corp1.dtypes"
   ]
  },
  {
   "cell_type": "code",
   "execution_count": 9,
   "id": "ed2dc6eb",
   "metadata": {},
   "outputs": [
    {
     "data": {
      "text/plain": [
       "asin              object\n",
       "brand             object\n",
       "title             object\n",
       "url               object\n",
       "image             object\n",
       "rating           float64\n",
       "reviewUrl         object\n",
       "totalReviews       int64\n",
       "price            float64\n",
       "originalPrice    float64\n",
       "dtype: object"
      ]
     },
     "execution_count": 9,
     "metadata": {},
     "output_type": "execute_result"
    }
   ],
   "source": [
    "corp2.dtypes"
   ]
  },
  {
   "cell_type": "markdown",
   "id": "776712d1",
   "metadata": {},
   "source": [
    "# Q2. Basic Data Analysis [20 Marks]"
   ]
  },
  {
   "cell_type": "markdown",
   "id": "60f3f609",
   "metadata": {},
   "source": [
    "2.1 Drop all columns except: asin, rating, title, body from reviews And Drop all columns except: asin, brand from products [3 Marks]"
   ]
  },
  {
   "cell_type": "code",
   "execution_count": 10,
   "id": "8b3fd4d3",
   "metadata": {},
   "outputs": [],
   "source": [
    "corp1.drop(['name', 'date','verified','helpfulVotes'], axis=1, inplace=True)"
   ]
  },
  {
   "cell_type": "code",
   "execution_count": 11,
   "id": "ffa7d6e0",
   "metadata": {},
   "outputs": [],
   "source": [
    "corp2.drop(['title','url','image','rating','reviewUrl','totalReviews','price','originalPrice'], axis=1, inplace=True)"
   ]
  },
  {
   "cell_type": "code",
   "execution_count": 12,
   "id": "1658a39e",
   "metadata": {},
   "outputs": [
    {
     "data": {
      "text/html": [
       "<div>\n",
       "<style scoped>\n",
       "    .dataframe tbody tr th:only-of-type {\n",
       "        vertical-align: middle;\n",
       "    }\n",
       "\n",
       "    .dataframe tbody tr th {\n",
       "        vertical-align: top;\n",
       "    }\n",
       "\n",
       "    .dataframe thead th {\n",
       "        text-align: right;\n",
       "    }\n",
       "</style>\n",
       "<table border=\"1\" class=\"dataframe\">\n",
       "  <thead>\n",
       "    <tr style=\"text-align: right;\">\n",
       "      <th></th>\n",
       "      <th>asin</th>\n",
       "      <th>rating</th>\n",
       "      <th>title</th>\n",
       "      <th>body</th>\n",
       "    </tr>\n",
       "  </thead>\n",
       "  <tbody>\n",
       "    <tr>\n",
       "      <th>0</th>\n",
       "      <td>B0000SX2UC</td>\n",
       "      <td>3</td>\n",
       "      <td>Def not best, but not worst</td>\n",
       "      <td>I had the Samsung A600 for awhile which is abs...</td>\n",
       "    </tr>\n",
       "    <tr>\n",
       "      <th>1</th>\n",
       "      <td>B0000SX2UC</td>\n",
       "      <td>1</td>\n",
       "      <td>Text Messaging Doesn't Work</td>\n",
       "      <td>Due to a software issue between Nokia and Spri...</td>\n",
       "    </tr>\n",
       "    <tr>\n",
       "      <th>2</th>\n",
       "      <td>B0000SX2UC</td>\n",
       "      <td>5</td>\n",
       "      <td>Love This Phone</td>\n",
       "      <td>This is a great, reliable phone. I also purcha...</td>\n",
       "    </tr>\n",
       "  </tbody>\n",
       "</table>\n",
       "</div>"
      ],
      "text/plain": [
       "         asin  rating                        title  \\\n",
       "0  B0000SX2UC       3  Def not best, but not worst   \n",
       "1  B0000SX2UC       1  Text Messaging Doesn't Work   \n",
       "2  B0000SX2UC       5              Love This Phone   \n",
       "\n",
       "                                                body  \n",
       "0  I had the Samsung A600 for awhile which is abs...  \n",
       "1  Due to a software issue between Nokia and Spri...  \n",
       "2  This is a great, reliable phone. I also purcha...  "
      ]
     },
     "execution_count": 12,
     "metadata": {},
     "output_type": "execute_result"
    }
   ],
   "source": [
    "corp1.head(3)"
   ]
  },
  {
   "cell_type": "code",
   "execution_count": 13,
   "id": "ede87da6",
   "metadata": {},
   "outputs": [
    {
     "data": {
      "text/html": [
       "<div>\n",
       "<style scoped>\n",
       "    .dataframe tbody tr th:only-of-type {\n",
       "        vertical-align: middle;\n",
       "    }\n",
       "\n",
       "    .dataframe tbody tr th {\n",
       "        vertical-align: top;\n",
       "    }\n",
       "\n",
       "    .dataframe thead th {\n",
       "        text-align: right;\n",
       "    }\n",
       "</style>\n",
       "<table border=\"1\" class=\"dataframe\">\n",
       "  <thead>\n",
       "    <tr style=\"text-align: right;\">\n",
       "      <th></th>\n",
       "      <th>asin</th>\n",
       "      <th>brand</th>\n",
       "    </tr>\n",
       "  </thead>\n",
       "  <tbody>\n",
       "    <tr>\n",
       "      <th>0</th>\n",
       "      <td>B0000SX2UC</td>\n",
       "      <td>NaN</td>\n",
       "    </tr>\n",
       "    <tr>\n",
       "      <th>1</th>\n",
       "      <td>B0009N5L7K</td>\n",
       "      <td>Motorola</td>\n",
       "    </tr>\n",
       "    <tr>\n",
       "      <th>2</th>\n",
       "      <td>B000SKTZ0S</td>\n",
       "      <td>Motorola</td>\n",
       "    </tr>\n",
       "  </tbody>\n",
       "</table>\n",
       "</div>"
      ],
      "text/plain": [
       "         asin     brand\n",
       "0  B0000SX2UC       NaN\n",
       "1  B0009N5L7K  Motorola\n",
       "2  B000SKTZ0S  Motorola"
      ]
     },
     "execution_count": 13,
     "metadata": {},
     "output_type": "execute_result"
    }
   ],
   "source": [
    "corp2.head(3)"
   ]
  },
  {
   "cell_type": "markdown",
   "id": "78b6ff1f",
   "metadata": {},
   "source": [
    "2.2 Verify and drop all null values from both the tables [3 Marks]"
   ]
  },
  {
   "cell_type": "code",
   "execution_count": 14,
   "id": "fe2bee95",
   "metadata": {},
   "outputs": [
    {
     "data": {
      "text/plain": [
       "asin       0\n",
       "rating     0\n",
       "title     14\n",
       "body      21\n",
       "dtype: int64"
      ]
     },
     "execution_count": 14,
     "metadata": {},
     "output_type": "execute_result"
    }
   ],
   "source": [
    "corp1.isnull().sum()"
   ]
  },
  {
   "cell_type": "code",
   "execution_count": 15,
   "id": "d41ce6d4",
   "metadata": {},
   "outputs": [
    {
     "data": {
      "text/plain": [
       "asin     0\n",
       "brand    4\n",
       "dtype: int64"
      ]
     },
     "execution_count": 15,
     "metadata": {},
     "output_type": "execute_result"
    }
   ],
   "source": [
    "corp2.isnull().sum()"
   ]
  },
  {
   "cell_type": "code",
   "execution_count": 16,
   "id": "04bba16f",
   "metadata": {},
   "outputs": [],
   "source": [
    "corp1.dropna(inplace=True)"
   ]
  },
  {
   "cell_type": "code",
   "execution_count": 17,
   "id": "19e93602",
   "metadata": {},
   "outputs": [],
   "source": [
    "corp2.dropna(inplace=True)"
   ]
  },
  {
   "cell_type": "markdown",
   "id": "f4bc70c1",
   "metadata": {},
   "source": [
    "2.3 Merge both the tables on key ‘asin’ [3 Marks]"
   ]
  },
  {
   "cell_type": "code",
   "execution_count": 18,
   "id": "3243af6c",
   "metadata": {},
   "outputs": [
    {
     "data": {
      "text/html": [
       "<div>\n",
       "<style scoped>\n",
       "    .dataframe tbody tr th:only-of-type {\n",
       "        vertical-align: middle;\n",
       "    }\n",
       "\n",
       "    .dataframe tbody tr th {\n",
       "        vertical-align: top;\n",
       "    }\n",
       "\n",
       "    .dataframe thead th {\n",
       "        text-align: right;\n",
       "    }\n",
       "</style>\n",
       "<table border=\"1\" class=\"dataframe\">\n",
       "  <thead>\n",
       "    <tr style=\"text-align: right;\">\n",
       "      <th></th>\n",
       "      <th>asin</th>\n",
       "      <th>rating</th>\n",
       "      <th>title</th>\n",
       "      <th>body</th>\n",
       "    </tr>\n",
       "  </thead>\n",
       "  <tbody>\n",
       "    <tr>\n",
       "      <th>0</th>\n",
       "      <td>B0000SX2UC</td>\n",
       "      <td>3</td>\n",
       "      <td>Def not best, but not worst</td>\n",
       "      <td>I had the Samsung A600 for awhile which is abs...</td>\n",
       "    </tr>\n",
       "    <tr>\n",
       "      <th>1</th>\n",
       "      <td>B0000SX2UC</td>\n",
       "      <td>1</td>\n",
       "      <td>Text Messaging Doesn't Work</td>\n",
       "      <td>Due to a software issue between Nokia and Spri...</td>\n",
       "    </tr>\n",
       "    <tr>\n",
       "      <th>2</th>\n",
       "      <td>B0000SX2UC</td>\n",
       "      <td>5</td>\n",
       "      <td>Love This Phone</td>\n",
       "      <td>This is a great, reliable phone. I also purcha...</td>\n",
       "    </tr>\n",
       "    <tr>\n",
       "      <th>3</th>\n",
       "      <td>B0000SX2UC</td>\n",
       "      <td>3</td>\n",
       "      <td>Love the Phone, BUT...!</td>\n",
       "      <td>I love the phone and all, because I really did...</td>\n",
       "    </tr>\n",
       "    <tr>\n",
       "      <th>4</th>\n",
       "      <td>B0000SX2UC</td>\n",
       "      <td>4</td>\n",
       "      <td>Great phone service and options, lousy case!</td>\n",
       "      <td>The phone has been great for every purpose it ...</td>\n",
       "    </tr>\n",
       "  </tbody>\n",
       "</table>\n",
       "</div>"
      ],
      "text/plain": [
       "         asin  rating                                         title  \\\n",
       "0  B0000SX2UC       3                   Def not best, but not worst   \n",
       "1  B0000SX2UC       1                   Text Messaging Doesn't Work   \n",
       "2  B0000SX2UC       5                               Love This Phone   \n",
       "3  B0000SX2UC       3                       Love the Phone, BUT...!   \n",
       "4  B0000SX2UC       4  Great phone service and options, lousy case!   \n",
       "\n",
       "                                                body  \n",
       "0  I had the Samsung A600 for awhile which is abs...  \n",
       "1  Due to a software issue between Nokia and Spri...  \n",
       "2  This is a great, reliable phone. I also purcha...  \n",
       "3  I love the phone and all, because I really did...  \n",
       "4  The phone has been great for every purpose it ...  "
      ]
     },
     "execution_count": 18,
     "metadata": {},
     "output_type": "execute_result"
    }
   ],
   "source": [
    "corp1.head()"
   ]
  },
  {
   "cell_type": "code",
   "execution_count": 19,
   "id": "4f3014c4",
   "metadata": {},
   "outputs": [
    {
     "data": {
      "text/html": [
       "<div>\n",
       "<style scoped>\n",
       "    .dataframe tbody tr th:only-of-type {\n",
       "        vertical-align: middle;\n",
       "    }\n",
       "\n",
       "    .dataframe tbody tr th {\n",
       "        vertical-align: top;\n",
       "    }\n",
       "\n",
       "    .dataframe thead th {\n",
       "        text-align: right;\n",
       "    }\n",
       "</style>\n",
       "<table border=\"1\" class=\"dataframe\">\n",
       "  <thead>\n",
       "    <tr style=\"text-align: right;\">\n",
       "      <th></th>\n",
       "      <th>asin</th>\n",
       "      <th>brand</th>\n",
       "    </tr>\n",
       "  </thead>\n",
       "  <tbody>\n",
       "    <tr>\n",
       "      <th>1</th>\n",
       "      <td>B0009N5L7K</td>\n",
       "      <td>Motorola</td>\n",
       "    </tr>\n",
       "    <tr>\n",
       "      <th>2</th>\n",
       "      <td>B000SKTZ0S</td>\n",
       "      <td>Motorola</td>\n",
       "    </tr>\n",
       "    <tr>\n",
       "      <th>3</th>\n",
       "      <td>B001AO4OUC</td>\n",
       "      <td>Motorola</td>\n",
       "    </tr>\n",
       "    <tr>\n",
       "      <th>4</th>\n",
       "      <td>B001DCJAJG</td>\n",
       "      <td>Motorola</td>\n",
       "    </tr>\n",
       "    <tr>\n",
       "      <th>5</th>\n",
       "      <td>B001GQ3DJM</td>\n",
       "      <td>Nokia</td>\n",
       "    </tr>\n",
       "  </tbody>\n",
       "</table>\n",
       "</div>"
      ],
      "text/plain": [
       "         asin     brand\n",
       "1  B0009N5L7K  Motorola\n",
       "2  B000SKTZ0S  Motorola\n",
       "3  B001AO4OUC  Motorola\n",
       "4  B001DCJAJG  Motorola\n",
       "5  B001GQ3DJM     Nokia"
      ]
     },
     "execution_count": 19,
     "metadata": {},
     "output_type": "execute_result"
    }
   ],
   "source": [
    "corp2.head()"
   ]
  },
  {
   "cell_type": "code",
   "execution_count": 20,
   "id": "873bc56f",
   "metadata": {},
   "outputs": [],
   "source": [
    "corp=pd.merge(corp1, corp2, on='asin')"
   ]
  },
  {
   "cell_type": "code",
   "execution_count": 21,
   "id": "5f5b76b4",
   "metadata": {},
   "outputs": [
    {
     "data": {
      "text/html": [
       "<div>\n",
       "<style scoped>\n",
       "    .dataframe tbody tr th:only-of-type {\n",
       "        vertical-align: middle;\n",
       "    }\n",
       "\n",
       "    .dataframe tbody tr th {\n",
       "        vertical-align: top;\n",
       "    }\n",
       "\n",
       "    .dataframe thead th {\n",
       "        text-align: right;\n",
       "    }\n",
       "</style>\n",
       "<table border=\"1\" class=\"dataframe\">\n",
       "  <thead>\n",
       "    <tr style=\"text-align: right;\">\n",
       "      <th></th>\n",
       "      <th>asin</th>\n",
       "      <th>rating</th>\n",
       "      <th>title</th>\n",
       "      <th>body</th>\n",
       "      <th>brand</th>\n",
       "    </tr>\n",
       "  </thead>\n",
       "  <tbody>\n",
       "    <tr>\n",
       "      <th>0</th>\n",
       "      <td>B0009N5L7K</td>\n",
       "      <td>1</td>\n",
       "      <td>Stupid phone</td>\n",
       "      <td>DON'T BUY OUT OF SERVICE</td>\n",
       "      <td>Motorola</td>\n",
       "    </tr>\n",
       "    <tr>\n",
       "      <th>1</th>\n",
       "      <td>B0009N5L7K</td>\n",
       "      <td>4</td>\n",
       "      <td>Exellent Service</td>\n",
       "      <td>I have been with nextel for nearly a year now ...</td>\n",
       "      <td>Motorola</td>\n",
       "    </tr>\n",
       "    <tr>\n",
       "      <th>2</th>\n",
       "      <td>B0009N5L7K</td>\n",
       "      <td>5</td>\n",
       "      <td>I love it</td>\n",
       "      <td>I just got it and have to say its easy to use,...</td>\n",
       "      <td>Motorola</td>\n",
       "    </tr>\n",
       "    <tr>\n",
       "      <th>3</th>\n",
       "      <td>B0009N5L7K</td>\n",
       "      <td>1</td>\n",
       "      <td>Phones locked</td>\n",
       "      <td>1 star because the phones locked so I have to ...</td>\n",
       "      <td>Motorola</td>\n",
       "    </tr>\n",
       "    <tr>\n",
       "      <th>4</th>\n",
       "      <td>B0009N5L7K</td>\n",
       "      <td>5</td>\n",
       "      <td>Excellent product</td>\n",
       "      <td>The product has been very good. I had used thi...</td>\n",
       "      <td>Motorola</td>\n",
       "    </tr>\n",
       "  </tbody>\n",
       "</table>\n",
       "</div>"
      ],
      "text/plain": [
       "         asin  rating              title  \\\n",
       "0  B0009N5L7K       1       Stupid phone   \n",
       "1  B0009N5L7K       4   Exellent Service   \n",
       "2  B0009N5L7K       5          I love it   \n",
       "3  B0009N5L7K       1      Phones locked   \n",
       "4  B0009N5L7K       5  Excellent product   \n",
       "\n",
       "                                                body     brand  \n",
       "0                           DON'T BUY OUT OF SERVICE  Motorola  \n",
       "1  I have been with nextel for nearly a year now ...  Motorola  \n",
       "2  I just got it and have to say its easy to use,...  Motorola  \n",
       "3  1 star because the phones locked so I have to ...  Motorola  \n",
       "4  The product has been very good. I had used thi...  Motorola  "
      ]
     },
     "execution_count": 21,
     "metadata": {},
     "output_type": "execute_result"
    }
   ],
   "source": [
    "corp.head()"
   ]
  },
  {
   "cell_type": "markdown",
   "id": "66ace7de",
   "metadata": {},
   "source": [
    "2.3 Check the statistical summary of ‘rating’ and share insights [2 Marks]\n"
   ]
  },
  {
   "cell_type": "code",
   "execution_count": 22,
   "id": "7ce403ca",
   "metadata": {},
   "outputs": [
    {
     "data": {
      "text/html": [
       "<div>\n",
       "<style scoped>\n",
       "    .dataframe tbody tr th:only-of-type {\n",
       "        vertical-align: middle;\n",
       "    }\n",
       "\n",
       "    .dataframe tbody tr th {\n",
       "        vertical-align: top;\n",
       "    }\n",
       "\n",
       "    .dataframe thead th {\n",
       "        text-align: right;\n",
       "    }\n",
       "</style>\n",
       "<table border=\"1\" class=\"dataframe\">\n",
       "  <thead>\n",
       "    <tr style=\"text-align: right;\">\n",
       "      <th></th>\n",
       "      <th>rating</th>\n",
       "    </tr>\n",
       "  </thead>\n",
       "  <tbody>\n",
       "    <tr>\n",
       "      <th>count</th>\n",
       "      <td>67756.000000</td>\n",
       "    </tr>\n",
       "    <tr>\n",
       "      <th>mean</th>\n",
       "      <td>3.807840</td>\n",
       "    </tr>\n",
       "    <tr>\n",
       "      <th>std</th>\n",
       "      <td>1.583129</td>\n",
       "    </tr>\n",
       "    <tr>\n",
       "      <th>min</th>\n",
       "      <td>1.000000</td>\n",
       "    </tr>\n",
       "    <tr>\n",
       "      <th>25%</th>\n",
       "      <td>3.000000</td>\n",
       "    </tr>\n",
       "    <tr>\n",
       "      <th>50%</th>\n",
       "      <td>5.000000</td>\n",
       "    </tr>\n",
       "    <tr>\n",
       "      <th>75%</th>\n",
       "      <td>5.000000</td>\n",
       "    </tr>\n",
       "    <tr>\n",
       "      <th>max</th>\n",
       "      <td>5.000000</td>\n",
       "    </tr>\n",
       "  </tbody>\n",
       "</table>\n",
       "</div>"
      ],
      "text/plain": [
       "             rating\n",
       "count  67756.000000\n",
       "mean       3.807840\n",
       "std        1.583129\n",
       "min        1.000000\n",
       "25%        3.000000\n",
       "50%        5.000000\n",
       "75%        5.000000\n",
       "max        5.000000"
      ]
     },
     "execution_count": 22,
     "metadata": {},
     "output_type": "execute_result"
    }
   ],
   "source": [
    "corp.describe()"
   ]
  },
  {
   "cell_type": "code",
   "execution_count": 23,
   "id": "ad891db1",
   "metadata": {},
   "outputs": [
    {
     "data": {
      "text/plain": [
       "5    37630\n",
       "1    12708\n",
       "4     8786\n",
       "3     4738\n",
       "2     3894\n",
       "Name: rating, dtype: int64"
      ]
     },
     "execution_count": 23,
     "metadata": {},
     "output_type": "execute_result"
    }
   ],
   "source": [
    "corp.rating.value_counts()"
   ]
  },
  {
   "cell_type": "markdown",
   "id": "89c0be0a",
   "metadata": {},
   "source": [
    "2.4 Visualize a countplot for rating and share insights [3 Marks]"
   ]
  },
  {
   "cell_type": "code",
   "execution_count": 24,
   "id": "bd77153d",
   "metadata": {},
   "outputs": [
    {
     "name": "stderr",
     "output_type": "stream",
     "text": [
      "C:\\Users\\hp\\New folder\\lib\\site-packages\\seaborn\\_decorators.py:36: FutureWarning: Pass the following variable as a keyword arg: x. From version 0.12, the only valid positional argument will be `data`, and passing other arguments without an explicit keyword will result in an error or misinterpretation.\n",
      "  warnings.warn(\n"
     ]
    },
    {
     "data": {
      "text/plain": [
       "<AxesSubplot:xlabel='rating', ylabel='count'>"
      ]
     },
     "execution_count": 24,
     "metadata": {},
     "output_type": "execute_result"
    },
    {
     "data": {
      "image/png": "[encoded data removed]",
      "text/plain": [
       "<Figure size 432x288 with 1 Axes>"
      ]
     },
     "metadata": {
      "needs_background": "light"
     },
     "output_type": "display_data"
    }
   ],
   "source": [
    "sns.countplot(corp.rating)"
   ]
  },
  {
   "cell_type": "markdown",
   "id": "316bbf5d",
   "metadata": {},
   "source": [
    "2.5 Visualize distribution of ‘brand’ and share insights [3 Marks]"
   ]
  },
  {
   "cell_type": "code",
   "execution_count": 25,
   "id": "f9c87ba4",
   "metadata": {},
   "outputs": [
    {
     "data": {
      "text/plain": [
       "Samsung     33604\n",
       "Motorola     8879\n",
       "Nokia        5914\n",
       "Apple        5144\n",
       "Xiaomi       4411\n",
       "Google       3786\n",
       "Sony         3195\n",
       "HUAWEI       2225\n",
       "OnePlus       347\n",
       "ASUS          251\n",
       "Name: brand, dtype: int64"
      ]
     },
     "execution_count": 25,
     "metadata": {},
     "output_type": "execute_result"
    }
   ],
   "source": [
    "corp.brand.value_counts()"
   ]
  },
  {
   "cell_type": "code",
   "execution_count": 26,
   "id": "579ae7b3",
   "metadata": {},
   "outputs": [
    {
     "data": {
      "text/plain": [
       "<AxesSubplot:>"
      ]
     },
     "execution_count": 26,
     "metadata": {},
     "output_type": "execute_result"
    },
    {
     "data": {
      "image/png": "[encoded data removed]",
      "text/plain": [
       "<Figure size 432x288 with 1 Axes>"
      ]
     },
     "metadata": {
      "needs_background": "light"
     },
     "output_type": "display_data"
    }
   ],
   "source": [
    "corp.brand.value_counts().plot(kind='bar')"
   ]
  },
  {
   "cell_type": "markdown",
   "id": "f72b0bf6",
   "metadata": {},
   "source": [
    "2.6 Visualize distribution of ‘rating’ and share insights [3 Marks]"
   ]
  },
  {
   "cell_type": "code",
   "execution_count": 27,
   "id": "a9988ce2",
   "metadata": {},
   "outputs": [
    {
     "data": {
      "text/plain": [
       "<seaborn.axisgrid.FacetGrid at 0x1def8fcdd90>"
      ]
     },
     "execution_count": 27,
     "metadata": {},
     "output_type": "execute_result"
    },
    {
     "data": {
      "image/png": "[encoded data removed]",
      "text/plain": [
       "<Figure size 360x360 with 1 Axes>"
      ]
     },
     "metadata": {
      "needs_background": "light"
     },
     "output_type": "display_data"
    }
   ],
   "source": [
    "sns.displot(corp.rating)"
   ]
  },
  {
   "cell_type": "code",
   "execution_count": 28,
   "id": "090345b0",
   "metadata": {},
   "outputs": [
    {
     "name": "stderr",
     "output_type": "stream",
     "text": [
      "C:\\Users\\hp\\New folder\\lib\\site-packages\\seaborn\\_decorators.py:36: FutureWarning: Pass the following variable as a keyword arg: x. From version 0.12, the only valid positional argument will be `data`, and passing other arguments without an explicit keyword will result in an error or misinterpretation.\n",
      "  warnings.warn(\n"
     ]
    },
    {
     "data": {
      "text/plain": [
       "<AxesSubplot:xlabel='rating'>"
      ]
     },
     "execution_count": 28,
     "metadata": {},
     "output_type": "execute_result"
    },
    {
     "data": {
      "image/png": "[encoded data removed]",
      "text/plain": [
       "<Figure size 432x288 with 1 Axes>"
      ]
     },
     "metadata": {
      "needs_background": "light"
     },
     "output_type": "display_data"
    }
   ],
   "source": [
    "sns.boxplot(corp.rating)"
   ]
  },
  {
   "cell_type": "markdown",
   "id": "5324c89e",
   "metadata": {},
   "source": [
    "# Q3. Data Preparation [5 Marks]"
   ]
  },
  {
   "cell_type": "markdown",
   "id": "a9d05096",
   "metadata": {},
   "source": [
    "Insert new Column in DataFrame ‘Sentiment’ and\n",
    "Assign Sentiment= 1 when Rating >3;\n",
    "Sentiment= -1 when Rating <3 and\n",
    "Sentiment= 0 when rating = 3.\n",
    "(This step is to create target class where 1 indicates positive sentiment, -1 indicates\n",
    "negative sentiment and 0 indicates neutral sentiment)"
   ]
  },
  {
   "cell_type": "code",
   "execution_count": 29,
   "id": "660fa667",
   "metadata": {},
   "outputs": [
    {
     "data": {
      "text/html": [
       "<div>\n",
       "<style scoped>\n",
       "    .dataframe tbody tr th:only-of-type {\n",
       "        vertical-align: middle;\n",
       "    }\n",
       "\n",
       "    .dataframe tbody tr th {\n",
       "        vertical-align: top;\n",
       "    }\n",
       "\n",
       "    .dataframe thead th {\n",
       "        text-align: right;\n",
       "    }\n",
       "</style>\n",
       "<table border=\"1\" class=\"dataframe\">\n",
       "  <thead>\n",
       "    <tr style=\"text-align: right;\">\n",
       "      <th></th>\n",
       "      <th>asin</th>\n",
       "      <th>rating</th>\n",
       "      <th>title</th>\n",
       "      <th>body</th>\n",
       "      <th>brand</th>\n",
       "      <th>Sentiment</th>\n",
       "    </tr>\n",
       "  </thead>\n",
       "  <tbody>\n",
       "    <tr>\n",
       "      <th>0</th>\n",
       "      <td>B0009N5L7K</td>\n",
       "      <td>1</td>\n",
       "      <td>Stupid phone</td>\n",
       "      <td>DON'T BUY OUT OF SERVICE</td>\n",
       "      <td>Motorola</td>\n",
       "      <td>-1</td>\n",
       "    </tr>\n",
       "    <tr>\n",
       "      <th>1</th>\n",
       "      <td>B0009N5L7K</td>\n",
       "      <td>4</td>\n",
       "      <td>Exellent Service</td>\n",
       "      <td>I have been with nextel for nearly a year now ...</td>\n",
       "      <td>Motorola</td>\n",
       "      <td>1</td>\n",
       "    </tr>\n",
       "    <tr>\n",
       "      <th>2</th>\n",
       "      <td>B0009N5L7K</td>\n",
       "      <td>5</td>\n",
       "      <td>I love it</td>\n",
       "      <td>I just got it and have to say its easy to use,...</td>\n",
       "      <td>Motorola</td>\n",
       "      <td>1</td>\n",
       "    </tr>\n",
       "    <tr>\n",
       "      <th>3</th>\n",
       "      <td>B0009N5L7K</td>\n",
       "      <td>1</td>\n",
       "      <td>Phones locked</td>\n",
       "      <td>1 star because the phones locked so I have to ...</td>\n",
       "      <td>Motorola</td>\n",
       "      <td>-1</td>\n",
       "    </tr>\n",
       "    <tr>\n",
       "      <th>4</th>\n",
       "      <td>B0009N5L7K</td>\n",
       "      <td>5</td>\n",
       "      <td>Excellent product</td>\n",
       "      <td>The product has been very good. I had used thi...</td>\n",
       "      <td>Motorola</td>\n",
       "      <td>1</td>\n",
       "    </tr>\n",
       "  </tbody>\n",
       "</table>\n",
       "</div>"
      ],
      "text/plain": [
       "         asin  rating              title  \\\n",
       "0  B0009N5L7K       1       Stupid phone   \n",
       "1  B0009N5L7K       4   Exellent Service   \n",
       "2  B0009N5L7K       5          I love it   \n",
       "3  B0009N5L7K       1      Phones locked   \n",
       "4  B0009N5L7K       5  Excellent product   \n",
       "\n",
       "                                                body     brand  Sentiment  \n",
       "0                           DON'T BUY OUT OF SERVICE  Motorola         -1  \n",
       "1  I have been with nextel for nearly a year now ...  Motorola          1  \n",
       "2  I just got it and have to say its easy to use,...  Motorola          1  \n",
       "3  1 star because the phones locked so I have to ...  Motorola         -1  \n",
       "4  The product has been very good. I had used thi...  Motorola          1  "
      ]
     },
     "execution_count": 29,
     "metadata": {},
     "output_type": "execute_result"
    }
   ],
   "source": [
    "conditions = [\n",
    "    (corp['rating'] >3),\n",
    "    (corp['rating'] <3),\n",
    "    (corp['rating'] ==3)\n",
    "    ]\n",
    "\n",
    "values = [1,-1,0]\n",
    "\n",
    "corp['Sentiment'] = np.select(conditions, values)\n",
    "corp.head()"
   ]
  },
  {
   "cell_type": "markdown",
   "id": "6a56ef05",
   "metadata": {},
   "source": [
    "# Q4. Data Visualization [5 Marks]"
   ]
  },
  {
   "cell_type": "markdown",
   "id": "53ecea53",
   "metadata": {},
   "source": [
    "4.1 Visualize distribution of ‘sentiment’ and share insights [3 Marks]\n"
   ]
  },
  {
   "cell_type": "code",
   "execution_count": 30,
   "id": "e71267e5",
   "metadata": {},
   "outputs": [
    {
     "data": {
      "text/plain": [
       "<AxesSubplot:>"
      ]
     },
     "execution_count": 30,
     "metadata": {},
     "output_type": "execute_result"
    },
    {
     "data": {
      "image/png": "[encoded data removed]",
      "text/plain": [
       "<Figure size 432x288 with 1 Axes>"
      ]
     },
     "metadata": {
      "needs_background": "light"
     },
     "output_type": "display_data"
    }
   ],
   "source": [
    "corp.Sentiment.value_counts().plot(kind='bar')"
   ]
  },
  {
   "cell_type": "markdown",
   "id": "119b0bf9",
   "metadata": {},
   "source": [
    "4.2 Visualize a crosstab of ‘brand’ with sentiment [2 Marks]\n"
   ]
  },
  {
   "cell_type": "code",
   "execution_count": 31,
   "id": "80ac309e",
   "metadata": {},
   "outputs": [
    {
     "data": {
      "text/html": [
       "<div>\n",
       "<style scoped>\n",
       "    .dataframe tbody tr th:only-of-type {\n",
       "        vertical-align: middle;\n",
       "    }\n",
       "\n",
       "    .dataframe tbody tr th {\n",
       "        vertical-align: top;\n",
       "    }\n",
       "\n",
       "    .dataframe thead th {\n",
       "        text-align: right;\n",
       "    }\n",
       "</style>\n",
       "<table border=\"1\" class=\"dataframe\">\n",
       "  <thead>\n",
       "    <tr style=\"text-align: right;\">\n",
       "      <th>Sentiment</th>\n",
       "      <th>-1</th>\n",
       "      <th>0</th>\n",
       "      <th>1</th>\n",
       "    </tr>\n",
       "    <tr>\n",
       "      <th>brand</th>\n",
       "      <th></th>\n",
       "      <th></th>\n",
       "      <th></th>\n",
       "    </tr>\n",
       "  </thead>\n",
       "  <tbody>\n",
       "    <tr>\n",
       "      <th>ASUS</th>\n",
       "      <td>64</td>\n",
       "      <td>25</td>\n",
       "      <td>162</td>\n",
       "    </tr>\n",
       "    <tr>\n",
       "      <th>Apple</th>\n",
       "      <td>1434</td>\n",
       "      <td>322</td>\n",
       "      <td>3388</td>\n",
       "    </tr>\n",
       "    <tr>\n",
       "      <th>Google</th>\n",
       "      <td>1168</td>\n",
       "      <td>267</td>\n",
       "      <td>2351</td>\n",
       "    </tr>\n",
       "    <tr>\n",
       "      <th>HUAWEI</th>\n",
       "      <td>309</td>\n",
       "      <td>124</td>\n",
       "      <td>1792</td>\n",
       "    </tr>\n",
       "    <tr>\n",
       "      <th>Motorola</th>\n",
       "      <td>2104</td>\n",
       "      <td>653</td>\n",
       "      <td>6122</td>\n",
       "    </tr>\n",
       "    <tr>\n",
       "      <th>Nokia</th>\n",
       "      <td>1710</td>\n",
       "      <td>540</td>\n",
       "      <td>3664</td>\n",
       "    </tr>\n",
       "    <tr>\n",
       "      <th>OnePlus</th>\n",
       "      <td>52</td>\n",
       "      <td>13</td>\n",
       "      <td>282</td>\n",
       "    </tr>\n",
       "    <tr>\n",
       "      <th>Samsung</th>\n",
       "      <td>8531</td>\n",
       "      <td>2292</td>\n",
       "      <td>22781</td>\n",
       "    </tr>\n",
       "    <tr>\n",
       "      <th>Sony</th>\n",
       "      <td>770</td>\n",
       "      <td>280</td>\n",
       "      <td>2145</td>\n",
       "    </tr>\n",
       "    <tr>\n",
       "      <th>Xiaomi</th>\n",
       "      <td>460</td>\n",
       "      <td>222</td>\n",
       "      <td>3729</td>\n",
       "    </tr>\n",
       "  </tbody>\n",
       "</table>\n",
       "</div>"
      ],
      "text/plain": [
       "Sentiment    -1     0      1\n",
       "brand                       \n",
       "ASUS         64    25    162\n",
       "Apple      1434   322   3388\n",
       "Google     1168   267   2351\n",
       "HUAWEI      309   124   1792\n",
       "Motorola   2104   653   6122\n",
       "Nokia      1710   540   3664\n",
       "OnePlus      52    13    282\n",
       "Samsung    8531  2292  22781\n",
       "Sony        770   280   2145\n",
       "Xiaomi      460   222   3729"
      ]
     },
     "execution_count": 31,
     "metadata": {},
     "output_type": "execute_result"
    }
   ],
   "source": [
    "pd.crosstab(corp.brand, corp.Sentiment)"
   ]
  },
  {
   "cell_type": "code",
   "execution_count": 38,
   "id": "1aea7d58",
   "metadata": {},
   "outputs": [
    {
     "data": {
      "text/plain": [
       "<AxesSubplot:xlabel='brand'>"
      ]
     },
     "execution_count": 38,
     "metadata": {},
     "output_type": "execute_result"
    },
    {
     "data": {
      "image/png": "[encoded data removed]",
      "text/plain": [
       "<Figure size 432x288 with 1 Axes>"
      ]
     },
     "metadata": {
      "needs_background": "light"
     },
     "output_type": "display_data"
    }
   ],
   "source": [
    "pd.crosstab(corp.brand, corp.Sentiment).plot(kind='bar')"
   ]
  },
  {
   "cell_type": "markdown",
   "id": "1ea61c9f",
   "metadata": {},
   "source": [
    "# Q5. Textual Data Pre-processing [15 Marks]"
   ]
  },
  {
   "cell_type": "markdown",
   "id": "b28d733e",
   "metadata": {},
   "source": [
    "5.1 Lowercase all data in columns ‘title’ and ‘body’ [3 Marks]\n"
   ]
  },
  {
   "cell_type": "code",
   "execution_count": 39,
   "id": "6054c63d",
   "metadata": {},
   "outputs": [],
   "source": [
    "corp[\"title\"] = corp[\"title\"].str.lower()"
   ]
  },
  {
   "cell_type": "code",
   "execution_count": 40,
   "id": "fb4b5873",
   "metadata": {},
   "outputs": [],
   "source": [
    "corp[\"body\"] = corp[\"body\"].str.lower()"
   ]
  },
  {
   "cell_type": "markdown",
   "id": "80768e2f",
   "metadata": {},
   "source": [
    "5.2 Remove all punctuations from columns ‘title’ and ‘body’ [3 Marks]\n"
   ]
  },
  {
   "cell_type": "code",
   "execution_count": 41,
   "id": "48a37d21",
   "metadata": {},
   "outputs": [
    {
     "name": "stderr",
     "output_type": "stream",
     "text": [
      "<ipython-input-41-860f247bad14>:1: FutureWarning: The default value of regex will change from True to False in a future version.\n",
      "  corp[\"title\"] = corp['title'].str.replace('[^\\w\\s]','')\n",
      "<ipython-input-41-860f247bad14>:2: FutureWarning: The default value of regex will change from True to False in a future version.\n",
      "  corp[\"body\"] = corp['body'].str.replace('[^\\w\\s]','')\n"
     ]
    }
   ],
   "source": [
    "corp[\"title\"] = corp['title'].str.replace('[^\\w\\s]','')\n",
    "corp[\"body\"] = corp['body'].str.replace('[^\\w\\s]','')\n"
   ]
  },
  {
   "cell_type": "code",
   "execution_count": 42,
   "id": "c0f50499",
   "metadata": {},
   "outputs": [
    {
     "data": {
      "text/html": [
       "<div>\n",
       "<style scoped>\n",
       "    .dataframe tbody tr th:only-of-type {\n",
       "        vertical-align: middle;\n",
       "    }\n",
       "\n",
       "    .dataframe tbody tr th {\n",
       "        vertical-align: top;\n",
       "    }\n",
       "\n",
       "    .dataframe thead th {\n",
       "        text-align: right;\n",
       "    }\n",
       "</style>\n",
       "<table border=\"1\" class=\"dataframe\">\n",
       "  <thead>\n",
       "    <tr style=\"text-align: right;\">\n",
       "      <th></th>\n",
       "      <th>asin</th>\n",
       "      <th>rating</th>\n",
       "      <th>title</th>\n",
       "      <th>body</th>\n",
       "      <th>brand</th>\n",
       "      <th>Sentiment</th>\n",
       "    </tr>\n",
       "  </thead>\n",
       "  <tbody>\n",
       "    <tr>\n",
       "      <th>0</th>\n",
       "      <td>B0009N5L7K</td>\n",
       "      <td>1</td>\n",
       "      <td>stupid phone</td>\n",
       "      <td>dont buy out of service</td>\n",
       "      <td>Motorola</td>\n",
       "      <td>-1</td>\n",
       "    </tr>\n",
       "    <tr>\n",
       "      <th>1</th>\n",
       "      <td>B0009N5L7K</td>\n",
       "      <td>4</td>\n",
       "      <td>exellent service</td>\n",
       "      <td>i have been with nextel for nearly a year now ...</td>\n",
       "      <td>Motorola</td>\n",
       "      <td>1</td>\n",
       "    </tr>\n",
       "    <tr>\n",
       "      <th>2</th>\n",
       "      <td>B0009N5L7K</td>\n",
       "      <td>5</td>\n",
       "      <td>i love it</td>\n",
       "      <td>i just got it and have to say its easy to use ...</td>\n",
       "      <td>Motorola</td>\n",
       "      <td>1</td>\n",
       "    </tr>\n",
       "    <tr>\n",
       "      <th>3</th>\n",
       "      <td>B0009N5L7K</td>\n",
       "      <td>1</td>\n",
       "      <td>phones locked</td>\n",
       "      <td>1 star because the phones locked so i have to ...</td>\n",
       "      <td>Motorola</td>\n",
       "      <td>-1</td>\n",
       "    </tr>\n",
       "    <tr>\n",
       "      <th>4</th>\n",
       "      <td>B0009N5L7K</td>\n",
       "      <td>5</td>\n",
       "      <td>excellent product</td>\n",
       "      <td>the product has been very good i had used this...</td>\n",
       "      <td>Motorola</td>\n",
       "      <td>1</td>\n",
       "    </tr>\n",
       "  </tbody>\n",
       "</table>\n",
       "</div>"
      ],
      "text/plain": [
       "         asin  rating              title  \\\n",
       "0  B0009N5L7K       1       stupid phone   \n",
       "1  B0009N5L7K       4   exellent service   \n",
       "2  B0009N5L7K       5          i love it   \n",
       "3  B0009N5L7K       1      phones locked   \n",
       "4  B0009N5L7K       5  excellent product   \n",
       "\n",
       "                                                body     brand  Sentiment  \n",
       "0                            dont buy out of service  Motorola         -1  \n",
       "1  i have been with nextel for nearly a year now ...  Motorola          1  \n",
       "2  i just got it and have to say its easy to use ...  Motorola          1  \n",
       "3  1 star because the phones locked so i have to ...  Motorola         -1  \n",
       "4  the product has been very good i had used this...  Motorola          1  "
      ]
     },
     "execution_count": 42,
     "metadata": {},
     "output_type": "execute_result"
    }
   ],
   "source": [
    "corp.head()"
   ]
  },
  {
   "cell_type": "markdown",
   "id": "c0a76ce2",
   "metadata": {},
   "source": [
    "5.3 Remove stopwords from columns ‘title’ and ‘body’ [3 Marks]"
   ]
  },
  {
   "cell_type": "code",
   "execution_count": 43,
   "id": "f3d8799c",
   "metadata": {},
   "outputs": [],
   "source": [
    "from nltk.corpus import stopwords\n",
    "stop = stopwords.words('english')"
   ]
  },
  {
   "cell_type": "code",
   "execution_count": 44,
   "id": "e72f4232",
   "metadata": {},
   "outputs": [],
   "source": [
    "import re\n",
    "\n",
    "corp['title'] = corp['title'].apply(lambda x: re.findall(\"[\\w']+\", x))\n",
    "corp['body'] = corp['body'].apply(lambda x: re.findall(\"[\\w']+\", x))"
   ]
  },
  {
   "cell_type": "code",
   "execution_count": 45,
   "id": "c5e7fc5d",
   "metadata": {},
   "outputs": [],
   "source": [
    "def remove_stopwords(x):\n",
    "  return [w.lower() for w in x if not w.lower() in stop]"
   ]
  },
  {
   "cell_type": "code",
   "execution_count": 46,
   "id": "e67222ad",
   "metadata": {},
   "outputs": [],
   "source": [
    "corp['title'] = corp['title'].map(remove_stopwords)\n",
    "corp['body'] = corp['body'].map(remove_stopwords)"
   ]
  },
  {
   "cell_type": "code",
   "execution_count": 47,
   "id": "2b9d5b72",
   "metadata": {},
   "outputs": [
    {
     "data": {
      "text/html": [
       "<div>\n",
       "<style scoped>\n",
       "    .dataframe tbody tr th:only-of-type {\n",
       "        vertical-align: middle;\n",
       "    }\n",
       "\n",
       "    .dataframe tbody tr th {\n",
       "        vertical-align: top;\n",
       "    }\n",
       "\n",
       "    .dataframe thead th {\n",
       "        text-align: right;\n",
       "    }\n",
       "</style>\n",
       "<table border=\"1\" class=\"dataframe\">\n",
       "  <thead>\n",
       "    <tr style=\"text-align: right;\">\n",
       "      <th></th>\n",
       "      <th>asin</th>\n",
       "      <th>rating</th>\n",
       "      <th>title</th>\n",
       "      <th>body</th>\n",
       "      <th>brand</th>\n",
       "      <th>Sentiment</th>\n",
       "    </tr>\n",
       "  </thead>\n",
       "  <tbody>\n",
       "    <tr>\n",
       "      <th>0</th>\n",
       "      <td>B0009N5L7K</td>\n",
       "      <td>1</td>\n",
       "      <td>[stupid, phone]</td>\n",
       "      <td>[dont, buy, service]</td>\n",
       "      <td>Motorola</td>\n",
       "      <td>-1</td>\n",
       "    </tr>\n",
       "    <tr>\n",
       "      <th>1</th>\n",
       "      <td>B0009N5L7K</td>\n",
       "      <td>4</td>\n",
       "      <td>[exellent, service]</td>\n",
       "      <td>[nextel, nearly, year, started, time, last, ye...</td>\n",
       "      <td>Motorola</td>\n",
       "      <td>1</td>\n",
       "    </tr>\n",
       "    <tr>\n",
       "      <th>2</th>\n",
       "      <td>B0009N5L7K</td>\n",
       "      <td>5</td>\n",
       "      <td>[love]</td>\n",
       "      <td>[got, say, easy, use, hear, person, talking, f...</td>\n",
       "      <td>Motorola</td>\n",
       "      <td>1</td>\n",
       "    </tr>\n",
       "    <tr>\n",
       "      <th>3</th>\n",
       "      <td>B0009N5L7K</td>\n",
       "      <td>1</td>\n",
       "      <td>[phones, locked]</td>\n",
       "      <td>[1, star, phones, locked, pay, additional, fee...</td>\n",
       "      <td>Motorola</td>\n",
       "      <td>-1</td>\n",
       "    </tr>\n",
       "    <tr>\n",
       "      <th>4</th>\n",
       "      <td>B0009N5L7K</td>\n",
       "      <td>5</td>\n",
       "      <td>[excellent, product]</td>\n",
       "      <td>[product, good, used, cell, phone, one, projec...</td>\n",
       "      <td>Motorola</td>\n",
       "      <td>1</td>\n",
       "    </tr>\n",
       "  </tbody>\n",
       "</table>\n",
       "</div>"
      ],
      "text/plain": [
       "         asin  rating                 title  \\\n",
       "0  B0009N5L7K       1       [stupid, phone]   \n",
       "1  B0009N5L7K       4   [exellent, service]   \n",
       "2  B0009N5L7K       5                [love]   \n",
       "3  B0009N5L7K       1      [phones, locked]   \n",
       "4  B0009N5L7K       5  [excellent, product]   \n",
       "\n",
       "                                                body     brand  Sentiment  \n",
       "0                               [dont, buy, service]  Motorola         -1  \n",
       "1  [nextel, nearly, year, started, time, last, ye...  Motorola          1  \n",
       "2  [got, say, easy, use, hear, person, talking, f...  Motorola          1  \n",
       "3  [1, star, phones, locked, pay, additional, fee...  Motorola         -1  \n",
       "4  [product, good, used, cell, phone, one, projec...  Motorola          1  "
      ]
     },
     "execution_count": 47,
     "metadata": {},
     "output_type": "execute_result"
    }
   ],
   "source": [
    "corp.head()"
   ]
  },
  {
   "cell_type": "markdown",
   "id": "e8a24d8a",
   "metadata": {},
   "source": [
    "5.4 Transform ‘body’ using TF-IDF vectorizer [3 Marks]\n",
    "\n",
    "5.5 Split data into X and Y. [3 Marks]\n",
    "(Vectorized data should be X and sentiment should be Y.)\n"
   ]
  },
  {
   "cell_type": "code",
   "execution_count": 48,
   "id": "edf1cf0e",
   "metadata": {},
   "outputs": [
    {
     "name": "stderr",
     "output_type": "stream",
     "text": [
      "[nltk_data] Downloading package wordnet to\n",
      "[nltk_data]     C:\\Users\\hp\\AppData\\Roaming\\nltk_data...\n",
      "[nltk_data]   Package wordnet is already up-to-date!\n"
     ]
    }
   ],
   "source": [
    "import nltk\n",
    "nltk.download('wordnet')\n",
    "from nltk.stem import WordNetLemmatizer\n",
    "lemmatizer = WordNetLemmatizer()\n",
    "\n",
    "def lemmatize_word(x):\n",
    "  return [lemmatizer.lemmatize(w,pos='v') for w in x]\n",
    "  \n",
    "corp['body'] = corp['body'].map(lemmatize_word)"
   ]
  },
  {
   "cell_type": "code",
   "execution_count": 49,
   "id": "3cb3760c",
   "metadata": {},
   "outputs": [],
   "source": [
    "corp['body']=corp['body'].apply(lambda x: ' '.join(x))"
   ]
  },
  {
   "cell_type": "code",
   "execution_count": 50,
   "id": "f4263674",
   "metadata": {},
   "outputs": [],
   "source": [
    "from sklearn.feature_extraction.text import TfidfVectorizer\n",
    "tfidf = TfidfVectorizer()\n",
    "\n",
    "vectorizer = TfidfVectorizer()\n",
    "X = vectorizer.fit_transform(corp['body'])"
   ]
  },
  {
   "cell_type": "code",
   "execution_count": 51,
   "id": "0a114150",
   "metadata": {},
   "outputs": [
    {
     "data": {
      "text/plain": [
       "(67756, 41694)"
      ]
     },
     "execution_count": 51,
     "metadata": {},
     "output_type": "execute_result"
    }
   ],
   "source": [
    "X.shape"
   ]
  },
  {
   "cell_type": "code",
   "execution_count": 52,
   "id": "59612945",
   "metadata": {},
   "outputs": [],
   "source": [
    "x = pd.DataFrame(X.todense(), columns=vectorizer.get_feature_names())"
   ]
  },
  {
   "cell_type": "code",
   "execution_count": 53,
   "id": "39c97950",
   "metadata": {},
   "outputs": [],
   "source": [
    "y=corp['Sentiment']"
   ]
  },
  {
   "cell_type": "markdown",
   "id": "fb0f6bcb",
   "metadata": {},
   "source": [
    "# Q6. Model Building [5 Marks]\n"
   ]
  },
  {
   "cell_type": "markdown",
   "id": "d511a383",
   "metadata": {},
   "source": [
    "6.1 Split data into 80% train and 20% test data [1 Marks]"
   ]
  },
  {
   "cell_type": "code",
   "execution_count": 54,
   "id": "e4482a56",
   "metadata": {},
   "outputs": [],
   "source": [
    "X_train, X_test, y_train, y_test = train_test_split(X, y, test_size = 0.2, random_state =42,stratify=corp['Sentiment'])"
   ]
  },
  {
   "cell_type": "markdown",
   "id": "9f977038",
   "metadata": {},
   "source": [
    "6.2 Build a Classification model to predict sentiment [2 Marks]\n"
   ]
  },
  {
   "cell_type": "code",
   "execution_count": 55,
   "id": "083d819e",
   "metadata": {},
   "outputs": [],
   "source": [
    "\n",
    "from sklearn.naive_bayes import MultinomialNB\n",
    "from sklearn.metrics import confusion_matrix, accuracy_score, classification_report, plot_confusion_matrix"
   ]
  },
  {
   "cell_type": "code",
   "execution_count": 56,
   "id": "12e1075c",
   "metadata": {},
   "outputs": [
    {
     "data": {
      "text/plain": [
       "0.7993321526086635"
      ]
     },
     "execution_count": 56,
     "metadata": {},
     "output_type": "execute_result"
    }
   ],
   "source": [
    "model = MultinomialNB()\n",
    "model.fit(X_train, y_train)\n",
    "model.score(X_train, y_train)"
   ]
  },
  {
   "cell_type": "markdown",
   "id": "692d3165",
   "metadata": {},
   "source": [
    "6.3 Print accuracy score for train and test data both [1 Marks]\n"
   ]
  },
  {
   "cell_type": "code",
   "execution_count": 57,
   "id": "1b974ed4",
   "metadata": {},
   "outputs": [],
   "source": [
    "y_pred = model.predict(X_test)"
   ]
  },
  {
   "cell_type": "code",
   "execution_count": 58,
   "id": "00c90663",
   "metadata": {},
   "outputs": [],
   "source": [
    "y_pred_train=model.predict(X_train)"
   ]
  },
  {
   "cell_type": "code",
   "execution_count": 59,
   "id": "e53be1d9",
   "metadata": {},
   "outputs": [
    {
     "name": "stdout",
     "output_type": "stream",
     "text": [
      "0.7993321526086635\n",
      "0.7875590318772137\n"
     ]
    }
   ],
   "source": [
    "print(accuracy_score(y_train,y_pred_train))\n",
    "print(accuracy_score(y_test,y_pred))"
   ]
  },
  {
   "cell_type": "markdown",
   "id": "762c03f7",
   "metadata": {},
   "source": [
    "6.4 State whether model is underfitting / Overfitting / Good fit [1 Marks]\n"
   ]
  },
  {
   "cell_type": "markdown",
   "id": "d66e3d12",
   "metadata": {},
   "source": [
    "Normal MultinomialNB model performs similarly on both the datasets."
   ]
  },
  {
   "cell_type": "code",
   "execution_count": null,
   "id": "39b0041e",
   "metadata": {},
   "outputs": [],
   "source": []
  }
 ],
 "metadata": {
  "kernelspec": {
   "display_name": "Python 3",
   "language": "python",
   "name": "python3"
  },
  "language_info": {
   "codemirror_mode": {
    "name": "ipython",
    "version": 3
   },
   "file_extension": ".py",
   "mimetype": "text/x-python",
   "name": "python",
   "nbconvert_exporter": "python",
   "pygments_lexer": "ipython3",
   "version": "3.8.8"
  }
 },
 "nbformat": 4,
 "nbformat_minor": 5
}
