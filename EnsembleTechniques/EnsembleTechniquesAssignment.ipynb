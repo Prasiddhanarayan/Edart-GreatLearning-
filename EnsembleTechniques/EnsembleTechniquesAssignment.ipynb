{
 "cells": [
  {
   "cell_type": "markdown",
   "id": "aec84c0d",
   "metadata": {},
   "source": [
    "# 1. Install the necessary libraries and read the provided dataset. (1 point) "
   ]
  },
  {
   "cell_type": "code",
   "execution_count": 1,
   "id": "0be94d21",
   "metadata": {},
   "outputs": [],
   "source": [
    "# importing all the libraries\n",
    "import numpy as np\n",
    "import pandas as pd\n",
    "import scipy.stats as stats\n",
    "import matplotlib.pyplot as plt\n",
    "import seaborn as sns\n",
    "\n",
    "\n",
    "from sklearn.model_selection import train_test_split\n",
    "from sklearn.naive_bayes import MultinomialNB\n",
    "from sklearn.neighbors import KNeighborsClassifier\n",
    "from sklearn.svm import SVC\n",
    "from sklearn.metrics import r2_score, mean_absolute_error, mean_squared_error\n",
    "from sklearn.tree import DecisionTreeClassifier\n",
    "from sklearn.ensemble import RandomForestClassifier, GradientBoostingClassifier\n",
    "from sklearn.preprocessing import MinMaxScaler\n",
    "from sklearn.linear_model import LogisticRegression\n",
    "\n",
    "from mlxtend.classifier import StackingClassifier\n",
    "from sklearn.metrics import accuracy_score\n"
   ]
  },
  {
   "cell_type": "code",
   "execution_count": 2,
   "id": "43ad25ed",
   "metadata": {},
   "outputs": [],
   "source": [
    "# reading the dataset\n",
    "df=pd.read_csv(r'C:\\Users\\hp\\Desktop\\ensemble\\graded\\apps.csv')"
   ]
  },
  {
   "cell_type": "code",
   "execution_count": 3,
   "id": "95759551",
   "metadata": {},
   "outputs": [
    {
     "data": {
      "text/html": [
       "<div>\n",
       "<style scoped>\n",
       "    .dataframe tbody tr th:only-of-type {\n",
       "        vertical-align: middle;\n",
       "    }\n",
       "\n",
       "    .dataframe tbody tr th {\n",
       "        vertical-align: top;\n",
       "    }\n",
       "\n",
       "    .dataframe thead th {\n",
       "        text-align: right;\n",
       "    }\n",
       "</style>\n",
       "<table border=\"1\" class=\"dataframe\">\n",
       "  <thead>\n",
       "    <tr style=\"text-align: right;\">\n",
       "      <th></th>\n",
       "      <th>App</th>\n",
       "      <th>Category</th>\n",
       "      <th>Rating</th>\n",
       "      <th>Reviews</th>\n",
       "      <th>Size</th>\n",
       "      <th>Installs</th>\n",
       "      <th>Type</th>\n",
       "      <th>Price</th>\n",
       "      <th>Content Rating</th>\n",
       "      <th>Genres</th>\n",
       "      <th>Last Updated</th>\n",
       "      <th>Current Ver</th>\n",
       "      <th>Android Ver</th>\n",
       "    </tr>\n",
       "  </thead>\n",
       "  <tbody>\n",
       "    <tr>\n",
       "      <th>0</th>\n",
       "      <td>Photo Editor &amp; Candy Camera &amp; Grid &amp; ScrapBook</td>\n",
       "      <td>ART_AND_DESIGN</td>\n",
       "      <td>4.1</td>\n",
       "      <td>159</td>\n",
       "      <td>19M</td>\n",
       "      <td>10,000+</td>\n",
       "      <td>Free</td>\n",
       "      <td>0</td>\n",
       "      <td>Everyone</td>\n",
       "      <td>Art &amp; Design</td>\n",
       "      <td>January 7, 2018</td>\n",
       "      <td>1.0.0</td>\n",
       "      <td>4.0.3 and up</td>\n",
       "    </tr>\n",
       "    <tr>\n",
       "      <th>1</th>\n",
       "      <td>Coloring book moana</td>\n",
       "      <td>ART_AND_DESIGN</td>\n",
       "      <td>3.9</td>\n",
       "      <td>967</td>\n",
       "      <td>14M</td>\n",
       "      <td>500,000+</td>\n",
       "      <td>Free</td>\n",
       "      <td>0</td>\n",
       "      <td>Everyone</td>\n",
       "      <td>Art &amp; Design;Pretend Play</td>\n",
       "      <td>January 15, 2018</td>\n",
       "      <td>2.0.0</td>\n",
       "      <td>4.0.3 and up</td>\n",
       "    </tr>\n",
       "    <tr>\n",
       "      <th>2</th>\n",
       "      <td>U Launcher Lite – FREE Live Cool Themes, Hide ...</td>\n",
       "      <td>ART_AND_DESIGN</td>\n",
       "      <td>4.7</td>\n",
       "      <td>87510</td>\n",
       "      <td>8.7M</td>\n",
       "      <td>5,000,000+</td>\n",
       "      <td>Free</td>\n",
       "      <td>0</td>\n",
       "      <td>Everyone</td>\n",
       "      <td>Art &amp; Design</td>\n",
       "      <td>August 1, 2018</td>\n",
       "      <td>1.2.4</td>\n",
       "      <td>4.0.3 and up</td>\n",
       "    </tr>\n",
       "    <tr>\n",
       "      <th>3</th>\n",
       "      <td>Sketch - Draw &amp; Paint</td>\n",
       "      <td>ART_AND_DESIGN</td>\n",
       "      <td>4.5</td>\n",
       "      <td>215644</td>\n",
       "      <td>25M</td>\n",
       "      <td>50,000,000+</td>\n",
       "      <td>Free</td>\n",
       "      <td>0</td>\n",
       "      <td>Teen</td>\n",
       "      <td>Art &amp; Design</td>\n",
       "      <td>June 8, 2018</td>\n",
       "      <td>Varies with device</td>\n",
       "      <td>4.2 and up</td>\n",
       "    </tr>\n",
       "    <tr>\n",
       "      <th>4</th>\n",
       "      <td>Pixel Draw - Number Art Coloring Book</td>\n",
       "      <td>ART_AND_DESIGN</td>\n",
       "      <td>4.3</td>\n",
       "      <td>967</td>\n",
       "      <td>2.8M</td>\n",
       "      <td>100,000+</td>\n",
       "      <td>Free</td>\n",
       "      <td>0</td>\n",
       "      <td>Everyone</td>\n",
       "      <td>Art &amp; Design;Creativity</td>\n",
       "      <td>June 20, 2018</td>\n",
       "      <td>1.1</td>\n",
       "      <td>4.4 and up</td>\n",
       "    </tr>\n",
       "    <tr>\n",
       "      <th>5</th>\n",
       "      <td>Paper flowers instructions</td>\n",
       "      <td>ART_AND_DESIGN</td>\n",
       "      <td>4.4</td>\n",
       "      <td>167</td>\n",
       "      <td>5.6M</td>\n",
       "      <td>50,000+</td>\n",
       "      <td>Free</td>\n",
       "      <td>0</td>\n",
       "      <td>Everyone</td>\n",
       "      <td>Art &amp; Design</td>\n",
       "      <td>March 26, 2017</td>\n",
       "      <td>1.0</td>\n",
       "      <td>2.3 and up</td>\n",
       "    </tr>\n",
       "    <tr>\n",
       "      <th>6</th>\n",
       "      <td>Smoke Effect Photo Maker - Smoke Editor</td>\n",
       "      <td>ART_AND_DESIGN</td>\n",
       "      <td>3.8</td>\n",
       "      <td>178</td>\n",
       "      <td>19M</td>\n",
       "      <td>50,000+</td>\n",
       "      <td>Free</td>\n",
       "      <td>0</td>\n",
       "      <td>Everyone</td>\n",
       "      <td>Art &amp; Design</td>\n",
       "      <td>April 26, 2018</td>\n",
       "      <td>1.1</td>\n",
       "      <td>4.0.3 and up</td>\n",
       "    </tr>\n",
       "    <tr>\n",
       "      <th>7</th>\n",
       "      <td>Infinite Painter</td>\n",
       "      <td>ART_AND_DESIGN</td>\n",
       "      <td>4.1</td>\n",
       "      <td>36815</td>\n",
       "      <td>29M</td>\n",
       "      <td>1,000,000+</td>\n",
       "      <td>Free</td>\n",
       "      <td>0</td>\n",
       "      <td>Everyone</td>\n",
       "      <td>Art &amp; Design</td>\n",
       "      <td>June 14, 2018</td>\n",
       "      <td>6.1.61.1</td>\n",
       "      <td>4.2 and up</td>\n",
       "    </tr>\n",
       "    <tr>\n",
       "      <th>8</th>\n",
       "      <td>Garden Coloring Book</td>\n",
       "      <td>ART_AND_DESIGN</td>\n",
       "      <td>4.4</td>\n",
       "      <td>13791</td>\n",
       "      <td>33M</td>\n",
       "      <td>1,000,000+</td>\n",
       "      <td>Free</td>\n",
       "      <td>0</td>\n",
       "      <td>Everyone</td>\n",
       "      <td>Art &amp; Design</td>\n",
       "      <td>September 20, 2017</td>\n",
       "      <td>2.9.2</td>\n",
       "      <td>3.0 and up</td>\n",
       "    </tr>\n",
       "    <tr>\n",
       "      <th>9</th>\n",
       "      <td>Kids Paint Free - Drawing Fun</td>\n",
       "      <td>ART_AND_DESIGN</td>\n",
       "      <td>4.7</td>\n",
       "      <td>121</td>\n",
       "      <td>3.1M</td>\n",
       "      <td>10,000+</td>\n",
       "      <td>Free</td>\n",
       "      <td>0</td>\n",
       "      <td>Everyone</td>\n",
       "      <td>Art &amp; Design;Creativity</td>\n",
       "      <td>July 3, 2018</td>\n",
       "      <td>2.8</td>\n",
       "      <td>4.0.3 and up</td>\n",
       "    </tr>\n",
       "    <tr>\n",
       "      <th>10</th>\n",
       "      <td>Text on Photo - Fonteee</td>\n",
       "      <td>ART_AND_DESIGN</td>\n",
       "      <td>4.4</td>\n",
       "      <td>13880</td>\n",
       "      <td>28M</td>\n",
       "      <td>1,000,000+</td>\n",
       "      <td>Free</td>\n",
       "      <td>0</td>\n",
       "      <td>Everyone</td>\n",
       "      <td>Art &amp; Design</td>\n",
       "      <td>October 27, 2017</td>\n",
       "      <td>1.0.4</td>\n",
       "      <td>4.1 and up</td>\n",
       "    </tr>\n",
       "    <tr>\n",
       "      <th>11</th>\n",
       "      <td>Name Art Photo Editor - Focus n Filters</td>\n",
       "      <td>ART_AND_DESIGN</td>\n",
       "      <td>4.4</td>\n",
       "      <td>8788</td>\n",
       "      <td>12M</td>\n",
       "      <td>1,000,000+</td>\n",
       "      <td>Free</td>\n",
       "      <td>0</td>\n",
       "      <td>Everyone</td>\n",
       "      <td>Art &amp; Design</td>\n",
       "      <td>July 31, 2018</td>\n",
       "      <td>1.0.15</td>\n",
       "      <td>4.0 and up</td>\n",
       "    </tr>\n",
       "    <tr>\n",
       "      <th>12</th>\n",
       "      <td>Tattoo Name On My Photo Editor</td>\n",
       "      <td>ART_AND_DESIGN</td>\n",
       "      <td>4.2</td>\n",
       "      <td>44829</td>\n",
       "      <td>20M</td>\n",
       "      <td>10,000,000+</td>\n",
       "      <td>Free</td>\n",
       "      <td>0</td>\n",
       "      <td>Teen</td>\n",
       "      <td>Art &amp; Design</td>\n",
       "      <td>April 2, 2018</td>\n",
       "      <td>3.8</td>\n",
       "      <td>4.1 and up</td>\n",
       "    </tr>\n",
       "    <tr>\n",
       "      <th>13</th>\n",
       "      <td>Mandala Coloring Book</td>\n",
       "      <td>ART_AND_DESIGN</td>\n",
       "      <td>4.6</td>\n",
       "      <td>4326</td>\n",
       "      <td>21M</td>\n",
       "      <td>100,000+</td>\n",
       "      <td>Free</td>\n",
       "      <td>0</td>\n",
       "      <td>Everyone</td>\n",
       "      <td>Art &amp; Design</td>\n",
       "      <td>June 26, 2018</td>\n",
       "      <td>1.0.4</td>\n",
       "      <td>4.4 and up</td>\n",
       "    </tr>\n",
       "    <tr>\n",
       "      <th>14</th>\n",
       "      <td>3D Color Pixel by Number - Sandbox Art Coloring</td>\n",
       "      <td>ART_AND_DESIGN</td>\n",
       "      <td>4.4</td>\n",
       "      <td>1518</td>\n",
       "      <td>37M</td>\n",
       "      <td>100,000+</td>\n",
       "      <td>Free</td>\n",
       "      <td>0</td>\n",
       "      <td>Everyone</td>\n",
       "      <td>Art &amp; Design</td>\n",
       "      <td>August 3, 2018</td>\n",
       "      <td>1.2.3</td>\n",
       "      <td>2.3 and up</td>\n",
       "    </tr>\n",
       "    <tr>\n",
       "      <th>15</th>\n",
       "      <td>Learn To Draw Kawaii Characters</td>\n",
       "      <td>ART_AND_DESIGN</td>\n",
       "      <td>3.2</td>\n",
       "      <td>55</td>\n",
       "      <td>2.7M</td>\n",
       "      <td>5,000+</td>\n",
       "      <td>Free</td>\n",
       "      <td>0</td>\n",
       "      <td>Everyone</td>\n",
       "      <td>Art &amp; Design</td>\n",
       "      <td>June 6, 2018</td>\n",
       "      <td>NaN</td>\n",
       "      <td>4.2 and up</td>\n",
       "    </tr>\n",
       "    <tr>\n",
       "      <th>16</th>\n",
       "      <td>Photo Designer - Write your name with shapes</td>\n",
       "      <td>ART_AND_DESIGN</td>\n",
       "      <td>4.7</td>\n",
       "      <td>3632</td>\n",
       "      <td>5.5M</td>\n",
       "      <td>500,000+</td>\n",
       "      <td>Free</td>\n",
       "      <td>0</td>\n",
       "      <td>Everyone</td>\n",
       "      <td>Art &amp; Design</td>\n",
       "      <td>July 31, 2018</td>\n",
       "      <td>3.1</td>\n",
       "      <td>4.1 and up</td>\n",
       "    </tr>\n",
       "    <tr>\n",
       "      <th>17</th>\n",
       "      <td>350 Diy Room Decor Ideas</td>\n",
       "      <td>ART_AND_DESIGN</td>\n",
       "      <td>4.5</td>\n",
       "      <td>27</td>\n",
       "      <td>17M</td>\n",
       "      <td>10,000+</td>\n",
       "      <td>Free</td>\n",
       "      <td>0</td>\n",
       "      <td>Everyone</td>\n",
       "      <td>Art &amp; Design</td>\n",
       "      <td>November 7, 2017</td>\n",
       "      <td>1.0</td>\n",
       "      <td>2.3 and up</td>\n",
       "    </tr>\n",
       "    <tr>\n",
       "      <th>18</th>\n",
       "      <td>FlipaClip - Cartoon animation</td>\n",
       "      <td>ART_AND_DESIGN</td>\n",
       "      <td>4.3</td>\n",
       "      <td>194216</td>\n",
       "      <td>39M</td>\n",
       "      <td>5,000,000+</td>\n",
       "      <td>Free</td>\n",
       "      <td>0</td>\n",
       "      <td>Everyone</td>\n",
       "      <td>Art &amp; Design</td>\n",
       "      <td>August 3, 2018</td>\n",
       "      <td>2.2.5</td>\n",
       "      <td>4.0.3 and up</td>\n",
       "    </tr>\n",
       "    <tr>\n",
       "      <th>19</th>\n",
       "      <td>ibis Paint X</td>\n",
       "      <td>ART_AND_DESIGN</td>\n",
       "      <td>4.6</td>\n",
       "      <td>224399</td>\n",
       "      <td>31M</td>\n",
       "      <td>10,000,000+</td>\n",
       "      <td>Free</td>\n",
       "      <td>0</td>\n",
       "      <td>Everyone</td>\n",
       "      <td>Art &amp; Design</td>\n",
       "      <td>July 30, 2018</td>\n",
       "      <td>5.5.4</td>\n",
       "      <td>4.1 and up</td>\n",
       "    </tr>\n",
       "  </tbody>\n",
       "</table>\n",
       "</div>"
      ],
      "text/plain": [
       "                                                  App        Category  Rating  \\\n",
       "0      Photo Editor & Candy Camera & Grid & ScrapBook  ART_AND_DESIGN     4.1   \n",
       "1                                 Coloring book moana  ART_AND_DESIGN     3.9   \n",
       "2   U Launcher Lite – FREE Live Cool Themes, Hide ...  ART_AND_DESIGN     4.7   \n",
       "3                               Sketch - Draw & Paint  ART_AND_DESIGN     4.5   \n",
       "4               Pixel Draw - Number Art Coloring Book  ART_AND_DESIGN     4.3   \n",
       "5                          Paper flowers instructions  ART_AND_DESIGN     4.4   \n",
       "6             Smoke Effect Photo Maker - Smoke Editor  ART_AND_DESIGN     3.8   \n",
       "7                                    Infinite Painter  ART_AND_DESIGN     4.1   \n",
       "8                                Garden Coloring Book  ART_AND_DESIGN     4.4   \n",
       "9                       Kids Paint Free - Drawing Fun  ART_AND_DESIGN     4.7   \n",
       "10                            Text on Photo - Fonteee  ART_AND_DESIGN     4.4   \n",
       "11            Name Art Photo Editor - Focus n Filters  ART_AND_DESIGN     4.4   \n",
       "12                     Tattoo Name On My Photo Editor  ART_AND_DESIGN     4.2   \n",
       "13                              Mandala Coloring Book  ART_AND_DESIGN     4.6   \n",
       "14    3D Color Pixel by Number - Sandbox Art Coloring  ART_AND_DESIGN     4.4   \n",
       "15                    Learn To Draw Kawaii Characters  ART_AND_DESIGN     3.2   \n",
       "16       Photo Designer - Write your name with shapes  ART_AND_DESIGN     4.7   \n",
       "17                           350 Diy Room Decor Ideas  ART_AND_DESIGN     4.5   \n",
       "18                      FlipaClip - Cartoon animation  ART_AND_DESIGN     4.3   \n",
       "19                                       ibis Paint X  ART_AND_DESIGN     4.6   \n",
       "\n",
       "   Reviews  Size     Installs  Type Price Content Rating  \\\n",
       "0      159   19M      10,000+  Free     0       Everyone   \n",
       "1      967   14M     500,000+  Free     0       Everyone   \n",
       "2    87510  8.7M   5,000,000+  Free     0       Everyone   \n",
       "3   215644   25M  50,000,000+  Free     0           Teen   \n",
       "4      967  2.8M     100,000+  Free     0       Everyone   \n",
       "5      167  5.6M      50,000+  Free     0       Everyone   \n",
       "6      178   19M      50,000+  Free     0       Everyone   \n",
       "7    36815   29M   1,000,000+  Free     0       Everyone   \n",
       "8    13791   33M   1,000,000+  Free     0       Everyone   \n",
       "9      121  3.1M      10,000+  Free     0       Everyone   \n",
       "10   13880   28M   1,000,000+  Free     0       Everyone   \n",
       "11    8788   12M   1,000,000+  Free     0       Everyone   \n",
       "12   44829   20M  10,000,000+  Free     0           Teen   \n",
       "13    4326   21M     100,000+  Free     0       Everyone   \n",
       "14    1518   37M     100,000+  Free     0       Everyone   \n",
       "15      55  2.7M       5,000+  Free     0       Everyone   \n",
       "16    3632  5.5M     500,000+  Free     0       Everyone   \n",
       "17      27   17M      10,000+  Free     0       Everyone   \n",
       "18  194216   39M   5,000,000+  Free     0       Everyone   \n",
       "19  224399   31M  10,000,000+  Free     0       Everyone   \n",
       "\n",
       "                       Genres        Last Updated         Current Ver  \\\n",
       "0                Art & Design     January 7, 2018               1.0.0   \n",
       "1   Art & Design;Pretend Play    January 15, 2018               2.0.0   \n",
       "2                Art & Design      August 1, 2018               1.2.4   \n",
       "3                Art & Design        June 8, 2018  Varies with device   \n",
       "4     Art & Design;Creativity       June 20, 2018                 1.1   \n",
       "5                Art & Design      March 26, 2017                 1.0   \n",
       "6                Art & Design      April 26, 2018                 1.1   \n",
       "7                Art & Design       June 14, 2018            6.1.61.1   \n",
       "8                Art & Design  September 20, 2017               2.9.2   \n",
       "9     Art & Design;Creativity        July 3, 2018                 2.8   \n",
       "10               Art & Design    October 27, 2017               1.0.4   \n",
       "11               Art & Design       July 31, 2018              1.0.15   \n",
       "12               Art & Design       April 2, 2018                 3.8   \n",
       "13               Art & Design       June 26, 2018               1.0.4   \n",
       "14               Art & Design      August 3, 2018               1.2.3   \n",
       "15               Art & Design        June 6, 2018                 NaN   \n",
       "16               Art & Design       July 31, 2018                 3.1   \n",
       "17               Art & Design    November 7, 2017                 1.0   \n",
       "18               Art & Design      August 3, 2018               2.2.5   \n",
       "19               Art & Design       July 30, 2018               5.5.4   \n",
       "\n",
       "     Android Ver  \n",
       "0   4.0.3 and up  \n",
       "1   4.0.3 and up  \n",
       "2   4.0.3 and up  \n",
       "3     4.2 and up  \n",
       "4     4.4 and up  \n",
       "5     2.3 and up  \n",
       "6   4.0.3 and up  \n",
       "7     4.2 and up  \n",
       "8     3.0 and up  \n",
       "9   4.0.3 and up  \n",
       "10    4.1 and up  \n",
       "11    4.0 and up  \n",
       "12    4.1 and up  \n",
       "13    4.4 and up  \n",
       "14    2.3 and up  \n",
       "15    4.2 and up  \n",
       "16    4.1 and up  \n",
       "17    2.3 and up  \n",
       "18  4.0.3 and up  \n",
       "19    4.1 and up  "
      ]
     },
     "execution_count": 3,
     "metadata": {},
     "output_type": "execute_result"
    }
   ],
   "source": [
    "# printing the first 5 entries of the dataset\n",
    "df.head(20)"
   ]
  },
  {
   "cell_type": "markdown",
   "id": "e0d1c12c",
   "metadata": {},
   "source": [
    "# 2. EDA and Preprocessing (27 points)"
   ]
  },
  {
   "cell_type": "markdown",
   "id": "f235c7f1",
   "metadata": {},
   "source": [
    "a. Check the info and summary statistics of the dataset. List out the columns\n",
    "that need to be worked upon for model building. (2 points)"
   ]
  },
  {
   "cell_type": "code",
   "execution_count": 4,
   "id": "b7ab613e",
   "metadata": {},
   "outputs": [
    {
     "data": {
      "text/plain": [
       "(10841, 13)"
      ]
     },
     "execution_count": 4,
     "metadata": {},
     "output_type": "execute_result"
    }
   ],
   "source": [
    "# checking the rows and columns of the dataset\n",
    "df.shape"
   ]
  },
  {
   "cell_type": "code",
   "execution_count": 5,
   "id": "3c72dda7",
   "metadata": {},
   "outputs": [
    {
     "name": "stdout",
     "output_type": "stream",
     "text": [
      "<class 'pandas.core.frame.DataFrame'>\n",
      "RangeIndex: 10841 entries, 0 to 10840\n",
      "Data columns (total 13 columns):\n",
      " #   Column          Non-Null Count  Dtype  \n",
      "---  ------          --------------  -----  \n",
      " 0   App             10841 non-null  object \n",
      " 1   Category        10841 non-null  object \n",
      " 2   Rating          9367 non-null   float64\n",
      " 3   Reviews         10841 non-null  object \n",
      " 4   Size            10841 non-null  object \n",
      " 5   Installs        10841 non-null  object \n",
      " 6   Type            10840 non-null  object \n",
      " 7   Price           10841 non-null  object \n",
      " 8   Content Rating  10840 non-null  object \n",
      " 9   Genres          10841 non-null  object \n",
      " 10  Last Updated    10841 non-null  object \n",
      " 11  Current Ver     10833 non-null  object \n",
      " 12  Android Ver     10838 non-null  object \n",
      "dtypes: float64(1), object(12)\n",
      "memory usage: 1.1+ MB\n"
     ]
    }
   ],
   "source": [
    "# info() prints the number of non null values of each columns along with their data types\n",
    "df.info()"
   ]
  },
  {
   "cell_type": "markdown",
   "id": "1d650725",
   "metadata": {},
   "source": [
    "- most of the columns are object variables, which can be changed to numerical variables (eg., Size, Price, etc).\n",
    "- Some columns contain null values"
   ]
  },
  {
   "cell_type": "code",
   "execution_count": 6,
   "id": "9c1f5478",
   "metadata": {},
   "outputs": [
    {
     "data": {
      "text/html": [
       "<div>\n",
       "<style scoped>\n",
       "    .dataframe tbody tr th:only-of-type {\n",
       "        vertical-align: middle;\n",
       "    }\n",
       "\n",
       "    .dataframe tbody tr th {\n",
       "        vertical-align: top;\n",
       "    }\n",
       "\n",
       "    .dataframe thead th {\n",
       "        text-align: right;\n",
       "    }\n",
       "</style>\n",
       "<table border=\"1\" class=\"dataframe\">\n",
       "  <thead>\n",
       "    <tr style=\"text-align: right;\">\n",
       "      <th></th>\n",
       "      <th>Rating</th>\n",
       "    </tr>\n",
       "  </thead>\n",
       "  <tbody>\n",
       "    <tr>\n",
       "      <th>count</th>\n",
       "      <td>9367.000000</td>\n",
       "    </tr>\n",
       "    <tr>\n",
       "      <th>mean</th>\n",
       "      <td>4.193338</td>\n",
       "    </tr>\n",
       "    <tr>\n",
       "      <th>std</th>\n",
       "      <td>0.537431</td>\n",
       "    </tr>\n",
       "    <tr>\n",
       "      <th>min</th>\n",
       "      <td>1.000000</td>\n",
       "    </tr>\n",
       "    <tr>\n",
       "      <th>25%</th>\n",
       "      <td>4.000000</td>\n",
       "    </tr>\n",
       "    <tr>\n",
       "      <th>50%</th>\n",
       "      <td>4.300000</td>\n",
       "    </tr>\n",
       "    <tr>\n",
       "      <th>75%</th>\n",
       "      <td>4.500000</td>\n",
       "    </tr>\n",
       "    <tr>\n",
       "      <th>max</th>\n",
       "      <td>19.000000</td>\n",
       "    </tr>\n",
       "  </tbody>\n",
       "</table>\n",
       "</div>"
      ],
      "text/plain": [
       "            Rating\n",
       "count  9367.000000\n",
       "mean      4.193338\n",
       "std       0.537431\n",
       "min       1.000000\n",
       "25%       4.000000\n",
       "50%       4.300000\n",
       "75%       4.500000\n",
       "max      19.000000"
      ]
     },
     "execution_count": 6,
     "metadata": {},
     "output_type": "execute_result"
    }
   ],
   "source": [
    "# prints the 5 points summary with counts of the numerical columns\n",
    "df.describe()"
   ]
  },
  {
   "cell_type": "markdown",
   "id": "a9adefeb",
   "metadata": {},
   "source": [
    "- There is an outlier 19 in 'Rating' column"
   ]
  },
  {
   "cell_type": "code",
   "execution_count": 7,
   "id": "ec1a6a60",
   "metadata": {},
   "outputs": [
    {
     "name": "stdout",
     "output_type": "stream",
     "text": [
      "FAMILY                 1972\n",
      "GAME                   1144\n",
      "TOOLS                   843\n",
      "MEDICAL                 463\n",
      "BUSINESS                460\n",
      "PRODUCTIVITY            424\n",
      "PERSONALIZATION         392\n",
      "COMMUNICATION           387\n",
      "SPORTS                  384\n",
      "LIFESTYLE               382\n",
      "FINANCE                 366\n",
      "HEALTH_AND_FITNESS      341\n",
      "PHOTOGRAPHY             335\n",
      "SOCIAL                  295\n",
      "NEWS_AND_MAGAZINES      283\n",
      "SHOPPING                260\n",
      "TRAVEL_AND_LOCAL        258\n",
      "DATING                  234\n",
      "BOOKS_AND_REFERENCE     231\n",
      "VIDEO_PLAYERS           175\n",
      "EDUCATION               156\n",
      "ENTERTAINMENT           149\n",
      "MAPS_AND_NAVIGATION     137\n",
      "FOOD_AND_DRINK          127\n",
      "HOUSE_AND_HOME           88\n",
      "LIBRARIES_AND_DEMO       85\n",
      "AUTO_AND_VEHICLES        85\n",
      "WEATHER                  82\n",
      "ART_AND_DESIGN           65\n",
      "EVENTS                   64\n",
      "COMICS                   60\n",
      "PARENTING                60\n",
      "BEAUTY                   53\n",
      "1.9                       1\n",
      "Name: Category, dtype: int64\n",
      "1,000,000+        1579\n",
      "10,000,000+       1252\n",
      "100,000+          1169\n",
      "10,000+           1054\n",
      "1,000+             907\n",
      "5,000,000+         752\n",
      "100+               719\n",
      "500,000+           539\n",
      "50,000+            479\n",
      "5,000+             477\n",
      "100,000,000+       409\n",
      "10+                386\n",
      "500+               330\n",
      "50,000,000+        289\n",
      "50+                205\n",
      "5+                  82\n",
      "500,000,000+        72\n",
      "1+                  67\n",
      "1,000,000,000+      58\n",
      "0+                  14\n",
      "0                    1\n",
      "Free                 1\n",
      "Name: Installs, dtype: int64\n",
      "Free    10039\n",
      "Paid      800\n",
      "0           1\n",
      "Name: Type, dtype: int64\n",
      "Everyone           8714\n",
      "Teen               1208\n",
      "Mature 17+          499\n",
      "Everyone 10+        414\n",
      "Adults only 18+       3\n",
      "Unrated               2\n",
      "Name: Content Rating, dtype: int64\n",
      "Tools                                  842\n",
      "Entertainment                          623\n",
      "Education                              549\n",
      "Medical                                463\n",
      "Business                               460\n",
      "                                      ... \n",
      "February 11, 2018                        1\n",
      "Books & Reference;Creativity             1\n",
      "Entertainment;Education                  1\n",
      "Travel & Local;Action & Adventure        1\n",
      "Health & Fitness;Action & Adventure      1\n",
      "Name: Genres, Length: 120, dtype: int64\n",
      "Varies with device    1459\n",
      "1.0                    809\n",
      "1.1                    264\n",
      "1.2                    178\n",
      "2.0                    151\n",
      "                      ... \n",
      "37                       1\n",
      "1.284.1.83               1\n",
      "1.5.062                  1\n",
      "3.5.3183                 1\n",
      "1.36                     1\n",
      "Name: Current Ver, Length: 2832, dtype: int64\n",
      "4.1 and up            2451\n",
      "4.0.3 and up          1501\n",
      "4.0 and up            1375\n",
      "Varies with device    1362\n",
      "4.4 and up             980\n",
      "2.3 and up             652\n",
      "5.0 and up             601\n",
      "4.2 and up             394\n",
      "2.3.3 and up           281\n",
      "2.2 and up             244\n",
      "4.3 and up             243\n",
      "3.0 and up             241\n",
      "2.1 and up             134\n",
      "1.6 and up             116\n",
      "6.0 and up              60\n",
      "7.0 and up              42\n",
      "3.2 and up              36\n",
      "2.0 and up              32\n",
      "5.1 and up              24\n",
      "1.5 and up              20\n",
      "4.4W and up             12\n",
      "3.1 and up              10\n",
      "2.0.1 and up             7\n",
      "8.0 and up               6\n",
      "7.1 and up               3\n",
      "5.0 - 8.0                2\n",
      "1.0 and up               2\n",
      "4.0.3 - 7.1.1            2\n",
      "5.0 - 7.1.1              1\n",
      "2.2 - 7.1.1              1\n",
      "4.1 - 7.1.1              1\n",
      "7.0 - 7.1.1              1\n",
      "5.0 - 6.0                1\n",
      "Name: Android Ver, dtype: int64\n"
     ]
    }
   ],
   "source": [
    "# printing the value counts of all the categorical columns\n",
    "print(df['Category'].value_counts())\n",
    "print(df['Installs'].value_counts())\n",
    "print(df['Type'].value_counts())\n",
    "print(df['Content Rating'].value_counts())\n",
    "print(df['Genres'].value_counts())\n",
    "print(df['Current Ver'].value_counts())\n",
    "print(df['Android Ver'].value_counts())"
   ]
  },
  {
   "cell_type": "markdown",
   "id": "a5f40645",
   "metadata": {},
   "source": [
    "- Category contains 1.9 as an entry, which seems incorrect. \n",
    "- Installs column has 'Free' as an entry which needs to be worked upon\n",
    "- Type column contains one entry as 0, which has to be replaced with 'Free'\n",
    "- Current ver and android ver columns seem too cluttered to be taken into the model."
   ]
  },
  {
   "cell_type": "code",
   "execution_count": 8,
   "id": "c8eb2637",
   "metadata": {},
   "outputs": [
    {
     "name": "stdout",
     "output_type": "stream",
     "text": [
      "Category\n",
      "1.9                    19.000000\n",
      "ART_AND_DESIGN          4.358065\n",
      "AUTO_AND_VEHICLES       4.190411\n",
      "BEAUTY                  4.278571\n",
      "BOOKS_AND_REFERENCE     4.346067\n",
      "BUSINESS                4.121452\n",
      "COMICS                  4.155172\n",
      "COMMUNICATION           4.158537\n",
      "DATING                  3.970769\n",
      "EDUCATION               4.389032\n",
      "ENTERTAINMENT           4.126174\n",
      "EVENTS                  4.435556\n",
      "FAMILY                  4.192272\n",
      "FINANCE                 4.131889\n",
      "FOOD_AND_DRINK          4.166972\n",
      "GAME                    4.286326\n",
      "HEALTH_AND_FITNESS      4.277104\n",
      "HOUSE_AND_HOME          4.197368\n",
      "LIBRARIES_AND_DEMO      4.178462\n",
      "LIFESTYLE               4.094904\n",
      "MAPS_AND_NAVIGATION     4.051613\n",
      "MEDICAL                 4.189143\n",
      "NEWS_AND_MAGAZINES      4.132189\n",
      "PARENTING               4.300000\n",
      "PERSONALIZATION         4.335987\n",
      "PHOTOGRAPHY             4.192114\n",
      "PRODUCTIVITY            4.211396\n",
      "SHOPPING                4.259664\n",
      "SOCIAL                  4.255598\n",
      "SPORTS                  4.223511\n",
      "TOOLS                   4.047411\n",
      "TRAVEL_AND_LOCAL        4.109292\n",
      "VIDEO_PLAYERS           4.063750\n",
      "WEATHER                 4.244000\n",
      "Name: Rating, dtype: float64\n",
      "Content Rating\n",
      "Adults only 18+    4.300000\n",
      "Everyone           4.186375\n",
      "Everyone 10+       4.257179\n",
      "Mature 17+         4.123427\n",
      "Teen               4.233487\n",
      "Unrated            4.100000\n",
      "Name: Rating, dtype: float64\n",
      "Installs\n",
      "0                       NaN\n",
      "0+                      NaN\n",
      "1+                 5.000000\n",
      "1,000+             4.066760\n",
      "1,000,000+         4.220862\n",
      "1,000,000,000+     4.258621\n",
      "10+                4.624638\n",
      "10,000+            4.039703\n",
      "10,000,000+        4.313419\n",
      "100+               4.363430\n",
      "100,000+           4.110261\n",
      "100,000,000+       4.411491\n",
      "5+                 4.611111\n",
      "5,000+             4.024537\n",
      "5,000,000+         4.243218\n",
      "50+                4.419643\n",
      "50,000+            4.051178\n",
      "50,000,000+        4.351211\n",
      "500+               4.176617\n",
      "500,000+           4.168216\n",
      "500,000,000+       4.350000\n",
      "Free              19.000000\n",
      "Name: Rating, dtype: float64\n",
      "Type\n",
      "0       19.000000\n",
      "Free     4.186203\n",
      "Paid     4.266615\n",
      "Name: Rating, dtype: float64\n"
     ]
    }
   ],
   "source": [
    "print (df.groupby('Category')['Rating'].mean())\n",
    "print(df.groupby('Content Rating')['Rating'].mean())\n",
    "print(df.groupby('Installs')['Rating'].mean())\n",
    "print(df.groupby('Type')['Rating'].mean())"
   ]
  },
  {
   "cell_type": "code",
   "execution_count": 9,
   "id": "be6ff208",
   "metadata": {},
   "outputs": [
    {
     "data": {
      "text/plain": [
       "App                  0\n",
       "Category             0\n",
       "Rating            1474\n",
       "Reviews              0\n",
       "Size                 0\n",
       "Installs             0\n",
       "Type                 1\n",
       "Price                0\n",
       "Content Rating       1\n",
       "Genres               0\n",
       "Last Updated         0\n",
       "Current Ver          8\n",
       "Android Ver          3\n",
       "dtype: int64"
      ]
     },
     "execution_count": 9,
     "metadata": {},
     "output_type": "execute_result"
    }
   ],
   "source": [
    "# printing the number of null values in each columns\n",
    "df.isnull().sum()"
   ]
  },
  {
   "cell_type": "markdown",
   "id": "ff712095",
   "metadata": {},
   "source": [
    "b. Check if there are any duplicate entries for the apps (1 point)"
   ]
  },
  {
   "cell_type": "code",
   "execution_count": 10,
   "id": "b669d640",
   "metadata": {},
   "outputs": [],
   "source": [
    "# checking the number of rows with duplicated entries for App and saving them into a dataframe\n",
    "duplicateapps = df[df.duplicated('App')]"
   ]
  },
  {
   "cell_type": "code",
   "execution_count": 11,
   "id": "1740bd53",
   "metadata": {},
   "outputs": [
    {
     "data": {
      "text/plain": [
       "(1181, 13)"
      ]
     },
     "execution_count": 11,
     "metadata": {},
     "output_type": "execute_result"
    }
   ],
   "source": [
    "# checking the number of rows of the duplicated rows\n",
    "duplicateapps.shape"
   ]
  },
  {
   "cell_type": "code",
   "execution_count": 12,
   "id": "e462f9ae",
   "metadata": {},
   "outputs": [],
   "source": [
    "# dropping the duplicates from df dataset keeping only one entry for each app (i.e., the first one)\n",
    "df = df.drop_duplicates(subset='App', keep=\"first\")"
   ]
  },
  {
   "cell_type": "code",
   "execution_count": 13,
   "id": "40aa8e48",
   "metadata": {},
   "outputs": [
    {
     "name": "stdout",
     "output_type": "stream",
     "text": [
      "<class 'pandas.core.frame.DataFrame'>\n",
      "Int64Index: 9660 entries, 0 to 10840\n",
      "Data columns (total 13 columns):\n",
      " #   Column          Non-Null Count  Dtype  \n",
      "---  ------          --------------  -----  \n",
      " 0   App             9660 non-null   object \n",
      " 1   Category        9660 non-null   object \n",
      " 2   Rating          8197 non-null   float64\n",
      " 3   Reviews         9660 non-null   object \n",
      " 4   Size            9660 non-null   object \n",
      " 5   Installs        9660 non-null   object \n",
      " 6   Type            9659 non-null   object \n",
      " 7   Price           9660 non-null   object \n",
      " 8   Content Rating  9659 non-null   object \n",
      " 9   Genres          9660 non-null   object \n",
      " 10  Last Updated    9660 non-null   object \n",
      " 11  Current Ver     9652 non-null   object \n",
      " 12  Android Ver     9657 non-null   object \n",
      "dtypes: float64(1), object(12)\n",
      "memory usage: 1.0+ MB\n"
     ]
    }
   ],
   "source": [
    "df.info()"
   ]
  },
  {
   "cell_type": "markdown",
   "id": "2baa984f",
   "metadata": {},
   "source": [
    "c. Check if there are any wrong values in the ‘Category’ column and impute\n",
    "them with relevant values. (2 points)"
   ]
  },
  {
   "cell_type": "code",
   "execution_count": 14,
   "id": "003a3ce8",
   "metadata": {},
   "outputs": [
    {
     "name": "stdout",
     "output_type": "stream",
     "text": [
      "FAMILY                 1832\n",
      "GAME                    959\n",
      "TOOLS                   827\n",
      "BUSINESS                420\n",
      "MEDICAL                 395\n",
      "PERSONALIZATION         376\n",
      "PRODUCTIVITY            374\n",
      "LIFESTYLE               369\n",
      "FINANCE                 345\n",
      "SPORTS                  325\n",
      "COMMUNICATION           315\n",
      "HEALTH_AND_FITNESS      288\n",
      "PHOTOGRAPHY             281\n",
      "NEWS_AND_MAGAZINES      254\n",
      "SOCIAL                  239\n",
      "BOOKS_AND_REFERENCE     222\n",
      "TRAVEL_AND_LOCAL        219\n",
      "SHOPPING                202\n",
      "DATING                  171\n",
      "VIDEO_PLAYERS           163\n",
      "MAPS_AND_NAVIGATION     131\n",
      "EDUCATION               119\n",
      "FOOD_AND_DRINK          112\n",
      "ENTERTAINMENT           102\n",
      "AUTO_AND_VEHICLES        85\n",
      "LIBRARIES_AND_DEMO       84\n",
      "WEATHER                  79\n",
      "HOUSE_AND_HOME           74\n",
      "ART_AND_DESIGN           64\n",
      "EVENTS                   64\n",
      "PARENTING                60\n",
      "COMICS                   56\n",
      "BEAUTY                   53\n",
      "1.9                       1\n",
      "Name: Category, dtype: int64\n"
     ]
    }
   ],
   "source": [
    "# printing the number of apps for each categories in the dataset\n",
    "print(df['Category'].value_counts())"
   ]
  },
  {
   "cell_type": "markdown",
   "id": "ac11719a",
   "metadata": {},
   "source": [
    "- Category with 1.9 as an entry needs to be worked upon"
   ]
  },
  {
   "cell_type": "code",
   "execution_count": 15,
   "id": "63de2c15",
   "metadata": {},
   "outputs": [
    {
     "data": {
      "text/html": [
       "<div>\n",
       "<style scoped>\n",
       "    .dataframe tbody tr th:only-of-type {\n",
       "        vertical-align: middle;\n",
       "    }\n",
       "\n",
       "    .dataframe tbody tr th {\n",
       "        vertical-align: top;\n",
       "    }\n",
       "\n",
       "    .dataframe thead th {\n",
       "        text-align: right;\n",
       "    }\n",
       "</style>\n",
       "<table border=\"1\" class=\"dataframe\">\n",
       "  <thead>\n",
       "    <tr style=\"text-align: right;\">\n",
       "      <th></th>\n",
       "      <th>App</th>\n",
       "      <th>Category</th>\n",
       "      <th>Rating</th>\n",
       "      <th>Reviews</th>\n",
       "      <th>Size</th>\n",
       "      <th>Installs</th>\n",
       "      <th>Type</th>\n",
       "      <th>Price</th>\n",
       "      <th>Content Rating</th>\n",
       "      <th>Genres</th>\n",
       "      <th>Last Updated</th>\n",
       "      <th>Current Ver</th>\n",
       "      <th>Android Ver</th>\n",
       "    </tr>\n",
       "  </thead>\n",
       "  <tbody>\n",
       "    <tr>\n",
       "      <th>10472</th>\n",
       "      <td>Life Made WI-Fi Touchscreen Photo Frame</td>\n",
       "      <td>1.9</td>\n",
       "      <td>19.0</td>\n",
       "      <td>3.0M</td>\n",
       "      <td>1,000+</td>\n",
       "      <td>Free</td>\n",
       "      <td>0</td>\n",
       "      <td>Everyone</td>\n",
       "      <td>NaN</td>\n",
       "      <td>February 11, 2018</td>\n",
       "      <td>1.0.19</td>\n",
       "      <td>4.0 and up</td>\n",
       "      <td>NaN</td>\n",
       "    </tr>\n",
       "  </tbody>\n",
       "</table>\n",
       "</div>"
      ],
      "text/plain": [
       "                                           App Category  Rating Reviews  \\\n",
       "10472  Life Made WI-Fi Touchscreen Photo Frame      1.9    19.0    3.0M   \n",
       "\n",
       "         Size Installs Type     Price Content Rating             Genres  \\\n",
       "10472  1,000+     Free    0  Everyone            NaN  February 11, 2018   \n",
       "\n",
       "      Last Updated Current Ver Android Ver  \n",
       "10472       1.0.19  4.0 and up         NaN  "
      ]
     },
     "execution_count": 15,
     "metadata": {},
     "output_type": "execute_result"
    }
   ],
   "source": [
    "df[df['Category']=='1.9']"
   ]
  },
  {
   "cell_type": "markdown",
   "id": "81dfd196",
   "metadata": {},
   "source": [
    "- Seems that all the entries starting from Category column are shifted one cell left. \n",
    "- From the name of App, we can conclude that Category for this app is Photography\n",
    "- We will updatee all the columns in this row with proper values"
   ]
  },
  {
   "cell_type": "code",
   "execution_count": 16,
   "id": "dc33f2fa",
   "metadata": {},
   "outputs": [],
   "source": [
    "# updating the column value with the value in call immediately left of it\n",
    "df.loc[df['Category'] =='1.9', 'Reviews'] = '19'\n",
    "df.loc[df['Category'] =='1.9', 'Rating'] = 1.9\n",
    "df.loc[df['Category'] =='1.9', 'Size'] = '3.0M'\n",
    "df.loc[df['Category'] =='1.9', 'Installs'] = '1000+'\n",
    "df.loc[df['Category'] =='1.9', 'Type'] = 'Free'\n",
    "df.loc[df['Category'] =='1.9', 'Price'] = '0'\n",
    "df.loc[df['Category'] =='1.9', 'Content Rating'] = 'Everyone'\n",
    "df.loc[df['Category'] =='1.9', 'Genres'] = np.nan\n",
    "df.loc[df['Category'] =='1.9', 'Last Updated'] = 'February 11, 2018'\n",
    "df.loc[df['Category'] =='1.9', 'Current Ver'] = '1.0.19'\n",
    "df.loc[df['Category'] =='1.9', 'Android Ver'] = '4.0 and up'"
   ]
  },
  {
   "cell_type": "code",
   "execution_count": 17,
   "id": "a4ffa4c0",
   "metadata": {},
   "outputs": [],
   "source": [
    "# updating the column Category with Photography\n",
    "df.loc[df['Category'] =='1.9', 'Category'] = 'PHOTOGRAPHY'"
   ]
  },
  {
   "cell_type": "code",
   "execution_count": 18,
   "id": "02b58557",
   "metadata": {},
   "outputs": [
    {
     "data": {
      "text/html": [
       "<div>\n",
       "<style scoped>\n",
       "    .dataframe tbody tr th:only-of-type {\n",
       "        vertical-align: middle;\n",
       "    }\n",
       "\n",
       "    .dataframe tbody tr th {\n",
       "        vertical-align: top;\n",
       "    }\n",
       "\n",
       "    .dataframe thead th {\n",
       "        text-align: right;\n",
       "    }\n",
       "</style>\n",
       "<table border=\"1\" class=\"dataframe\">\n",
       "  <thead>\n",
       "    <tr style=\"text-align: right;\">\n",
       "      <th></th>\n",
       "      <th>App</th>\n",
       "      <th>Category</th>\n",
       "      <th>Rating</th>\n",
       "      <th>Reviews</th>\n",
       "      <th>Size</th>\n",
       "      <th>Installs</th>\n",
       "      <th>Type</th>\n",
       "      <th>Price</th>\n",
       "      <th>Content Rating</th>\n",
       "      <th>Genres</th>\n",
       "      <th>Last Updated</th>\n",
       "      <th>Current Ver</th>\n",
       "      <th>Android Ver</th>\n",
       "    </tr>\n",
       "  </thead>\n",
       "  <tbody>\n",
       "  </tbody>\n",
       "</table>\n",
       "</div>"
      ],
      "text/plain": [
       "Empty DataFrame\n",
       "Columns: [App, Category, Rating, Reviews, Size, Installs, Type, Price, Content Rating, Genres, Last Updated, Current Ver, Android Ver]\n",
       "Index: []"
      ]
     },
     "execution_count": 18,
     "metadata": {},
     "output_type": "execute_result"
    }
   ],
   "source": [
    "df[df['Category']=='1.9']"
   ]
  },
  {
   "cell_type": "markdown",
   "id": "0f9e311e",
   "metadata": {},
   "source": [
    "d. Which category has the highest number of apps? (2 points) \n"
   ]
  },
  {
   "cell_type": "code",
   "execution_count": 19,
   "id": "27185b01",
   "metadata": {},
   "outputs": [
    {
     "data": {
      "text/plain": [
       "'FAMILY'"
      ]
     },
     "execution_count": 19,
     "metadata": {},
     "output_type": "execute_result"
    }
   ],
   "source": [
    "# idxmax() returns the index of first occurence of maximum value\n",
    "df['Category'].value_counts().idxmax()"
   ]
  },
  {
   "cell_type": "markdown",
   "id": "5f46ca92",
   "metadata": {},
   "source": [
    "e. Check the distribution of rating column and convert ratings into two\n",
    "categories and save it in the data frame as ‘Rating_cat’ ( high = +>3.5 and\n",
    "remaining as low) (2 points)"
   ]
  },
  {
   "cell_type": "code",
   "execution_count": 20,
   "id": "0d2f7422",
   "metadata": {},
   "outputs": [
    {
     "data": {
      "text/plain": [
       "count    8197.000000\n",
       "mean        4.172966\n",
       "std         0.537179\n",
       "min         1.000000\n",
       "25%         4.000000\n",
       "50%         4.300000\n",
       "75%         4.500000\n",
       "max         5.000000\n",
       "Name: Rating, dtype: float64"
      ]
     },
     "execution_count": 20,
     "metadata": {},
     "output_type": "execute_result"
    }
   ],
   "source": [
    "df.Rating.describe()"
   ]
  },
  {
   "cell_type": "code",
   "execution_count": 21,
   "id": "19b6b608",
   "metadata": {},
   "outputs": [
    {
     "data": {
      "text/plain": [
       "App                  0\n",
       "Category             0\n",
       "Rating            1463\n",
       "Reviews              0\n",
       "Size                 0\n",
       "Installs             0\n",
       "Type                 1\n",
       "Price                0\n",
       "Content Rating       0\n",
       "Genres               1\n",
       "Last Updated         0\n",
       "Current Ver          8\n",
       "Android Ver          2\n",
       "dtype: int64"
      ]
     },
     "execution_count": 21,
     "metadata": {},
     "output_type": "execute_result"
    }
   ],
   "source": [
    "df.isnull().sum()"
   ]
  },
  {
   "cell_type": "code",
   "execution_count": 22,
   "id": "30b3e6ab",
   "metadata": {},
   "outputs": [],
   "source": [
    "# replacing the null values in Rating column with the median of the column\n",
    "df['Rating'] = df['Rating'].fillna(df['Rating'].median())"
   ]
  },
  {
   "cell_type": "code",
   "execution_count": 23,
   "id": "59e1a0a4",
   "metadata": {},
   "outputs": [
    {
     "data": {
      "text/html": [
       "<div>\n",
       "<style scoped>\n",
       "    .dataframe tbody tr th:only-of-type {\n",
       "        vertical-align: middle;\n",
       "    }\n",
       "\n",
       "    .dataframe tbody tr th {\n",
       "        vertical-align: top;\n",
       "    }\n",
       "\n",
       "    .dataframe thead th {\n",
       "        text-align: right;\n",
       "    }\n",
       "</style>\n",
       "<table border=\"1\" class=\"dataframe\">\n",
       "  <thead>\n",
       "    <tr style=\"text-align: right;\">\n",
       "      <th></th>\n",
       "      <th>Rating</th>\n",
       "    </tr>\n",
       "  </thead>\n",
       "  <tbody>\n",
       "    <tr>\n",
       "      <th>count</th>\n",
       "      <td>9660.000000</td>\n",
       "    </tr>\n",
       "    <tr>\n",
       "      <th>mean</th>\n",
       "      <td>4.192205</td>\n",
       "    </tr>\n",
       "    <tr>\n",
       "      <th>std</th>\n",
       "      <td>0.496919</td>\n",
       "    </tr>\n",
       "    <tr>\n",
       "      <th>min</th>\n",
       "      <td>1.000000</td>\n",
       "    </tr>\n",
       "    <tr>\n",
       "      <th>25%</th>\n",
       "      <td>4.000000</td>\n",
       "    </tr>\n",
       "    <tr>\n",
       "      <th>50%</th>\n",
       "      <td>4.300000</td>\n",
       "    </tr>\n",
       "    <tr>\n",
       "      <th>75%</th>\n",
       "      <td>4.500000</td>\n",
       "    </tr>\n",
       "    <tr>\n",
       "      <th>max</th>\n",
       "      <td>5.000000</td>\n",
       "    </tr>\n",
       "  </tbody>\n",
       "</table>\n",
       "</div>"
      ],
      "text/plain": [
       "            Rating\n",
       "count  9660.000000\n",
       "mean      4.192205\n",
       "std       0.496919\n",
       "min       1.000000\n",
       "25%       4.000000\n",
       "50%       4.300000\n",
       "75%       4.500000\n",
       "max       5.000000"
      ]
     },
     "execution_count": 23,
     "metadata": {},
     "output_type": "execute_result"
    }
   ],
   "source": [
    "df.describe()"
   ]
  },
  {
   "cell_type": "code",
   "execution_count": 24,
   "id": "9f6fbf1c",
   "metadata": {},
   "outputs": [],
   "source": [
    "# makinf a new column Rating_Cat based on the given condition\n",
    "df['Rating_Cat'] = ['high' if x>3.5 else 'low' for x in df['Rating']]"
   ]
  },
  {
   "cell_type": "code",
   "execution_count": 25,
   "id": "9fe6e20e",
   "metadata": {},
   "outputs": [
    {
     "data": {
      "text/plain": [
       "high    8785\n",
       "low      875\n",
       "Name: Rating_Cat, dtype: int64"
      ]
     },
     "execution_count": 25,
     "metadata": {},
     "output_type": "execute_result"
    }
   ],
   "source": [
    "df.Rating_Cat.value_counts()"
   ]
  },
  {
   "cell_type": "markdown",
   "id": "35a1de66",
   "metadata": {},
   "source": [
    "f. Convert the ‘Reviews’ column to a numerical column and impute invalid\n",
    "values if there are any. (1 point) "
   ]
  },
  {
   "cell_type": "code",
   "execution_count": 39,
   "id": "5c45f5d0",
   "metadata": {},
   "outputs": [],
   "source": [
    "# converting reviews column to integer type\n",
    "df['Reviews'] = df['Reviews'].astype(int)"
   ]
  },
  {
   "cell_type": "code",
   "execution_count": 40,
   "id": "07bdc7e9",
   "metadata": {},
   "outputs": [
    {
     "data": {
      "text/html": [
       "<div>\n",
       "<style scoped>\n",
       "    .dataframe tbody tr th:only-of-type {\n",
       "        vertical-align: middle;\n",
       "    }\n",
       "\n",
       "    .dataframe tbody tr th {\n",
       "        vertical-align: top;\n",
       "    }\n",
       "\n",
       "    .dataframe thead th {\n",
       "        text-align: right;\n",
       "    }\n",
       "</style>\n",
       "<table border=\"1\" class=\"dataframe\">\n",
       "  <thead>\n",
       "    <tr style=\"text-align: right;\">\n",
       "      <th></th>\n",
       "      <th>Rating</th>\n",
       "      <th>Reviews</th>\n",
       "      <th>Size</th>\n",
       "    </tr>\n",
       "  </thead>\n",
       "  <tbody>\n",
       "    <tr>\n",
       "      <th>count</th>\n",
       "      <td>9660.000000</td>\n",
       "      <td>9.660000e+03</td>\n",
       "      <td>9.660000e+03</td>\n",
       "    </tr>\n",
       "    <tr>\n",
       "      <th>mean</th>\n",
       "      <td>4.192205</td>\n",
       "      <td>2.165701e+05</td>\n",
       "      <td>2.047615e+07</td>\n",
       "    </tr>\n",
       "    <tr>\n",
       "      <th>std</th>\n",
       "      <td>0.496919</td>\n",
       "      <td>1.831226e+06</td>\n",
       "      <td>2.167638e+07</td>\n",
       "    </tr>\n",
       "    <tr>\n",
       "      <th>min</th>\n",
       "      <td>1.000000</td>\n",
       "      <td>0.000000e+00</td>\n",
       "      <td>8.500000e+03</td>\n",
       "    </tr>\n",
       "    <tr>\n",
       "      <th>25%</th>\n",
       "      <td>4.000000</td>\n",
       "      <td>2.500000e+01</td>\n",
       "      <td>4.700000e+06</td>\n",
       "    </tr>\n",
       "    <tr>\n",
       "      <th>50%</th>\n",
       "      <td>4.300000</td>\n",
       "      <td>9.670000e+02</td>\n",
       "      <td>1.200000e+07</td>\n",
       "    </tr>\n",
       "    <tr>\n",
       "      <th>75%</th>\n",
       "      <td>4.500000</td>\n",
       "      <td>2.939400e+04</td>\n",
       "      <td>2.800000e+07</td>\n",
       "    </tr>\n",
       "    <tr>\n",
       "      <th>max</th>\n",
       "      <td>5.000000</td>\n",
       "      <td>7.815831e+07</td>\n",
       "      <td>1.000000e+08</td>\n",
       "    </tr>\n",
       "  </tbody>\n",
       "</table>\n",
       "</div>"
      ],
      "text/plain": [
       "            Rating       Reviews          Size\n",
       "count  9660.000000  9.660000e+03  9.660000e+03\n",
       "mean      4.192205  2.165701e+05  2.047615e+07\n",
       "std       0.496919  1.831226e+06  2.167638e+07\n",
       "min       1.000000  0.000000e+00  8.500000e+03\n",
       "25%       4.000000  2.500000e+01  4.700000e+06\n",
       "50%       4.300000  9.670000e+02  1.200000e+07\n",
       "75%       4.500000  2.939400e+04  2.800000e+07\n",
       "max       5.000000  7.815831e+07  1.000000e+08"
      ]
     },
     "execution_count": 40,
     "metadata": {},
     "output_type": "execute_result"
    }
   ],
   "source": [
    "df.describe()"
   ]
  },
  {
   "cell_type": "code",
   "execution_count": 41,
   "id": "f0ff5eb9",
   "metadata": {},
   "outputs": [
    {
     "name": "stderr",
     "output_type": "stream",
     "text": [
      "C:\\Users\\hp\\New folder\\lib\\site-packages\\pandas\\core\\arraylike.py:358: RuntimeWarning: divide by zero encountered in log\n",
      "  result = getattr(ufunc, method)(*inputs, **kwargs)\n",
      "C:\\Users\\hp\\New folder\\lib\\site-packages\\seaborn\\_decorators.py:36: FutureWarning: Pass the following variable as a keyword arg: x. From version 0.12, the only valid positional argument will be `data`, and passing other arguments without an explicit keyword will result in an error or misinterpretation.\n",
      "  warnings.warn(\n"
     ]
    },
    {
     "data": {
      "text/plain": [
       "<AxesSubplot:xlabel='Reviews'>"
      ]
     },
     "execution_count": 41,
     "metadata": {},
     "output_type": "execute_result"
    },
    {
     "data": {
      "image/png": "[encoded data removed]",
      "text/plain": [
       "<Figure size 432x288 with 1 Axes>"
      ]
     },
     "metadata": {
      "needs_background": "light"
     },
     "output_type": "display_data"
    }
   ],
   "source": [
    "# printing the box plot of reviews column (using log values as reviews column is highly right skewed ) \n",
    "sns.boxplot(np.log(df.Reviews))"
   ]
  },
  {
   "cell_type": "markdown",
   "id": "1b034929",
   "metadata": {},
   "source": [
    "g. Name the top 5 apps which have the highest number of reviews and their\n",
    "genre? (1 point) "
   ]
  },
  {
   "cell_type": "code",
   "execution_count": 42,
   "id": "1ca9e70c",
   "metadata": {},
   "outputs": [],
   "source": [
    "# storing the top five apps and their genre in top5\n",
    "top5=df.sort_values('Reviews', ascending=False)[['App', 'Genres']].head(5)"
   ]
  },
  {
   "cell_type": "code",
   "execution_count": 43,
   "id": "06ccbe20",
   "metadata": {},
   "outputs": [
    {
     "data": {
      "text/html": [
       "<div>\n",
       "<style scoped>\n",
       "    .dataframe tbody tr th:only-of-type {\n",
       "        vertical-align: middle;\n",
       "    }\n",
       "\n",
       "    .dataframe tbody tr th {\n",
       "        vertical-align: top;\n",
       "    }\n",
       "\n",
       "    .dataframe thead th {\n",
       "        text-align: right;\n",
       "    }\n",
       "</style>\n",
       "<table border=\"1\" class=\"dataframe\">\n",
       "  <thead>\n",
       "    <tr style=\"text-align: right;\">\n",
       "      <th></th>\n",
       "      <th>App</th>\n",
       "      <th>Genres</th>\n",
       "    </tr>\n",
       "  </thead>\n",
       "  <tbody>\n",
       "    <tr>\n",
       "      <th>2544</th>\n",
       "      <td>Facebook</td>\n",
       "      <td>Social</td>\n",
       "    </tr>\n",
       "    <tr>\n",
       "      <th>336</th>\n",
       "      <td>WhatsApp Messenger</td>\n",
       "      <td>Communication</td>\n",
       "    </tr>\n",
       "    <tr>\n",
       "      <th>2545</th>\n",
       "      <td>Instagram</td>\n",
       "      <td>Social</td>\n",
       "    </tr>\n",
       "    <tr>\n",
       "      <th>335</th>\n",
       "      <td>Messenger – Text and Video Chat for Free</td>\n",
       "      <td>Communication</td>\n",
       "    </tr>\n",
       "    <tr>\n",
       "      <th>1670</th>\n",
       "      <td>Clash of Clans</td>\n",
       "      <td>Strategy</td>\n",
       "    </tr>\n",
       "  </tbody>\n",
       "</table>\n",
       "</div>"
      ],
      "text/plain": [
       "                                           App         Genres\n",
       "2544                                  Facebook         Social\n",
       "336                         WhatsApp Messenger  Communication\n",
       "2545                                 Instagram         Social\n",
       "335   Messenger – Text and Video Chat for Free  Communication\n",
       "1670                            Clash of Clans       Strategy"
      ]
     },
     "execution_count": 43,
     "metadata": {},
     "output_type": "execute_result"
    }
   ],
   "source": [
    "top5"
   ]
  },
  {
   "cell_type": "markdown",
   "id": "204469e8",
   "metadata": {},
   "source": [
    "h. Make the values of ‘Size’ as integers by replacing M and K with correct\n",
    "values. Convert all the values to numeric and make invalid values to NaN. (\n",
    "3 points)"
   ]
  },
  {
   "cell_type": "code",
   "execution_count": 44,
   "id": "5242173e",
   "metadata": {},
   "outputs": [
    {
     "data": {
      "text/plain": [
       "14000000.0    216\n",
       "12000000.0    209\n",
       "13000000.0    208\n",
       "11000000.0    208\n",
       "15000000.0    183\n",
       "             ... \n",
       "554000.0        1\n",
       "470000.0        1\n",
       "437000.0        1\n",
       "269000.0        1\n",
       "540000.0        1\n",
       "Name: Size, Length: 459, dtype: int64"
      ]
     },
     "execution_count": 44,
     "metadata": {},
     "output_type": "execute_result"
    }
   ],
   "source": [
    "df.Size.value_counts()"
   ]
  },
  {
   "cell_type": "code",
   "execution_count": 46,
   "id": "6bf2bb63",
   "metadata": {},
   "outputs": [],
   "source": [
    "# we make function called 'change_size', based on size string being in MB or KB, we convert it to bytes.\n",
    "# apps whose size varies with device, are given null value\n",
    "def change_size(size):\n",
    "    if 'M' == size[-1:]:\n",
    "        x = size[:-1]\n",
    "        x = float(x)*1000000\n",
    "        return(x)\n",
    "    elif 'k' == size[-1:]:\n",
    "        x = size[:-1]\n",
    "        x = float(x)*1000\n",
    "        return(x)\n",
    "    else:\n",
    "        return None\n",
    "# updating the size column using the function\n",
    "df[\"Size\"] = df[\"Size\"].map(change_size)"
   ]
  },
  {
   "cell_type": "code",
   "execution_count": 47,
   "id": "7ae33ccb",
   "metadata": {},
   "outputs": [
    {
     "data": {
      "text/plain": [
       "0        19000000.0\n",
       "1        14000000.0\n",
       "2         8700000.0\n",
       "3        25000000.0\n",
       "4         2800000.0\n",
       "            ...    \n",
       "10836    53000000.0\n",
       "10837     3600000.0\n",
       "10838     9500000.0\n",
       "10839     9500000.0\n",
       "10840    19000000.0\n",
       "Name: Size, Length: 9660, dtype: float64"
      ]
     },
     "execution_count": 47,
     "metadata": {},
     "output_type": "execute_result"
    }
   ],
   "source": [
    "df.Size"
   ]
  },
  {
   "cell_type": "code",
   "execution_count": 48,
   "id": "233d15c2",
   "metadata": {},
   "outputs": [],
   "source": [
    "# updating the null values with ffill method (the empty space gets updated with the value in trailing row)\n",
    "df.Size.fillna(method = 'ffill', inplace = True)"
   ]
  },
  {
   "cell_type": "code",
   "execution_count": 49,
   "id": "d04430de",
   "metadata": {},
   "outputs": [
    {
     "data": {
      "text/plain": [
       "count    9.660000e+03\n",
       "mean     2.047615e+07\n",
       "std      2.167638e+07\n",
       "min      8.500000e+03\n",
       "25%      4.700000e+06\n",
       "50%      1.200000e+07\n",
       "75%      2.800000e+07\n",
       "max      1.000000e+08\n",
       "Name: Size, dtype: float64"
      ]
     },
     "execution_count": 49,
     "metadata": {},
     "output_type": "execute_result"
    }
   ],
   "source": [
    "df.Size.describe()"
   ]
  },
  {
   "cell_type": "code",
   "execution_count": 50,
   "id": "b217e64d",
   "metadata": {},
   "outputs": [
    {
     "name": "stderr",
     "output_type": "stream",
     "text": [
      "C:\\Users\\hp\\New folder\\lib\\site-packages\\seaborn\\_decorators.py:36: FutureWarning: Pass the following variable as a keyword arg: x. From version 0.12, the only valid positional argument will be `data`, and passing other arguments without an explicit keyword will result in an error or misinterpretation.\n",
      "  warnings.warn(\n"
     ]
    },
    {
     "data": {
      "text/plain": [
       "<AxesSubplot:xlabel='Size'>"
      ]
     },
     "execution_count": 50,
     "metadata": {},
     "output_type": "execute_result"
    },
    {
     "data": {
      "image/png": "[encoded data removed]",
      "text/plain": [
       "<Figure size 432x288 with 1 Axes>"
      ]
     },
     "metadata": {
      "needs_background": "light"
     },
     "output_type": "display_data"
    }
   ],
   "source": [
    "sns.boxplot(df.Size)"
   ]
  },
  {
   "cell_type": "code",
   "execution_count": 51,
   "id": "7bb1cc44",
   "metadata": {},
   "outputs": [
    {
     "data": {
      "text/html": [
       "<div>\n",
       "<style scoped>\n",
       "    .dataframe tbody tr th:only-of-type {\n",
       "        vertical-align: middle;\n",
       "    }\n",
       "\n",
       "    .dataframe tbody tr th {\n",
       "        vertical-align: top;\n",
       "    }\n",
       "\n",
       "    .dataframe thead th {\n",
       "        text-align: right;\n",
       "    }\n",
       "</style>\n",
       "<table border=\"1\" class=\"dataframe\">\n",
       "  <thead>\n",
       "    <tr style=\"text-align: right;\">\n",
       "      <th></th>\n",
       "      <th>App</th>\n",
       "      <th>Category</th>\n",
       "      <th>Rating</th>\n",
       "      <th>Reviews</th>\n",
       "      <th>Size</th>\n",
       "      <th>Installs</th>\n",
       "      <th>Type</th>\n",
       "      <th>Price</th>\n",
       "      <th>Content Rating</th>\n",
       "      <th>Genres</th>\n",
       "      <th>Last Updated</th>\n",
       "      <th>Current Ver</th>\n",
       "      <th>Android Ver</th>\n",
       "      <th>Rating_Cat</th>\n",
       "    </tr>\n",
       "  </thead>\n",
       "  <tbody>\n",
       "    <tr>\n",
       "      <th>10836</th>\n",
       "      <td>Sya9a Maroc - FR</td>\n",
       "      <td>FAMILY</td>\n",
       "      <td>4.5</td>\n",
       "      <td>38</td>\n",
       "      <td>53000000.0</td>\n",
       "      <td>5,000+</td>\n",
       "      <td>Free</td>\n",
       "      <td>0</td>\n",
       "      <td>Everyone</td>\n",
       "      <td>Education</td>\n",
       "      <td>July 25, 2017</td>\n",
       "      <td>1.48</td>\n",
       "      <td>4.1 and up</td>\n",
       "      <td>high</td>\n",
       "    </tr>\n",
       "    <tr>\n",
       "      <th>10837</th>\n",
       "      <td>Fr. Mike Schmitz Audio Teachings</td>\n",
       "      <td>FAMILY</td>\n",
       "      <td>5.0</td>\n",
       "      <td>4</td>\n",
       "      <td>3600000.0</td>\n",
       "      <td>100+</td>\n",
       "      <td>Free</td>\n",
       "      <td>0</td>\n",
       "      <td>Everyone</td>\n",
       "      <td>Education</td>\n",
       "      <td>July 6, 2018</td>\n",
       "      <td>1.0</td>\n",
       "      <td>4.1 and up</td>\n",
       "      <td>high</td>\n",
       "    </tr>\n",
       "    <tr>\n",
       "      <th>10838</th>\n",
       "      <td>Parkinson Exercices FR</td>\n",
       "      <td>MEDICAL</td>\n",
       "      <td>4.3</td>\n",
       "      <td>3</td>\n",
       "      <td>9500000.0</td>\n",
       "      <td>1,000+</td>\n",
       "      <td>Free</td>\n",
       "      <td>0</td>\n",
       "      <td>Everyone</td>\n",
       "      <td>Medical</td>\n",
       "      <td>January 20, 2017</td>\n",
       "      <td>1.0</td>\n",
       "      <td>2.2 and up</td>\n",
       "      <td>high</td>\n",
       "    </tr>\n",
       "    <tr>\n",
       "      <th>10839</th>\n",
       "      <td>The SCP Foundation DB fr nn5n</td>\n",
       "      <td>BOOKS_AND_REFERENCE</td>\n",
       "      <td>4.5</td>\n",
       "      <td>114</td>\n",
       "      <td>9500000.0</td>\n",
       "      <td>1,000+</td>\n",
       "      <td>Free</td>\n",
       "      <td>0</td>\n",
       "      <td>Mature 17+</td>\n",
       "      <td>Books &amp; Reference</td>\n",
       "      <td>January 19, 2015</td>\n",
       "      <td>Varies with device</td>\n",
       "      <td>Varies with device</td>\n",
       "      <td>high</td>\n",
       "    </tr>\n",
       "    <tr>\n",
       "      <th>10840</th>\n",
       "      <td>iHoroscope - 2018 Daily Horoscope &amp; Astrology</td>\n",
       "      <td>LIFESTYLE</td>\n",
       "      <td>4.5</td>\n",
       "      <td>398307</td>\n",
       "      <td>19000000.0</td>\n",
       "      <td>10,000,000+</td>\n",
       "      <td>Free</td>\n",
       "      <td>0</td>\n",
       "      <td>Everyone</td>\n",
       "      <td>Lifestyle</td>\n",
       "      <td>July 25, 2018</td>\n",
       "      <td>Varies with device</td>\n",
       "      <td>Varies with device</td>\n",
       "      <td>high</td>\n",
       "    </tr>\n",
       "  </tbody>\n",
       "</table>\n",
       "</div>"
      ],
      "text/plain": [
       "                                                 App             Category  \\\n",
       "10836                               Sya9a Maroc - FR               FAMILY   \n",
       "10837               Fr. Mike Schmitz Audio Teachings               FAMILY   \n",
       "10838                         Parkinson Exercices FR              MEDICAL   \n",
       "10839                  The SCP Foundation DB fr nn5n  BOOKS_AND_REFERENCE   \n",
       "10840  iHoroscope - 2018 Daily Horoscope & Astrology            LIFESTYLE   \n",
       "\n",
       "       Rating  Reviews        Size     Installs  Type Price Content Rating  \\\n",
       "10836     4.5       38  53000000.0       5,000+  Free     0       Everyone   \n",
       "10837     5.0        4   3600000.0         100+  Free     0       Everyone   \n",
       "10838     4.3        3   9500000.0       1,000+  Free     0       Everyone   \n",
       "10839     4.5      114   9500000.0       1,000+  Free     0     Mature 17+   \n",
       "10840     4.5   398307  19000000.0  10,000,000+  Free     0       Everyone   \n",
       "\n",
       "                  Genres      Last Updated         Current Ver  \\\n",
       "10836          Education     July 25, 2017                1.48   \n",
       "10837          Education      July 6, 2018                 1.0   \n",
       "10838            Medical  January 20, 2017                 1.0   \n",
       "10839  Books & Reference  January 19, 2015  Varies with device   \n",
       "10840          Lifestyle     July 25, 2018  Varies with device   \n",
       "\n",
       "              Android Ver Rating_Cat  \n",
       "10836          4.1 and up       high  \n",
       "10837          4.1 and up       high  \n",
       "10838          2.2 and up       high  \n",
       "10839  Varies with device       high  \n",
       "10840  Varies with device       high  "
      ]
     },
     "execution_count": 51,
     "metadata": {},
     "output_type": "execute_result"
    }
   ],
   "source": [
    "df.tail()"
   ]
  },
  {
   "cell_type": "code",
   "execution_count": 52,
   "id": "d37a5c5c",
   "metadata": {},
   "outputs": [
    {
     "data": {
      "text/plain": [
       "<AxesSubplot:xlabel='Size', ylabel='Rating'>"
      ]
     },
     "execution_count": 52,
     "metadata": {},
     "output_type": "execute_result"
    },
    {
     "data": {
      "image/png": "[encoded data removed]",
      "text/plain": [
       "<Figure size 432x288 with 1 Axes>"
      ]
     },
     "metadata": {
      "needs_background": "light"
     },
     "output_type": "display_data"
    }
   ],
   "source": [
    "sns.scatterplot(data=df, x=\"Size\", y=\"Rating\")"
   ]
  },
  {
   "cell_type": "markdown",
   "id": "9feceb98",
   "metadata": {},
   "source": [
    "i. Remove “,” and “+” from the values of the “Installs” column and change the\n",
    "datatype. (3 points) "
   ]
  },
  {
   "cell_type": "code",
   "execution_count": 53,
   "id": "5ec54c07",
   "metadata": {},
   "outputs": [
    {
     "data": {
      "text/plain": [
       "1,000,000+        1417\n",
       "100,000+          1112\n",
       "10,000+           1031\n",
       "10,000,000+        937\n",
       "1,000+             888\n",
       "100+               710\n",
       "5,000,000+         607\n",
       "500,000+           505\n",
       "50,000+            469\n",
       "5,000+             468\n",
       "10+                385\n",
       "500+               328\n",
       "50+                204\n",
       "50,000,000+        202\n",
       "100,000,000+       188\n",
       "5+                  82\n",
       "1+                  67\n",
       "500,000,000+        24\n",
       "1,000,000,000+      20\n",
       "0+                  14\n",
       "0                    1\n",
       "1000+                1\n",
       "Name: Installs, dtype: int64"
      ]
     },
     "execution_count": 53,
     "metadata": {},
     "output_type": "execute_result"
    }
   ],
   "source": [
    "df.Installs.value_counts()"
   ]
  },
  {
   "cell_type": "code",
   "execution_count": 54,
   "id": "73b7e777",
   "metadata": {},
   "outputs": [],
   "source": [
    "# replacing ',' and '+' with null\n",
    "df['Installs'] = df['Installs'].str.replace(r',', '')"
   ]
  },
  {
   "cell_type": "code",
   "execution_count": 55,
   "id": "34211803",
   "metadata": {},
   "outputs": [
    {
     "name": "stderr",
     "output_type": "stream",
     "text": [
      "<ipython-input-55-ef1c334c7a75>:1: FutureWarning: The default value of regex will change from True to False in a future version. In addition, single character regular expressions will*not* be treated as literal strings when regex=True.\n",
      "  df['Installs'] = df['Installs'].str.replace(r'+', '')\n"
     ]
    }
   ],
   "source": [
    "df['Installs'] = df['Installs'].str.replace(r'+', '')"
   ]
  },
  {
   "cell_type": "code",
   "execution_count": 56,
   "id": "fd7cc0bb",
   "metadata": {},
   "outputs": [
    {
     "data": {
      "text/plain": [
       "1000000       1417\n",
       "100000        1112\n",
       "10000         1031\n",
       "10000000       937\n",
       "1000           889\n",
       "100            710\n",
       "5000000        607\n",
       "500000         505\n",
       "50000          469\n",
       "5000           468\n",
       "10             385\n",
       "500            328\n",
       "50             204\n",
       "50000000       202\n",
       "100000000      188\n",
       "5               82\n",
       "1               67\n",
       "500000000       24\n",
       "1000000000      20\n",
       "0               15\n",
       "Name: Installs, dtype: int64"
      ]
     },
     "execution_count": 56,
     "metadata": {},
     "output_type": "execute_result"
    }
   ],
   "source": [
    "df.Installs.value_counts()"
   ]
  },
  {
   "cell_type": "code",
   "execution_count": 57,
   "id": "6c28682c",
   "metadata": {},
   "outputs": [],
   "source": [
    "# converting the datatype to float\n",
    "df['Installs'] = df['Installs'].astype(float)"
   ]
  },
  {
   "cell_type": "code",
   "execution_count": 58,
   "id": "ee042d30",
   "metadata": {},
   "outputs": [
    {
     "data": {
      "text/html": [
       "<div>\n",
       "<style scoped>\n",
       "    .dataframe tbody tr th:only-of-type {\n",
       "        vertical-align: middle;\n",
       "    }\n",
       "\n",
       "    .dataframe tbody tr th {\n",
       "        vertical-align: top;\n",
       "    }\n",
       "\n",
       "    .dataframe thead th {\n",
       "        text-align: right;\n",
       "    }\n",
       "</style>\n",
       "<table border=\"1\" class=\"dataframe\">\n",
       "  <thead>\n",
       "    <tr style=\"text-align: right;\">\n",
       "      <th></th>\n",
       "      <th>Rating</th>\n",
       "      <th>Reviews</th>\n",
       "      <th>Size</th>\n",
       "      <th>Installs</th>\n",
       "    </tr>\n",
       "  </thead>\n",
       "  <tbody>\n",
       "    <tr>\n",
       "      <th>count</th>\n",
       "      <td>9660.000000</td>\n",
       "      <td>9.660000e+03</td>\n",
       "      <td>9.660000e+03</td>\n",
       "      <td>9.660000e+03</td>\n",
       "    </tr>\n",
       "    <tr>\n",
       "      <th>mean</th>\n",
       "      <td>4.192205</td>\n",
       "      <td>2.165701e+05</td>\n",
       "      <td>2.047615e+07</td>\n",
       "      <td>7.776702e+06</td>\n",
       "    </tr>\n",
       "    <tr>\n",
       "      <th>std</th>\n",
       "      <td>0.496919</td>\n",
       "      <td>1.831226e+06</td>\n",
       "      <td>2.167638e+07</td>\n",
       "      <td>5.375555e+07</td>\n",
       "    </tr>\n",
       "    <tr>\n",
       "      <th>min</th>\n",
       "      <td>1.000000</td>\n",
       "      <td>0.000000e+00</td>\n",
       "      <td>8.500000e+03</td>\n",
       "      <td>0.000000e+00</td>\n",
       "    </tr>\n",
       "    <tr>\n",
       "      <th>25%</th>\n",
       "      <td>4.000000</td>\n",
       "      <td>2.500000e+01</td>\n",
       "      <td>4.700000e+06</td>\n",
       "      <td>1.000000e+03</td>\n",
       "    </tr>\n",
       "    <tr>\n",
       "      <th>50%</th>\n",
       "      <td>4.300000</td>\n",
       "      <td>9.670000e+02</td>\n",
       "      <td>1.200000e+07</td>\n",
       "      <td>1.000000e+05</td>\n",
       "    </tr>\n",
       "    <tr>\n",
       "      <th>75%</th>\n",
       "      <td>4.500000</td>\n",
       "      <td>2.939400e+04</td>\n",
       "      <td>2.800000e+07</td>\n",
       "      <td>1.000000e+06</td>\n",
       "    </tr>\n",
       "    <tr>\n",
       "      <th>max</th>\n",
       "      <td>5.000000</td>\n",
       "      <td>7.815831e+07</td>\n",
       "      <td>1.000000e+08</td>\n",
       "      <td>1.000000e+09</td>\n",
       "    </tr>\n",
       "  </tbody>\n",
       "</table>\n",
       "</div>"
      ],
      "text/plain": [
       "            Rating       Reviews          Size      Installs\n",
       "count  9660.000000  9.660000e+03  9.660000e+03  9.660000e+03\n",
       "mean      4.192205  2.165701e+05  2.047615e+07  7.776702e+06\n",
       "std       0.496919  1.831226e+06  2.167638e+07  5.375555e+07\n",
       "min       1.000000  0.000000e+00  8.500000e+03  0.000000e+00\n",
       "25%       4.000000  2.500000e+01  4.700000e+06  1.000000e+03\n",
       "50%       4.300000  9.670000e+02  1.200000e+07  1.000000e+05\n",
       "75%       4.500000  2.939400e+04  2.800000e+07  1.000000e+06\n",
       "max       5.000000  7.815831e+07  1.000000e+08  1.000000e+09"
      ]
     },
     "execution_count": 58,
     "metadata": {},
     "output_type": "execute_result"
    }
   ],
   "source": [
    "df.describe()"
   ]
  },
  {
   "cell_type": "markdown",
   "id": "59730f3b",
   "metadata": {},
   "source": [
    "j. What is the percentage of paid apps in the data? (2 points) "
   ]
  },
  {
   "cell_type": "code",
   "execution_count": 59,
   "id": "cd6ad184",
   "metadata": {},
   "outputs": [
    {
     "data": {
      "text/plain": [
       "Free    8903\n",
       "Paid     756\n",
       "Name: Type, dtype: int64"
      ]
     },
     "execution_count": 59,
     "metadata": {},
     "output_type": "execute_result"
    }
   ],
   "source": [
    "df.Type.value_counts()"
   ]
  },
  {
   "cell_type": "code",
   "execution_count": 60,
   "id": "c2674943",
   "metadata": {},
   "outputs": [],
   "source": [
    "# we can see that Type column has one null value, we will impute with teh median (i.e., Free)\n",
    "df[\"Type\"].fillna(\"Free\", inplace = True)"
   ]
  },
  {
   "cell_type": "code",
   "execution_count": 61,
   "id": "a57996f0",
   "metadata": {},
   "outputs": [],
   "source": [
    "paidperc=(df.Type.value_counts()[1])*100/(df.Type.value_counts()[0]+df.Type.value_counts()[1])"
   ]
  },
  {
   "cell_type": "code",
   "execution_count": 62,
   "id": "4b9121da",
   "metadata": {},
   "outputs": [
    {
     "name": "stdout",
     "output_type": "stream",
     "text": [
      "Percentage of paid apps:  7.826086956521739\n"
     ]
    }
   ],
   "source": [
    "print('Percentage of paid apps: ' ,paidperc)"
   ]
  },
  {
   "cell_type": "markdown",
   "id": "24706afb",
   "metadata": {},
   "source": [
    "k. Remove the “$” sign the “Price” column values and make it a numerical\n",
    "column. (2 points)"
   ]
  },
  {
   "cell_type": "code",
   "execution_count": 63,
   "id": "8083bedb",
   "metadata": {},
   "outputs": [],
   "source": [
    "# Remving $ sign from every row of Price column and converting Price to Float type\n",
    "df.Price=df.Price.apply(lambda x: x.strip('$'))\n",
    "df['Price'] = df['Price'].astype(float)"
   ]
  },
  {
   "cell_type": "code",
   "execution_count": 64,
   "id": "2ea25be6",
   "metadata": {},
   "outputs": [
    {
     "data": {
      "text/html": [
       "<div>\n",
       "<style scoped>\n",
       "    .dataframe tbody tr th:only-of-type {\n",
       "        vertical-align: middle;\n",
       "    }\n",
       "\n",
       "    .dataframe tbody tr th {\n",
       "        vertical-align: top;\n",
       "    }\n",
       "\n",
       "    .dataframe thead th {\n",
       "        text-align: right;\n",
       "    }\n",
       "</style>\n",
       "<table border=\"1\" class=\"dataframe\">\n",
       "  <thead>\n",
       "    <tr style=\"text-align: right;\">\n",
       "      <th></th>\n",
       "      <th>Rating</th>\n",
       "      <th>Reviews</th>\n",
       "      <th>Size</th>\n",
       "      <th>Installs</th>\n",
       "      <th>Price</th>\n",
       "    </tr>\n",
       "  </thead>\n",
       "  <tbody>\n",
       "    <tr>\n",
       "      <th>count</th>\n",
       "      <td>756.000000</td>\n",
       "      <td>7.560000e+02</td>\n",
       "      <td>7.560000e+02</td>\n",
       "      <td>7.560000e+02</td>\n",
       "      <td>756.000000</td>\n",
       "    </tr>\n",
       "    <tr>\n",
       "      <th>mean</th>\n",
       "      <td>4.267725</td>\n",
       "      <td>8.724888e+03</td>\n",
       "      <td>1.899452e+07</td>\n",
       "      <td>7.587947e+04</td>\n",
       "      <td>14.045146</td>\n",
       "    </tr>\n",
       "    <tr>\n",
       "      <th>std</th>\n",
       "      <td>0.500692</td>\n",
       "      <td>8.988612e+04</td>\n",
       "      <td>2.189616e+07</td>\n",
       "      <td>5.389844e+05</td>\n",
       "      <td>58.743615</td>\n",
       "    </tr>\n",
       "    <tr>\n",
       "      <th>min</th>\n",
       "      <td>1.000000</td>\n",
       "      <td>0.000000e+00</td>\n",
       "      <td>1.400000e+04</td>\n",
       "      <td>0.000000e+00</td>\n",
       "      <td>0.990000</td>\n",
       "    </tr>\n",
       "    <tr>\n",
       "      <th>25%</th>\n",
       "      <td>4.200000</td>\n",
       "      <td>6.000000e+00</td>\n",
       "      <td>2.900000e+06</td>\n",
       "      <td>1.000000e+02</td>\n",
       "      <td>1.490000</td>\n",
       "    </tr>\n",
       "    <tr>\n",
       "      <th>50%</th>\n",
       "      <td>4.300000</td>\n",
       "      <td>8.800000e+01</td>\n",
       "      <td>9.500000e+06</td>\n",
       "      <td>1.000000e+03</td>\n",
       "      <td>2.990000</td>\n",
       "    </tr>\n",
       "    <tr>\n",
       "      <th>75%</th>\n",
       "      <td>4.600000</td>\n",
       "      <td>1.213750e+03</td>\n",
       "      <td>2.725000e+07</td>\n",
       "      <td>1.000000e+04</td>\n",
       "      <td>4.990000</td>\n",
       "    </tr>\n",
       "    <tr>\n",
       "      <th>max</th>\n",
       "      <td>5.000000</td>\n",
       "      <td>2.376564e+06</td>\n",
       "      <td>1.000000e+08</td>\n",
       "      <td>1.000000e+07</td>\n",
       "      <td>400.000000</td>\n",
       "    </tr>\n",
       "  </tbody>\n",
       "</table>\n",
       "</div>"
      ],
      "text/plain": [
       "           Rating       Reviews          Size      Installs       Price\n",
       "count  756.000000  7.560000e+02  7.560000e+02  7.560000e+02  756.000000\n",
       "mean     4.267725  8.724888e+03  1.899452e+07  7.587947e+04   14.045146\n",
       "std      0.500692  8.988612e+04  2.189616e+07  5.389844e+05   58.743615\n",
       "min      1.000000  0.000000e+00  1.400000e+04  0.000000e+00    0.990000\n",
       "25%      4.200000  6.000000e+00  2.900000e+06  1.000000e+02    1.490000\n",
       "50%      4.300000  8.800000e+01  9.500000e+06  1.000000e+03    2.990000\n",
       "75%      4.600000  1.213750e+03  2.725000e+07  1.000000e+04    4.990000\n",
       "max      5.000000  2.376564e+06  1.000000e+08  1.000000e+07  400.000000"
      ]
     },
     "execution_count": 64,
     "metadata": {},
     "output_type": "execute_result"
    }
   ],
   "source": [
    "df[df['Price']!=0].describe()"
   ]
  },
  {
   "cell_type": "code",
   "execution_count": 65,
   "id": "0b0935c6",
   "metadata": {},
   "outputs": [
    {
     "data": {
      "text/html": [
       "<div>\n",
       "<style scoped>\n",
       "    .dataframe tbody tr th:only-of-type {\n",
       "        vertical-align: middle;\n",
       "    }\n",
       "\n",
       "    .dataframe tbody tr th {\n",
       "        vertical-align: top;\n",
       "    }\n",
       "\n",
       "    .dataframe thead th {\n",
       "        text-align: right;\n",
       "    }\n",
       "</style>\n",
       "<table border=\"1\" class=\"dataframe\">\n",
       "  <thead>\n",
       "    <tr style=\"text-align: right;\">\n",
       "      <th></th>\n",
       "      <th>Rating</th>\n",
       "      <th>Reviews</th>\n",
       "      <th>Size</th>\n",
       "      <th>Installs</th>\n",
       "      <th>Price</th>\n",
       "    </tr>\n",
       "  </thead>\n",
       "  <tbody>\n",
       "    <tr>\n",
       "      <th>count</th>\n",
       "      <td>9660.000000</td>\n",
       "      <td>9.660000e+03</td>\n",
       "      <td>9.660000e+03</td>\n",
       "      <td>9.660000e+03</td>\n",
       "      <td>9660.000000</td>\n",
       "    </tr>\n",
       "    <tr>\n",
       "      <th>mean</th>\n",
       "      <td>4.192205</td>\n",
       "      <td>2.165701e+05</td>\n",
       "      <td>2.047615e+07</td>\n",
       "      <td>7.776702e+06</td>\n",
       "      <td>1.099185</td>\n",
       "    </tr>\n",
       "    <tr>\n",
       "      <th>std</th>\n",
       "      <td>0.496919</td>\n",
       "      <td>1.831226e+06</td>\n",
       "      <td>2.167638e+07</td>\n",
       "      <td>5.375555e+07</td>\n",
       "      <td>16.851283</td>\n",
       "    </tr>\n",
       "    <tr>\n",
       "      <th>min</th>\n",
       "      <td>1.000000</td>\n",
       "      <td>0.000000e+00</td>\n",
       "      <td>8.500000e+03</td>\n",
       "      <td>0.000000e+00</td>\n",
       "      <td>0.000000</td>\n",
       "    </tr>\n",
       "    <tr>\n",
       "      <th>25%</th>\n",
       "      <td>4.000000</td>\n",
       "      <td>2.500000e+01</td>\n",
       "      <td>4.700000e+06</td>\n",
       "      <td>1.000000e+03</td>\n",
       "      <td>0.000000</td>\n",
       "    </tr>\n",
       "    <tr>\n",
       "      <th>50%</th>\n",
       "      <td>4.300000</td>\n",
       "      <td>9.670000e+02</td>\n",
       "      <td>1.200000e+07</td>\n",
       "      <td>1.000000e+05</td>\n",
       "      <td>0.000000</td>\n",
       "    </tr>\n",
       "    <tr>\n",
       "      <th>75%</th>\n",
       "      <td>4.500000</td>\n",
       "      <td>2.939400e+04</td>\n",
       "      <td>2.800000e+07</td>\n",
       "      <td>1.000000e+06</td>\n",
       "      <td>0.000000</td>\n",
       "    </tr>\n",
       "    <tr>\n",
       "      <th>max</th>\n",
       "      <td>5.000000</td>\n",
       "      <td>7.815831e+07</td>\n",
       "      <td>1.000000e+08</td>\n",
       "      <td>1.000000e+09</td>\n",
       "      <td>400.000000</td>\n",
       "    </tr>\n",
       "  </tbody>\n",
       "</table>\n",
       "</div>"
      ],
      "text/plain": [
       "            Rating       Reviews          Size      Installs        Price\n",
       "count  9660.000000  9.660000e+03  9.660000e+03  9.660000e+03  9660.000000\n",
       "mean      4.192205  2.165701e+05  2.047615e+07  7.776702e+06     1.099185\n",
       "std       0.496919  1.831226e+06  2.167638e+07  5.375555e+07    16.851283\n",
       "min       1.000000  0.000000e+00  8.500000e+03  0.000000e+00     0.000000\n",
       "25%       4.000000  2.500000e+01  4.700000e+06  1.000000e+03     0.000000\n",
       "50%       4.300000  9.670000e+02  1.200000e+07  1.000000e+05     0.000000\n",
       "75%       4.500000  2.939400e+04  2.800000e+07  1.000000e+06     0.000000\n",
       "max       5.000000  7.815831e+07  1.000000e+08  1.000000e+09   400.000000"
      ]
     },
     "execution_count": 65,
     "metadata": {},
     "output_type": "execute_result"
    }
   ],
   "source": [
    "df.describe()"
   ]
  },
  {
   "cell_type": "code",
   "execution_count": 66,
   "id": "27764c21",
   "metadata": {},
   "outputs": [
    {
     "name": "stderr",
     "output_type": "stream",
     "text": [
      "C:\\Users\\hp\\New folder\\lib\\site-packages\\seaborn\\_decorators.py:36: FutureWarning: Pass the following variable as a keyword arg: x. From version 0.12, the only valid positional argument will be `data`, and passing other arguments without an explicit keyword will result in an error or misinterpretation.\n",
      "  warnings.warn(\n"
     ]
    },
    {
     "data": {
      "text/plain": [
       "<AxesSubplot:xlabel='Price'>"
      ]
     },
     "execution_count": 66,
     "metadata": {},
     "output_type": "execute_result"
    },
    {
     "data": {
      "image/png": "[encoded data removed]",
      "text/plain": [
       "<Figure size 432x288 with 1 Axes>"
      ]
     },
     "metadata": {
      "needs_background": "light"
     },
     "output_type": "display_data"
    }
   ],
   "source": [
    "sns.boxplot(df.Price)"
   ]
  },
  {
   "cell_type": "markdown",
   "id": "83ac3bad",
   "metadata": {},
   "source": [
    "l. Which is the most expensive app and how much does it cost? (2 points) "
   ]
  },
  {
   "cell_type": "code",
   "execution_count": 67,
   "id": "499c05dd",
   "metadata": {},
   "outputs": [],
   "source": [
    "# storing the App and Price data for most expensive app in mostex variable and later printing it\n",
    "mostex=df.sort_values('Price', ascending=False)[['App', 'Price']].head(1)"
   ]
  },
  {
   "cell_type": "code",
   "execution_count": 68,
   "id": "adc10ef2",
   "metadata": {},
   "outputs": [
    {
     "name": "stdout",
     "output_type": "stream",
     "text": [
      "                           App  Price\n",
      "4367  I'm Rich - Trump Edition  400.0\n"
     ]
    }
   ],
   "source": [
    "print (mostex)"
   ]
  },
  {
   "cell_type": "markdown",
   "id": "fc222d58",
   "metadata": {},
   "source": [
    "m. Drop columns that you feel can not be used for model building. Example App, Content Rating, Genre, Last updated, Current Ver, and Android Ver columns from the final data frame. (2 points) "
   ]
  },
  {
   "cell_type": "code",
   "execution_count": 69,
   "id": "74a6be21",
   "metadata": {},
   "outputs": [
    {
     "data": {
      "text/plain": [
       "App               0\n",
       "Category          0\n",
       "Rating            0\n",
       "Reviews           0\n",
       "Size              0\n",
       "Installs          0\n",
       "Type              0\n",
       "Price             0\n",
       "Content Rating    0\n",
       "Genres            1\n",
       "Last Updated      0\n",
       "Current Ver       8\n",
       "Android Ver       2\n",
       "Rating_Cat        0\n",
       "dtype: int64"
      ]
     },
     "execution_count": 69,
     "metadata": {},
     "output_type": "execute_result"
    }
   ],
   "source": [
    "df.isnull().sum()"
   ]
  },
  {
   "cell_type": "code",
   "execution_count": 70,
   "id": "9e15091e",
   "metadata": {},
   "outputs": [
    {
     "data": {
      "text/plain": [
       "Everyone           7904\n",
       "Teen               1036\n",
       "Mature 17+          393\n",
       "Everyone 10+        322\n",
       "Adults only 18+       3\n",
       "Unrated               2\n",
       "Name: Content Rating, dtype: int64"
      ]
     },
     "execution_count": 70,
     "metadata": {},
     "output_type": "execute_result"
    }
   ],
   "source": [
    "df['Content Rating'].value_counts()"
   ]
  },
  {
   "cell_type": "markdown",
   "id": "66383daa",
   "metadata": {},
   "source": [
    "- Content Rating seems like a reasonable attribute that can be used for model building"
   ]
  },
  {
   "cell_type": "code",
   "execution_count": 71,
   "id": "e074ddc7",
   "metadata": {},
   "outputs": [
    {
     "data": {
      "text/plain": [
       "Tools                           826\n",
       "Entertainment                   561\n",
       "Education                       510\n",
       "Business                        420\n",
       "Medical                         395\n",
       "                               ... \n",
       "Role Playing;Brain Games          1\n",
       "Books & Reference;Creativity      1\n",
       "Lifestyle;Pretend Play            1\n",
       "Trivia;Education                  1\n",
       "Racing;Pretend Play               1\n",
       "Name: Genres, Length: 118, dtype: int64"
      ]
     },
     "execution_count": 71,
     "metadata": {},
     "output_type": "execute_result"
    }
   ],
   "source": [
    "df['Genres'].value_counts()"
   ]
  },
  {
   "cell_type": "code",
   "execution_count": 72,
   "id": "e5a5a982",
   "metadata": {},
   "outputs": [],
   "source": [
    "df.drop(labels = ['Genres','Last Updated','Current Ver','Android Ver','App'], axis=1 ,inplace = True)"
   ]
  },
  {
   "cell_type": "code",
   "execution_count": 73,
   "id": "3a9decd5",
   "metadata": {},
   "outputs": [
    {
     "data": {
      "text/html": [
       "<div>\n",
       "<style scoped>\n",
       "    .dataframe tbody tr th:only-of-type {\n",
       "        vertical-align: middle;\n",
       "    }\n",
       "\n",
       "    .dataframe tbody tr th {\n",
       "        vertical-align: top;\n",
       "    }\n",
       "\n",
       "    .dataframe thead th {\n",
       "        text-align: right;\n",
       "    }\n",
       "</style>\n",
       "<table border=\"1\" class=\"dataframe\">\n",
       "  <thead>\n",
       "    <tr style=\"text-align: right;\">\n",
       "      <th></th>\n",
       "      <th>Category</th>\n",
       "      <th>Rating</th>\n",
       "      <th>Reviews</th>\n",
       "      <th>Size</th>\n",
       "      <th>Installs</th>\n",
       "      <th>Type</th>\n",
       "      <th>Price</th>\n",
       "      <th>Content Rating</th>\n",
       "      <th>Rating_Cat</th>\n",
       "    </tr>\n",
       "  </thead>\n",
       "  <tbody>\n",
       "    <tr>\n",
       "      <th>0</th>\n",
       "      <td>ART_AND_DESIGN</td>\n",
       "      <td>4.1</td>\n",
       "      <td>159</td>\n",
       "      <td>19000000.0</td>\n",
       "      <td>10000.0</td>\n",
       "      <td>Free</td>\n",
       "      <td>0.0</td>\n",
       "      <td>Everyone</td>\n",
       "      <td>high</td>\n",
       "    </tr>\n",
       "    <tr>\n",
       "      <th>1</th>\n",
       "      <td>ART_AND_DESIGN</td>\n",
       "      <td>3.9</td>\n",
       "      <td>967</td>\n",
       "      <td>14000000.0</td>\n",
       "      <td>500000.0</td>\n",
       "      <td>Free</td>\n",
       "      <td>0.0</td>\n",
       "      <td>Everyone</td>\n",
       "      <td>high</td>\n",
       "    </tr>\n",
       "    <tr>\n",
       "      <th>2</th>\n",
       "      <td>ART_AND_DESIGN</td>\n",
       "      <td>4.7</td>\n",
       "      <td>87510</td>\n",
       "      <td>8700000.0</td>\n",
       "      <td>5000000.0</td>\n",
       "      <td>Free</td>\n",
       "      <td>0.0</td>\n",
       "      <td>Everyone</td>\n",
       "      <td>high</td>\n",
       "    </tr>\n",
       "    <tr>\n",
       "      <th>3</th>\n",
       "      <td>ART_AND_DESIGN</td>\n",
       "      <td>4.5</td>\n",
       "      <td>215644</td>\n",
       "      <td>25000000.0</td>\n",
       "      <td>50000000.0</td>\n",
       "      <td>Free</td>\n",
       "      <td>0.0</td>\n",
       "      <td>Teen</td>\n",
       "      <td>high</td>\n",
       "    </tr>\n",
       "    <tr>\n",
       "      <th>4</th>\n",
       "      <td>ART_AND_DESIGN</td>\n",
       "      <td>4.3</td>\n",
       "      <td>967</td>\n",
       "      <td>2800000.0</td>\n",
       "      <td>100000.0</td>\n",
       "      <td>Free</td>\n",
       "      <td>0.0</td>\n",
       "      <td>Everyone</td>\n",
       "      <td>high</td>\n",
       "    </tr>\n",
       "  </tbody>\n",
       "</table>\n",
       "</div>"
      ],
      "text/plain": [
       "         Category  Rating  Reviews        Size    Installs  Type  Price  \\\n",
       "0  ART_AND_DESIGN     4.1      159  19000000.0     10000.0  Free    0.0   \n",
       "1  ART_AND_DESIGN     3.9      967  14000000.0    500000.0  Free    0.0   \n",
       "2  ART_AND_DESIGN     4.7    87510   8700000.0   5000000.0  Free    0.0   \n",
       "3  ART_AND_DESIGN     4.5   215644  25000000.0  50000000.0  Free    0.0   \n",
       "4  ART_AND_DESIGN     4.3      967   2800000.0    100000.0  Free    0.0   \n",
       "\n",
       "  Content Rating Rating_Cat  \n",
       "0       Everyone       high  \n",
       "1       Everyone       high  \n",
       "2       Everyone       high  \n",
       "3           Teen       high  \n",
       "4       Everyone       high  "
      ]
     },
     "execution_count": 73,
     "metadata": {},
     "output_type": "execute_result"
    }
   ],
   "source": [
    "df.head()"
   ]
  },
  {
   "cell_type": "code",
   "execution_count": 74,
   "id": "6c436c3b",
   "metadata": {},
   "outputs": [],
   "source": [
    "df=df.drop(['Rating'], axis=1)"
   ]
  },
  {
   "cell_type": "code",
   "execution_count": 75,
   "id": "076225b1",
   "metadata": {},
   "outputs": [
    {
     "name": "stdout",
     "output_type": "stream",
     "text": [
      "<class 'pandas.core.frame.DataFrame'>\n",
      "Int64Index: 9660 entries, 0 to 10840\n",
      "Data columns (total 8 columns):\n",
      " #   Column          Non-Null Count  Dtype  \n",
      "---  ------          --------------  -----  \n",
      " 0   Category        9660 non-null   object \n",
      " 1   Reviews         9660 non-null   int32  \n",
      " 2   Size            9660 non-null   float64\n",
      " 3   Installs        9660 non-null   float64\n",
      " 4   Type            9660 non-null   object \n",
      " 5   Price           9660 non-null   float64\n",
      " 6   Content Rating  9660 non-null   object \n",
      " 7   Rating_Cat      9660 non-null   object \n",
      "dtypes: float64(3), int32(1), object(4)\n",
      "memory usage: 641.5+ KB\n"
     ]
    }
   ],
   "source": [
    "df.info()"
   ]
  },
  {
   "cell_type": "markdown",
   "id": "b97899ea",
   "metadata": {},
   "source": [
    "n. Encode categorical column (Type, Rating_categories, Category) [ Hint -\n",
    "use get_dummies] (2 points)"
   ]
  },
  {
   "cell_type": "code",
   "execution_count": 76,
   "id": "9147481e",
   "metadata": {},
   "outputs": [],
   "source": [
    "# using get_dummies to encode all the categorical attributes\n",
    "df = pd.get_dummies(df, columns=['Category','Type','Rating_Cat', 'Content Rating'])"
   ]
  },
  {
   "cell_type": "code",
   "execution_count": 77,
   "id": "fe5bc49a",
   "metadata": {},
   "outputs": [
    {
     "data": {
      "text/html": [
       "<div>\n",
       "<style scoped>\n",
       "    .dataframe tbody tr th:only-of-type {\n",
       "        vertical-align: middle;\n",
       "    }\n",
       "\n",
       "    .dataframe tbody tr th {\n",
       "        vertical-align: top;\n",
       "    }\n",
       "\n",
       "    .dataframe thead th {\n",
       "        text-align: right;\n",
       "    }\n",
       "</style>\n",
       "<table border=\"1\" class=\"dataframe\">\n",
       "  <thead>\n",
       "    <tr style=\"text-align: right;\">\n",
       "      <th></th>\n",
       "      <th>Reviews</th>\n",
       "      <th>Size</th>\n",
       "      <th>Installs</th>\n",
       "      <th>Price</th>\n",
       "      <th>Category_ART_AND_DESIGN</th>\n",
       "      <th>Category_AUTO_AND_VEHICLES</th>\n",
       "      <th>Category_BEAUTY</th>\n",
       "      <th>Category_BOOKS_AND_REFERENCE</th>\n",
       "      <th>Category_BUSINESS</th>\n",
       "      <th>Category_COMICS</th>\n",
       "      <th>...</th>\n",
       "      <th>Type_Free</th>\n",
       "      <th>Type_Paid</th>\n",
       "      <th>Rating_Cat_high</th>\n",
       "      <th>Rating_Cat_low</th>\n",
       "      <th>Content Rating_Adults only 18+</th>\n",
       "      <th>Content Rating_Everyone</th>\n",
       "      <th>Content Rating_Everyone 10+</th>\n",
       "      <th>Content Rating_Mature 17+</th>\n",
       "      <th>Content Rating_Teen</th>\n",
       "      <th>Content Rating_Unrated</th>\n",
       "    </tr>\n",
       "  </thead>\n",
       "  <tbody>\n",
       "    <tr>\n",
       "      <th>0</th>\n",
       "      <td>159</td>\n",
       "      <td>19000000.0</td>\n",
       "      <td>10000.0</td>\n",
       "      <td>0.0</td>\n",
       "      <td>1</td>\n",
       "      <td>0</td>\n",
       "      <td>0</td>\n",
       "      <td>0</td>\n",
       "      <td>0</td>\n",
       "      <td>0</td>\n",
       "      <td>...</td>\n",
       "      <td>1</td>\n",
       "      <td>0</td>\n",
       "      <td>1</td>\n",
       "      <td>0</td>\n",
       "      <td>0</td>\n",
       "      <td>1</td>\n",
       "      <td>0</td>\n",
       "      <td>0</td>\n",
       "      <td>0</td>\n",
       "      <td>0</td>\n",
       "    </tr>\n",
       "    <tr>\n",
       "      <th>1</th>\n",
       "      <td>967</td>\n",
       "      <td>14000000.0</td>\n",
       "      <td>500000.0</td>\n",
       "      <td>0.0</td>\n",
       "      <td>1</td>\n",
       "      <td>0</td>\n",
       "      <td>0</td>\n",
       "      <td>0</td>\n",
       "      <td>0</td>\n",
       "      <td>0</td>\n",
       "      <td>...</td>\n",
       "      <td>1</td>\n",
       "      <td>0</td>\n",
       "      <td>1</td>\n",
       "      <td>0</td>\n",
       "      <td>0</td>\n",
       "      <td>1</td>\n",
       "      <td>0</td>\n",
       "      <td>0</td>\n",
       "      <td>0</td>\n",
       "      <td>0</td>\n",
       "    </tr>\n",
       "    <tr>\n",
       "      <th>2</th>\n",
       "      <td>87510</td>\n",
       "      <td>8700000.0</td>\n",
       "      <td>5000000.0</td>\n",
       "      <td>0.0</td>\n",
       "      <td>1</td>\n",
       "      <td>0</td>\n",
       "      <td>0</td>\n",
       "      <td>0</td>\n",
       "      <td>0</td>\n",
       "      <td>0</td>\n",
       "      <td>...</td>\n",
       "      <td>1</td>\n",
       "      <td>0</td>\n",
       "      <td>1</td>\n",
       "      <td>0</td>\n",
       "      <td>0</td>\n",
       "      <td>1</td>\n",
       "      <td>0</td>\n",
       "      <td>0</td>\n",
       "      <td>0</td>\n",
       "      <td>0</td>\n",
       "    </tr>\n",
       "    <tr>\n",
       "      <th>3</th>\n",
       "      <td>215644</td>\n",
       "      <td>25000000.0</td>\n",
       "      <td>50000000.0</td>\n",
       "      <td>0.0</td>\n",
       "      <td>1</td>\n",
       "      <td>0</td>\n",
       "      <td>0</td>\n",
       "      <td>0</td>\n",
       "      <td>0</td>\n",
       "      <td>0</td>\n",
       "      <td>...</td>\n",
       "      <td>1</td>\n",
       "      <td>0</td>\n",
       "      <td>1</td>\n",
       "      <td>0</td>\n",
       "      <td>0</td>\n",
       "      <td>0</td>\n",
       "      <td>0</td>\n",
       "      <td>0</td>\n",
       "      <td>1</td>\n",
       "      <td>0</td>\n",
       "    </tr>\n",
       "    <tr>\n",
       "      <th>4</th>\n",
       "      <td>967</td>\n",
       "      <td>2800000.0</td>\n",
       "      <td>100000.0</td>\n",
       "      <td>0.0</td>\n",
       "      <td>1</td>\n",
       "      <td>0</td>\n",
       "      <td>0</td>\n",
       "      <td>0</td>\n",
       "      <td>0</td>\n",
       "      <td>0</td>\n",
       "      <td>...</td>\n",
       "      <td>1</td>\n",
       "      <td>0</td>\n",
       "      <td>1</td>\n",
       "      <td>0</td>\n",
       "      <td>0</td>\n",
       "      <td>1</td>\n",
       "      <td>0</td>\n",
       "      <td>0</td>\n",
       "      <td>0</td>\n",
       "      <td>0</td>\n",
       "    </tr>\n",
       "  </tbody>\n",
       "</table>\n",
       "<p>5 rows × 47 columns</p>\n",
       "</div>"
      ],
      "text/plain": [
       "   Reviews        Size    Installs  Price  Category_ART_AND_DESIGN  \\\n",
       "0      159  19000000.0     10000.0    0.0                        1   \n",
       "1      967  14000000.0    500000.0    0.0                        1   \n",
       "2    87510   8700000.0   5000000.0    0.0                        1   \n",
       "3   215644  25000000.0  50000000.0    0.0                        1   \n",
       "4      967   2800000.0    100000.0    0.0                        1   \n",
       "\n",
       "   Category_AUTO_AND_VEHICLES  Category_BEAUTY  Category_BOOKS_AND_REFERENCE  \\\n",
       "0                           0                0                             0   \n",
       "1                           0                0                             0   \n",
       "2                           0                0                             0   \n",
       "3                           0                0                             0   \n",
       "4                           0                0                             0   \n",
       "\n",
       "   Category_BUSINESS  Category_COMICS  ...  Type_Free  Type_Paid  \\\n",
       "0                  0                0  ...          1          0   \n",
       "1                  0                0  ...          1          0   \n",
       "2                  0                0  ...          1          0   \n",
       "3                  0                0  ...          1          0   \n",
       "4                  0                0  ...          1          0   \n",
       "\n",
       "   Rating_Cat_high  Rating_Cat_low  Content Rating_Adults only 18+  \\\n",
       "0                1               0                               0   \n",
       "1                1               0                               0   \n",
       "2                1               0                               0   \n",
       "3                1               0                               0   \n",
       "4                1               0                               0   \n",
       "\n",
       "   Content Rating_Everyone  Content Rating_Everyone 10+  \\\n",
       "0                        1                            0   \n",
       "1                        1                            0   \n",
       "2                        1                            0   \n",
       "3                        0                            0   \n",
       "4                        1                            0   \n",
       "\n",
       "   Content Rating_Mature 17+  Content Rating_Teen  Content Rating_Unrated  \n",
       "0                          0                    0                       0  \n",
       "1                          0                    0                       0  \n",
       "2                          0                    0                       0  \n",
       "3                          0                    1                       0  \n",
       "4                          0                    0                       0  \n",
       "\n",
       "[5 rows x 47 columns]"
      ]
     },
     "execution_count": 77,
     "metadata": {},
     "output_type": "execute_result"
    }
   ],
   "source": [
    "df.head()"
   ]
  },
  {
   "cell_type": "code",
   "execution_count": 78,
   "id": "84ad7f6a",
   "metadata": {},
   "outputs": [],
   "source": [
    "df['Rating_Cat']=df['Rating_Cat_high']\n",
    "df=df.drop(['Rating_Cat_high'], axis=1)\n",
    "df=df.drop(['Rating_Cat_low'], axis=1)"
   ]
  },
  {
   "cell_type": "markdown",
   "id": "bcf305e7",
   "metadata": {},
   "source": [
    "- We replace Rating_Cat_High column with Rating_Cat (which we will use further as a target variable)\n",
    "- 1 means High rating category and o means low rating category"
   ]
  },
  {
   "cell_type": "code",
   "execution_count": 79,
   "id": "299a62d7",
   "metadata": {},
   "outputs": [
    {
     "data": {
      "text/plain": [
       "1    8785\n",
       "0     875\n",
       "Name: Rating_Cat, dtype: int64"
      ]
     },
     "execution_count": 79,
     "metadata": {},
     "output_type": "execute_result"
    }
   ],
   "source": [
    "df['Rating_Cat'].value_counts()"
   ]
  },
  {
   "cell_type": "code",
   "execution_count": 80,
   "id": "a2aa62c6",
   "metadata": {},
   "outputs": [
    {
     "data": {
      "text/html": [
       "<div>\n",
       "<style scoped>\n",
       "    .dataframe tbody tr th:only-of-type {\n",
       "        vertical-align: middle;\n",
       "    }\n",
       "\n",
       "    .dataframe tbody tr th {\n",
       "        vertical-align: top;\n",
       "    }\n",
       "\n",
       "    .dataframe thead th {\n",
       "        text-align: right;\n",
       "    }\n",
       "</style>\n",
       "<table border=\"1\" class=\"dataframe\">\n",
       "  <thead>\n",
       "    <tr style=\"text-align: right;\">\n",
       "      <th></th>\n",
       "      <th>Reviews</th>\n",
       "      <th>Size</th>\n",
       "      <th>Installs</th>\n",
       "      <th>Price</th>\n",
       "      <th>Category_ART_AND_DESIGN</th>\n",
       "      <th>Category_AUTO_AND_VEHICLES</th>\n",
       "      <th>Category_BEAUTY</th>\n",
       "      <th>Category_BOOKS_AND_REFERENCE</th>\n",
       "      <th>Category_BUSINESS</th>\n",
       "      <th>Category_COMICS</th>\n",
       "      <th>...</th>\n",
       "      <th>Category_WEATHER</th>\n",
       "      <th>Type_Free</th>\n",
       "      <th>Type_Paid</th>\n",
       "      <th>Content Rating_Adults only 18+</th>\n",
       "      <th>Content Rating_Everyone</th>\n",
       "      <th>Content Rating_Everyone 10+</th>\n",
       "      <th>Content Rating_Mature 17+</th>\n",
       "      <th>Content Rating_Teen</th>\n",
       "      <th>Content Rating_Unrated</th>\n",
       "      <th>Rating_Cat</th>\n",
       "    </tr>\n",
       "  </thead>\n",
       "  <tbody>\n",
       "    <tr>\n",
       "      <th>0</th>\n",
       "      <td>159</td>\n",
       "      <td>19000000.0</td>\n",
       "      <td>10000.0</td>\n",
       "      <td>0.0</td>\n",
       "      <td>1</td>\n",
       "      <td>0</td>\n",
       "      <td>0</td>\n",
       "      <td>0</td>\n",
       "      <td>0</td>\n",
       "      <td>0</td>\n",
       "      <td>...</td>\n",
       "      <td>0</td>\n",
       "      <td>1</td>\n",
       "      <td>0</td>\n",
       "      <td>0</td>\n",
       "      <td>1</td>\n",
       "      <td>0</td>\n",
       "      <td>0</td>\n",
       "      <td>0</td>\n",
       "      <td>0</td>\n",
       "      <td>1</td>\n",
       "    </tr>\n",
       "    <tr>\n",
       "      <th>1</th>\n",
       "      <td>967</td>\n",
       "      <td>14000000.0</td>\n",
       "      <td>500000.0</td>\n",
       "      <td>0.0</td>\n",
       "      <td>1</td>\n",
       "      <td>0</td>\n",
       "      <td>0</td>\n",
       "      <td>0</td>\n",
       "      <td>0</td>\n",
       "      <td>0</td>\n",
       "      <td>...</td>\n",
       "      <td>0</td>\n",
       "      <td>1</td>\n",
       "      <td>0</td>\n",
       "      <td>0</td>\n",
       "      <td>1</td>\n",
       "      <td>0</td>\n",
       "      <td>0</td>\n",
       "      <td>0</td>\n",
       "      <td>0</td>\n",
       "      <td>1</td>\n",
       "    </tr>\n",
       "    <tr>\n",
       "      <th>2</th>\n",
       "      <td>87510</td>\n",
       "      <td>8700000.0</td>\n",
       "      <td>5000000.0</td>\n",
       "      <td>0.0</td>\n",
       "      <td>1</td>\n",
       "      <td>0</td>\n",
       "      <td>0</td>\n",
       "      <td>0</td>\n",
       "      <td>0</td>\n",
       "      <td>0</td>\n",
       "      <td>...</td>\n",
       "      <td>0</td>\n",
       "      <td>1</td>\n",
       "      <td>0</td>\n",
       "      <td>0</td>\n",
       "      <td>1</td>\n",
       "      <td>0</td>\n",
       "      <td>0</td>\n",
       "      <td>0</td>\n",
       "      <td>0</td>\n",
       "      <td>1</td>\n",
       "    </tr>\n",
       "    <tr>\n",
       "      <th>3</th>\n",
       "      <td>215644</td>\n",
       "      <td>25000000.0</td>\n",
       "      <td>50000000.0</td>\n",
       "      <td>0.0</td>\n",
       "      <td>1</td>\n",
       "      <td>0</td>\n",
       "      <td>0</td>\n",
       "      <td>0</td>\n",
       "      <td>0</td>\n",
       "      <td>0</td>\n",
       "      <td>...</td>\n",
       "      <td>0</td>\n",
       "      <td>1</td>\n",
       "      <td>0</td>\n",
       "      <td>0</td>\n",
       "      <td>0</td>\n",
       "      <td>0</td>\n",
       "      <td>0</td>\n",
       "      <td>1</td>\n",
       "      <td>0</td>\n",
       "      <td>1</td>\n",
       "    </tr>\n",
       "    <tr>\n",
       "      <th>4</th>\n",
       "      <td>967</td>\n",
       "      <td>2800000.0</td>\n",
       "      <td>100000.0</td>\n",
       "      <td>0.0</td>\n",
       "      <td>1</td>\n",
       "      <td>0</td>\n",
       "      <td>0</td>\n",
       "      <td>0</td>\n",
       "      <td>0</td>\n",
       "      <td>0</td>\n",
       "      <td>...</td>\n",
       "      <td>0</td>\n",
       "      <td>1</td>\n",
       "      <td>0</td>\n",
       "      <td>0</td>\n",
       "      <td>1</td>\n",
       "      <td>0</td>\n",
       "      <td>0</td>\n",
       "      <td>0</td>\n",
       "      <td>0</td>\n",
       "      <td>1</td>\n",
       "    </tr>\n",
       "  </tbody>\n",
       "</table>\n",
       "<p>5 rows × 46 columns</p>\n",
       "</div>"
      ],
      "text/plain": [
       "   Reviews        Size    Installs  Price  Category_ART_AND_DESIGN  \\\n",
       "0      159  19000000.0     10000.0    0.0                        1   \n",
       "1      967  14000000.0    500000.0    0.0                        1   \n",
       "2    87510   8700000.0   5000000.0    0.0                        1   \n",
       "3   215644  25000000.0  50000000.0    0.0                        1   \n",
       "4      967   2800000.0    100000.0    0.0                        1   \n",
       "\n",
       "   Category_AUTO_AND_VEHICLES  Category_BEAUTY  Category_BOOKS_AND_REFERENCE  \\\n",
       "0                           0                0                             0   \n",
       "1                           0                0                             0   \n",
       "2                           0                0                             0   \n",
       "3                           0                0                             0   \n",
       "4                           0                0                             0   \n",
       "\n",
       "   Category_BUSINESS  Category_COMICS  ...  Category_WEATHER  Type_Free  \\\n",
       "0                  0                0  ...                 0          1   \n",
       "1                  0                0  ...                 0          1   \n",
       "2                  0                0  ...                 0          1   \n",
       "3                  0                0  ...                 0          1   \n",
       "4                  0                0  ...                 0          1   \n",
       "\n",
       "   Type_Paid  Content Rating_Adults only 18+  Content Rating_Everyone  \\\n",
       "0          0                               0                        1   \n",
       "1          0                               0                        1   \n",
       "2          0                               0                        1   \n",
       "3          0                               0                        0   \n",
       "4          0                               0                        1   \n",
       "\n",
       "   Content Rating_Everyone 10+  Content Rating_Mature 17+  \\\n",
       "0                            0                          0   \n",
       "1                            0                          0   \n",
       "2                            0                          0   \n",
       "3                            0                          0   \n",
       "4                            0                          0   \n",
       "\n",
       "   Content Rating_Teen  Content Rating_Unrated  Rating_Cat  \n",
       "0                    0                       0           1  \n",
       "1                    0                       0           1  \n",
       "2                    0                       0           1  \n",
       "3                    1                       0           1  \n",
       "4                    0                       0           1  \n",
       "\n",
       "[5 rows x 46 columns]"
      ]
     },
     "execution_count": 80,
     "metadata": {},
     "output_type": "execute_result"
    }
   ],
   "source": [
    "df.head()"
   ]
  },
  {
   "cell_type": "markdown",
   "id": "fea3fe24",
   "metadata": {},
   "source": [
    "# 3. Prepare data for modeling. (2 points)"
   ]
  },
  {
   "cell_type": "markdown",
   "id": "79261e89",
   "metadata": {},
   "source": [
    "a. Segregate dependent variable and independent features into two separate variables and split the data into train and test set [ Use 70:30 split ]\n"
   ]
  },
  {
   "cell_type": "code",
   "execution_count": 81,
   "id": "62ec3b96",
   "metadata": {},
   "outputs": [],
   "source": [
    "# ceating X,y dataframse as independent and target variables\n",
    "y=df['Rating_Cat']\n",
    "X = df.drop(['Rating_Cat'],axis=1)"
   ]
  },
  {
   "cell_type": "code",
   "execution_count": 82,
   "id": "78a9b875",
   "metadata": {},
   "outputs": [],
   "source": [
    "# splitting the X,y into test & train datasets\n",
    "X_train, X_test, y_train, y_test =train_test_split(X,y,test_size=0.3,random_state=1)"
   ]
  },
  {
   "cell_type": "code",
   "execution_count": 83,
   "id": "e902abb5",
   "metadata": {},
   "outputs": [
    {
     "data": {
      "text/html": [
       "<div>\n",
       "<style scoped>\n",
       "    .dataframe tbody tr th:only-of-type {\n",
       "        vertical-align: middle;\n",
       "    }\n",
       "\n",
       "    .dataframe tbody tr th {\n",
       "        vertical-align: top;\n",
       "    }\n",
       "\n",
       "    .dataframe thead th {\n",
       "        text-align: right;\n",
       "    }\n",
       "</style>\n",
       "<table border=\"1\" class=\"dataframe\">\n",
       "  <thead>\n",
       "    <tr style=\"text-align: right;\">\n",
       "      <th></th>\n",
       "      <th>Reviews</th>\n",
       "      <th>Size</th>\n",
       "      <th>Installs</th>\n",
       "      <th>Price</th>\n",
       "      <th>Category_ART_AND_DESIGN</th>\n",
       "      <th>Category_AUTO_AND_VEHICLES</th>\n",
       "      <th>Category_BEAUTY</th>\n",
       "      <th>Category_BOOKS_AND_REFERENCE</th>\n",
       "      <th>Category_BUSINESS</th>\n",
       "      <th>Category_COMICS</th>\n",
       "      <th>...</th>\n",
       "      <th>Category_VIDEO_PLAYERS</th>\n",
       "      <th>Category_WEATHER</th>\n",
       "      <th>Type_Free</th>\n",
       "      <th>Type_Paid</th>\n",
       "      <th>Content Rating_Adults only 18+</th>\n",
       "      <th>Content Rating_Everyone</th>\n",
       "      <th>Content Rating_Everyone 10+</th>\n",
       "      <th>Content Rating_Mature 17+</th>\n",
       "      <th>Content Rating_Teen</th>\n",
       "      <th>Content Rating_Unrated</th>\n",
       "    </tr>\n",
       "  </thead>\n",
       "  <tbody>\n",
       "    <tr>\n",
       "      <th>3847</th>\n",
       "      <td>37937</td>\n",
       "      <td>25000000.0</td>\n",
       "      <td>1000000.0</td>\n",
       "      <td>0.0</td>\n",
       "      <td>0</td>\n",
       "      <td>0</td>\n",
       "      <td>0</td>\n",
       "      <td>0</td>\n",
       "      <td>0</td>\n",
       "      <td>0</td>\n",
       "      <td>...</td>\n",
       "      <td>0</td>\n",
       "      <td>0</td>\n",
       "      <td>1</td>\n",
       "      <td>0</td>\n",
       "      <td>0</td>\n",
       "      <td>1</td>\n",
       "      <td>0</td>\n",
       "      <td>0</td>\n",
       "      <td>0</td>\n",
       "      <td>0</td>\n",
       "    </tr>\n",
       "    <tr>\n",
       "      <th>922</th>\n",
       "      <td>14807</td>\n",
       "      <td>19000000.0</td>\n",
       "      <td>1000000.0</td>\n",
       "      <td>0.0</td>\n",
       "      <td>0</td>\n",
       "      <td>0</td>\n",
       "      <td>0</td>\n",
       "      <td>0</td>\n",
       "      <td>0</td>\n",
       "      <td>0</td>\n",
       "      <td>...</td>\n",
       "      <td>0</td>\n",
       "      <td>0</td>\n",
       "      <td>1</td>\n",
       "      <td>0</td>\n",
       "      <td>0</td>\n",
       "      <td>0</td>\n",
       "      <td>0</td>\n",
       "      <td>0</td>\n",
       "      <td>1</td>\n",
       "      <td>0</td>\n",
       "    </tr>\n",
       "    <tr>\n",
       "      <th>1958</th>\n",
       "      <td>43055</td>\n",
       "      <td>95000000.0</td>\n",
       "      <td>5000000.0</td>\n",
       "      <td>0.0</td>\n",
       "      <td>0</td>\n",
       "      <td>0</td>\n",
       "      <td>0</td>\n",
       "      <td>0</td>\n",
       "      <td>0</td>\n",
       "      <td>0</td>\n",
       "      <td>...</td>\n",
       "      <td>0</td>\n",
       "      <td>0</td>\n",
       "      <td>1</td>\n",
       "      <td>0</td>\n",
       "      <td>0</td>\n",
       "      <td>1</td>\n",
       "      <td>0</td>\n",
       "      <td>0</td>\n",
       "      <td>0</td>\n",
       "      <td>0</td>\n",
       "    </tr>\n",
       "    <tr>\n",
       "      <th>3167</th>\n",
       "      <td>427</td>\n",
       "      <td>26000000.0</td>\n",
       "      <td>100000.0</td>\n",
       "      <td>0.0</td>\n",
       "      <td>0</td>\n",
       "      <td>0</td>\n",
       "      <td>0</td>\n",
       "      <td>0</td>\n",
       "      <td>0</td>\n",
       "      <td>0</td>\n",
       "      <td>...</td>\n",
       "      <td>0</td>\n",
       "      <td>0</td>\n",
       "      <td>1</td>\n",
       "      <td>0</td>\n",
       "      <td>0</td>\n",
       "      <td>1</td>\n",
       "      <td>0</td>\n",
       "      <td>0</td>\n",
       "      <td>0</td>\n",
       "      <td>0</td>\n",
       "    </tr>\n",
       "    <tr>\n",
       "      <th>2649</th>\n",
       "      <td>624557</td>\n",
       "      <td>56000000.0</td>\n",
       "      <td>10000000.0</td>\n",
       "      <td>0.0</td>\n",
       "      <td>0</td>\n",
       "      <td>0</td>\n",
       "      <td>0</td>\n",
       "      <td>0</td>\n",
       "      <td>0</td>\n",
       "      <td>0</td>\n",
       "      <td>...</td>\n",
       "      <td>0</td>\n",
       "      <td>0</td>\n",
       "      <td>1</td>\n",
       "      <td>0</td>\n",
       "      <td>0</td>\n",
       "      <td>0</td>\n",
       "      <td>0</td>\n",
       "      <td>1</td>\n",
       "      <td>0</td>\n",
       "      <td>0</td>\n",
       "    </tr>\n",
       "  </tbody>\n",
       "</table>\n",
       "<p>5 rows × 45 columns</p>\n",
       "</div>"
      ],
      "text/plain": [
       "      Reviews        Size    Installs  Price  Category_ART_AND_DESIGN  \\\n",
       "3847    37937  25000000.0   1000000.0    0.0                        0   \n",
       "922     14807  19000000.0   1000000.0    0.0                        0   \n",
       "1958    43055  95000000.0   5000000.0    0.0                        0   \n",
       "3167      427  26000000.0    100000.0    0.0                        0   \n",
       "2649   624557  56000000.0  10000000.0    0.0                        0   \n",
       "\n",
       "      Category_AUTO_AND_VEHICLES  Category_BEAUTY  \\\n",
       "3847                           0                0   \n",
       "922                            0                0   \n",
       "1958                           0                0   \n",
       "3167                           0                0   \n",
       "2649                           0                0   \n",
       "\n",
       "      Category_BOOKS_AND_REFERENCE  Category_BUSINESS  Category_COMICS  ...  \\\n",
       "3847                             0                  0                0  ...   \n",
       "922                              0                  0                0  ...   \n",
       "1958                             0                  0                0  ...   \n",
       "3167                             0                  0                0  ...   \n",
       "2649                             0                  0                0  ...   \n",
       "\n",
       "      Category_VIDEO_PLAYERS  Category_WEATHER  Type_Free  Type_Paid  \\\n",
       "3847                       0                 0          1          0   \n",
       "922                        0                 0          1          0   \n",
       "1958                       0                 0          1          0   \n",
       "3167                       0                 0          1          0   \n",
       "2649                       0                 0          1          0   \n",
       "\n",
       "      Content Rating_Adults only 18+  Content Rating_Everyone  \\\n",
       "3847                               0                        1   \n",
       "922                                0                        0   \n",
       "1958                               0                        1   \n",
       "3167                               0                        1   \n",
       "2649                               0                        0   \n",
       "\n",
       "      Content Rating_Everyone 10+  Content Rating_Mature 17+  \\\n",
       "3847                            0                          0   \n",
       "922                             0                          0   \n",
       "1958                            0                          0   \n",
       "3167                            0                          0   \n",
       "2649                            0                          1   \n",
       "\n",
       "      Content Rating_Teen  Content Rating_Unrated  \n",
       "3847                    0                       0  \n",
       "922                     1                       0  \n",
       "1958                    0                       0  \n",
       "3167                    0                       0  \n",
       "2649                    0                       0  \n",
       "\n",
       "[5 rows x 45 columns]"
      ]
     },
     "execution_count": 83,
     "metadata": {},
     "output_type": "execute_result"
    }
   ],
   "source": [
    "X_train.head()"
   ]
  },
  {
   "cell_type": "code",
   "execution_count": 84,
   "id": "63cae863",
   "metadata": {},
   "outputs": [
    {
     "data": {
      "text/plain": [
       "3847    1\n",
       "922     1\n",
       "1958    1\n",
       "3167    1\n",
       "2649    1\n",
       "Name: Rating_Cat, dtype: uint8"
      ]
     },
     "execution_count": 84,
     "metadata": {},
     "output_type": "execute_result"
    }
   ],
   "source": [
    "y_train.head()"
   ]
  },
  {
   "cell_type": "markdown",
   "id": "287993a1",
   "metadata": {},
   "source": [
    "# 4. Build a classifier model to predict the rating category (Rating_cat - high or low) using the following algorithm and make predictions on the test data. Evaluate the model and report your results. (16 points - 4 points each)\n"
   ]
  },
  {
   "cell_type": "markdown",
   "id": "6af095bd",
   "metadata": {},
   "source": [
    "a. Decision Tree Classifier"
   ]
  },
  {
   "cell_type": "code",
   "execution_count": 85,
   "id": "fcb19725",
   "metadata": {},
   "outputs": [],
   "source": [
    "dt = DecisionTreeClassifier()\n",
    "dt.fit(X_train,y_train)\n",
    "y_test_pred1 = dt.predict(X_test)\n",
    "y_train_pred1 = dt.predict(X_train)"
   ]
  },
  {
   "cell_type": "code",
   "execution_count": 86,
   "id": "b9b5ac8b",
   "metadata": {},
   "outputs": [
    {
     "name": "stdout",
     "output_type": "stream",
     "text": [
      "Train R2_score 0.9964015271956898\n",
      "Test R2_score -0.8420480430730999\n"
     ]
    }
   ],
   "source": [
    "print(\"Train R2_score\",r2_score(y_train,y_train_pred1))\n",
    "print(\"Test R2_score\",r2_score(y_test,y_test_pred1))"
   ]
  },
  {
   "cell_type": "code",
   "execution_count": 87,
   "id": "951d19d4",
   "metadata": {},
   "outputs": [
    {
     "name": "stdout",
     "output_type": "stream",
     "text": [
      "0.8474810213940649\n",
      "0.9997042295178941\n"
     ]
    }
   ],
   "source": [
    "print(accuracy_score(y_test, y_test_pred1))\n",
    "print(accuracy_score(y_train, y_train_pred1))\n",
    "\n"
   ]
  },
  {
   "cell_type": "markdown",
   "id": "178d7084",
   "metadata": {},
   "source": [
    "b. Random Forest model "
   ]
  },
  {
   "cell_type": "code",
   "execution_count": 88,
   "id": "039c29f3",
   "metadata": {},
   "outputs": [],
   "source": [
    "rf = RandomForestClassifier()"
   ]
  },
  {
   "cell_type": "code",
   "execution_count": 89,
   "id": "c9919810",
   "metadata": {},
   "outputs": [
    {
     "data": {
      "text/plain": [
       "RandomForestClassifier()"
      ]
     },
     "execution_count": 89,
     "metadata": {},
     "output_type": "execute_result"
    }
   ],
   "source": [
    "rf.fit(X_train,y_train)"
   ]
  },
  {
   "cell_type": "code",
   "execution_count": 90,
   "id": "9b47d760",
   "metadata": {},
   "outputs": [],
   "source": [
    "y_test_pred2 = rf.predict(X_test)\n",
    "y_train_pred2 = rf.predict(X_train)"
   ]
  },
  {
   "cell_type": "code",
   "execution_count": 91,
   "id": "680e5a4a",
   "metadata": {},
   "outputs": [
    {
     "name": "stdout",
     "output_type": "stream",
     "text": [
      "Train R2_score 0.9946022907935346\n",
      "Test R2_score -0.17524332159867462\n"
     ]
    }
   ],
   "source": [
    "print(\"Train R2_score\",r2_score(y_train,y_train_pred2))\n",
    "print(\"Test R2_score\",r2_score(y_test,y_test_pred2))"
   ]
  },
  {
   "cell_type": "code",
   "execution_count": 92,
   "id": "a9f8b377",
   "metadata": {},
   "outputs": [
    {
     "name": "stdout",
     "output_type": "stream",
     "text": [
      "0.9026915113871635\n",
      "0.9995563442768411\n"
     ]
    }
   ],
   "source": [
    "print(accuracy_score(y_test, y_test_pred2))\n",
    "print(accuracy_score(y_train, y_train_pred2))"
   ]
  },
  {
   "cell_type": "markdown",
   "id": "7ea84512",
   "metadata": {},
   "source": [
    "c. Gradient Boosting model \n"
   ]
  },
  {
   "cell_type": "code",
   "execution_count": 93,
   "id": "5393a49a",
   "metadata": {},
   "outputs": [
    {
     "data": {
      "text/plain": [
       "GradientBoostingClassifier()"
      ]
     },
     "execution_count": 93,
     "metadata": {},
     "output_type": "execute_result"
    }
   ],
   "source": [
    "model = GradientBoostingClassifier()\n",
    "model.fit(X_train,y_train)"
   ]
  },
  {
   "cell_type": "code",
   "execution_count": 94,
   "id": "18c2205c",
   "metadata": {},
   "outputs": [],
   "source": [
    "y_test_pred3 = rf.predict(X_test)\n",
    "y_train_pred3 = rf.predict(X_train)"
   ]
  },
  {
   "cell_type": "code",
   "execution_count": 95,
   "id": "0e4b6bef",
   "metadata": {},
   "outputs": [
    {
     "name": "stdout",
     "output_type": "stream",
     "text": [
      "Train R2_score 0.9946022907935346\n",
      "Test R2_score -0.17524332159867462\n"
     ]
    }
   ],
   "source": [
    "print(\"Train R2_score\",r2_score(y_train,y_train_pred3))\n",
    "print(\"Test R2_score\",r2_score(y_test,y_test_pred3))"
   ]
  },
  {
   "cell_type": "code",
   "execution_count": 96,
   "id": "a2cc7dbd",
   "metadata": {},
   "outputs": [
    {
     "name": "stdout",
     "output_type": "stream",
     "text": [
      "0.9026915113871635\n",
      "0.9995563442768411\n"
     ]
    }
   ],
   "source": [
    "print(accuracy_score(y_test, y_test_pred3))\n",
    "print(accuracy_score(y_train, y_train_pred3))"
   ]
  },
  {
   "cell_type": "markdown",
   "id": "040c02e1",
   "metadata": {},
   "source": [
    "d. Stacking model "
   ]
  },
  {
   "cell_type": "code",
   "execution_count": 97,
   "id": "fd5a17d9",
   "metadata": {},
   "outputs": [
    {
     "data": {
      "text/plain": [
       "StackingClassifier(classifiers=[LogisticRegression(),\n",
       "                                DecisionTreeClassifier(max_depth=7),\n",
       "                                GradientBoostingClassifier()],\n",
       "                   meta_classifier=RandomForestClassifier(n_estimators=30))"
      ]
     },
     "execution_count": 97,
     "metadata": {},
     "output_type": "execute_result"
    }
   ],
   "source": [
    "st = StackingClassifier(classifiers=[LogisticRegression(),DecisionTreeClassifier(max_depth=7),GradientBoostingClassifier()],\n",
    "                       meta_classifier = RandomForestClassifier(n_estimators=30))\n",
    "st"
   ]
  },
  {
   "cell_type": "code",
   "execution_count": 98,
   "id": "4b38c823",
   "metadata": {},
   "outputs": [],
   "source": [
    "st.fit(X_train,y_train)\n",
    "y_test_pred4 = st.predict(X_test)\n",
    "y_train_pred4 = st.predict(X_train)"
   ]
  },
  {
   "cell_type": "code",
   "execution_count": 100,
   "id": "14e51b12",
   "metadata": {},
   "outputs": [
    {
     "name": "stdout",
     "output_type": "stream",
     "text": [
      "Train R2_score -0.025564749228432992\n",
      "Test R2_score -0.20858355767239578\n"
     ]
    }
   ],
   "source": [
    "print(\"Train R2_score\",r2_score(y_train,y_train_pred4))\n",
    "print(\"Test R2_score\",r2_score(y_test,y_test_pred4))"
   ]
  },
  {
   "cell_type": "code",
   "execution_count": 101,
   "id": "41cded0a",
   "metadata": {},
   "outputs": [
    {
     "name": "stdout",
     "output_type": "stream",
     "text": [
      "0.8999309868875086\n",
      "0.9157054125998225\n"
     ]
    }
   ],
   "source": [
    "print(accuracy_score(y_test, y_test_pred4))\n",
    "print(accuracy_score(y_train, y_train_pred4))"
   ]
  },
  {
   "cell_type": "markdown",
   "id": "511713c5",
   "metadata": {},
   "source": [
    "# 5. Check the importance of different features by using model.feature_importances_function in Python ( 2 points) "
   ]
  },
  {
   "cell_type": "code",
   "execution_count": null,
   "id": "76880f18",
   "metadata": {},
   "outputs": [],
   "source": [
    "pd.Series(dt.feature_importances_, index = X_train.columns)"
   ]
  },
  {
   "cell_type": "code",
   "execution_count": null,
   "id": "ee372e7f",
   "metadata": {},
   "outputs": [],
   "source": [
    "pd.Series(rf.feature_importances_, index = X_train.columns)"
   ]
  },
  {
   "cell_type": "code",
   "execution_count": null,
   "id": "59583dad",
   "metadata": {},
   "outputs": [],
   "source": [
    "pd.Series(model.feature_importances_, index = X_train.columns)"
   ]
  },
  {
   "cell_type": "code",
   "execution_count": null,
   "id": "d2f5b903",
   "metadata": {},
   "outputs": [],
   "source": []
  },
  {
   "cell_type": "code",
   "execution_count": null,
   "id": "79a7b6be",
   "metadata": {},
   "outputs": [],
   "source": []
  },
  {
   "cell_type": "code",
   "execution_count": null,
   "id": "5f596618",
   "metadata": {},
   "outputs": [],
   "source": []
  },
  {
   "cell_type": "code",
   "execution_count": null,
   "id": "84bf5822",
   "metadata": {},
   "outputs": [],
   "source": []
  },
  {
   "cell_type": "code",
   "execution_count": null,
   "id": "dffbb4fe",
   "metadata": {},
   "outputs": [],
   "source": []
  },
  {
   "cell_type": "code",
   "execution_count": null,
   "id": "6e3aa2cb",
   "metadata": {},
   "outputs": [],
   "source": []
  }
 ],
 "metadata": {
  "kernelspec": {
   "display_name": "Python 3",
   "language": "python",
   "name": "python3"
  },
  "language_info": {
   "codemirror_mode": {
    "name": "ipython",
    "version": 3
   },
   "file_extension": ".py",
   "mimetype": "text/x-python",
   "name": "python",
   "nbconvert_exporter": "python",
   "pygments_lexer": "ipython3",
   "version": "3.8.8"
  }
 },
 "nbformat": 4,
 "nbformat_minor": 5
}
